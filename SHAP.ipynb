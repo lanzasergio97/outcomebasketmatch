{
 "cells": [
  {
   "cell_type": "code",
   "execution_count": 9,
   "metadata": {},
   "outputs": [],
   "source": [
    "import tensorflow as tf\n",
    "from tensorflow import keras\n",
    "import externalTensor as exT\n",
    "import numpy as np\n",
    "from boxScore import boxScore\n",
    "import shap\n",
    "from lime import lime_tabular\n",
    "import pandas as pd\n"
   ]
  },
  {
   "cell_type": "markdown",
   "metadata": {},
   "source": [
    "# Preparation of Data"
   ]
  },
  {
   "cell_type": "code",
   "execution_count": 10,
   "metadata": {},
   "outputs": [],
   "source": [
    "years=\"2019-20\"\n",
    "# stats=\"traditional\"\n",
    "stats='advance'\n",
    "box_score=boxScore(years,stats)\n",
    "x_train, x_test, y_train, y_test=box_score.separation()\n",
    "y_train=np.array(y_train)"
   ]
  },
  {
   "cell_type": "markdown",
   "metadata": {},
   "source": [
    "# SHAP "
   ]
  },
  {
   "cell_type": "code",
   "execution_count": null,
   "metadata": {},
   "outputs": [],
   "source": [
    "model = tf.keras.models.load_model('saved_model_'+stats+'/bestModel') \n",
    "explainer=shap.KernelExplainer(model,x_test.iloc[:10,:])\n",
    "shap_values=explainer.shap_values(x_test.iloc[11:50,:])"
   ]
  },
  {
   "cell_type": "code",
   "execution_count": 15,
   "metadata": {},
   "outputs": [
    {
     "ename": "AttributeError",
     "evalue": "'numpy.ndarray' object has no attribute 'base_values'",
     "output_type": "error",
     "traceback": [
      "\u001b[1;31m---------------------------------------------------------------------------\u001b[0m",
      "\u001b[1;31mAttributeError\u001b[0m                            Traceback (most recent call last)",
      "\u001b[1;32md:\\UniSergio\\BasketScripts\\WaB\\SHAP.ipynb Cella 6\u001b[0m in \u001b[0;36m<cell line: 1>\u001b[1;34m()\u001b[0m\n\u001b[1;32m----> <a href='vscode-notebook-cell:/d%3A/UniSergio/BasketScripts/WaB/SHAP.ipynb#W6sZmlsZQ%3D%3D?line=0'>1</a>\u001b[0m shap\u001b[39m.\u001b[39;49mplots\u001b[39m.\u001b[39;49mwaterfall(shap_values[\u001b[39m0\u001b[39;49m])\n",
      "File \u001b[1;32md:\\UniSergio\\BasketScripts\\lib\\site-packages\\shap\\plots\\_waterfall.py:45\u001b[0m, in \u001b[0;36mwaterfall\u001b[1;34m(shap_values, max_display, show)\u001b[0m\n\u001b[0;32m     42\u001b[0m \u001b[39mif\u001b[39;00m show \u001b[39mis\u001b[39;00m \u001b[39mFalse\u001b[39;00m:\n\u001b[0;32m     43\u001b[0m     plt\u001b[39m.\u001b[39mioff()\n\u001b[1;32m---> 45\u001b[0m base_values \u001b[39m=\u001b[39m shap_values\u001b[39m.\u001b[39;49mbase_values\n\u001b[0;32m     46\u001b[0m features \u001b[39m=\u001b[39m shap_values\u001b[39m.\u001b[39mdisplay_data \u001b[39mif\u001b[39;00m shap_values\u001b[39m.\u001b[39mdisplay_data \u001b[39mis\u001b[39;00m \u001b[39mnot\u001b[39;00m \u001b[39mNone\u001b[39;00m \u001b[39melse\u001b[39;00m shap_values\u001b[39m.\u001b[39mdata\n\u001b[0;32m     47\u001b[0m feature_names \u001b[39m=\u001b[39m shap_values\u001b[39m.\u001b[39mfeature_names\n",
      "\u001b[1;31mAttributeError\u001b[0m: 'numpy.ndarray' object has no attribute 'base_values'"
     ]
    }
   ],
   "source": [
    "shap.plots.waterfall(shap_values[0])\n"
   ]
  }
 ],
 "metadata": {
  "kernelspec": {
   "display_name": "Python 3.9.13 ('BasketScripts': venv)",
   "language": "python",
   "name": "python3"
  },
  "language_info": {
   "codemirror_mode": {
    "name": "ipython",
    "version": 3
   },
   "file_extension": ".py",
   "mimetype": "text/x-python",
   "name": "python",
   "nbconvert_exporter": "python",
   "pygments_lexer": "ipython3",
   "version": "3.9.13"
  },
  "orig_nbformat": 4,
  "vscode": {
   "interpreter": {
    "hash": "f61b42334e39087fcf873d4b58ce314af401b80aed031fb5917bf158a5bb3c56"
   }
  }
 },
 "nbformat": 4,
 "nbformat_minor": 2
}
