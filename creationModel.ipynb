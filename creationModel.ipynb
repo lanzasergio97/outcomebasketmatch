{
 "cells": [
  {
   "cell_type": "code",
   "execution_count": 1,
   "metadata": {},
   "outputs": [],
   "source": [
    "import torch\n",
    "import torch.nn as nn\n",
    "\n",
    "import torch.nn.functional as F # All functions that don't have any parameters\n",
    "import numpy as np\n",
    "from  boxScore  import boxScore\n",
    "from sklearn.model_selection import KFold\n",
    "\n",
    "from torch.utils.data import DataLoader # data management \n",
    "# \n",
    "from NeuralNetwork import NN\n",
    "from DatasetPrivate import MyDataset\n",
    "import numpy as np\n",
    "\n",
    "\n",
    "import winsound\n",
    "import wandb"
   ]
  },
  {
   "cell_type": "markdown",
   "metadata": {},
   "source": [
    "# Preparation of Data"
   ]
  },
  {
   "cell_type": "code",
   "execution_count": 9,
   "metadata": {},
   "outputs": [],
   "source": [
    "years=\"2019-20\"\n",
    "# stats=\"traditional\"\n",
    "stats='advance'\n",
    "box_score=boxScore(years,stats)\n",
    "\n",
    "x_train, x_test, y_train, y_test=box_score.separation()\n",
    "y_train=np.array(y_train)\n",
    "y_test=np.array(y_test)\n",
    "\n",
    "input_size=len(x_train.columns)\n",
    "activation=['relu','sigmoid']\n",
    "number_neurons=[10,30,50,100,150,200]\n",
    "# number_neurons=[10,30]\n",
    "possible_learning_rate=[0.0001,0.001,0.01]\n",
    "# possible_learning_rate=[0.0001]\n",
    "num_epochs=500\n",
    "batch_size=150\n",
    "device = torch.device(\"cuda\" if torch.cuda.is_available() else \"cpu\")\n",
    "kf = KFold(n_splits=10, random_state=1, shuffle=True)\n",
    "train_LL=DataLoader(MyDataset(x_train,y_train),batch_size=batch_size,shuffle=False)\n",
    "test_LL=DataLoader(MyDataset(x_test,y_test),batch_size=batch_size,shuffle=False)\n",
    "kf = KFold(n_splits=10, random_state=1, shuffle=True)"
   ]
  },
  {
   "cell_type": "markdown",
   "metadata": {},
   "source": [
    "# First "
   ]
  },
  {
   "cell_type": "code",
   "execution_count": 11,
   "metadata": {},
   "outputs": [
    {
     "name": "stdout",
     "output_type": "stream",
     "text": [
      "Best model {'learning_rate': 0.001, 'num_neurons': 10, 'acti_fun': 'sigmoid', 'batch_size': 150, 'epochs': 500, 'architecture': 'OneHiddenLayer', 'dataset': '2021-22_advance', 'loss': 0.6278985142707825, 'acc': 0.8728333711624146, 'val_loss': 0.6675421595573425, 'val_acc': 0.6140000224113464}\n",
      "Best model {'learning_rate': 0.01, 'num_neurons': 30, 'acti_fun': 'sigmoid', 'batch_size': 150, 'epochs': 500, 'architecture': 'OneHiddenLayer', 'dataset': '2021-22_advance', 'loss': 0.5173345804214478, 'acc': 0.8978333473205566, 'val_loss': 1.2046533823013306, 'val_acc': 0.6079999804496765}\n",
      "Best model {'learning_rate': 0.001, 'num_neurons': 50, 'acti_fun': 'sigmoid', 'batch_size': 150, 'epochs': 500, 'architecture': 'OneHiddenLayer', 'dataset': '2021-22_advance', 'loss': 0.584811270236969, 'acc': 0.8770000338554382, 'val_loss': 0.7145747542381287, 'val_acc': 0.6100000739097595}\n",
      "Best model {'learning_rate': 0.001, 'num_neurons': 100, 'acti_fun': 'sigmoid', 'batch_size': 150, 'epochs': 500, 'architecture': 'OneHiddenLayer', 'dataset': '2021-22_advance', 'loss': 0.5966974496841431, 'acc': 0.8843333125114441, 'val_loss': 0.6935752034187317, 'val_acc': 0.6200000047683716}\n",
      "Best model {'learning_rate': 0.001, 'num_neurons': 150, 'acti_fun': 'sigmoid', 'batch_size': 150, 'epochs': 500, 'architecture': 'OneHiddenLayer', 'dataset': '2021-22_advance', 'loss': 0.5703120827674866, 'acc': 0.8926666378974915, 'val_loss': 0.7020981907844543, 'val_acc': 0.6300000548362732}\n",
      "Best model {'learning_rate': 0.01, 'num_neurons': 200, 'acti_fun': 'sigmoid', 'batch_size': 150, 'epochs': 500, 'architecture': 'OneHiddenLayer', 'dataset': '2021-22_advance', 'loss': 0.5103410482406616, 'acc': 0.8971666693687439, 'val_loss': 1.3230185508728027, 'val_acc': 0.6240000128746033}\n"
     ]
    }
   ],
   "source": [
    "best_config_array=[]\n",
    "best_history_array=[]\n",
    "for num in number_neurons:\n",
    "    best_config_tmp={'val_acc':0}\n",
    "    best_history_tmp=[]\n",
    "    for el in possible_learning_rate:\n",
    "        for act in activation:\n",
    "                \n",
    "                # Initialize model\n",
    "                model = NN(input_size=input_size,size_hidden_level=num,act=act,learning_rate=el).to(device)\n",
    "\n",
    "                \n",
    "                \n",
    "                config={\n",
    "                    \"learning_rate\":el,\n",
    "                    'num_neurons':num,\n",
    "                    'acti_fun':act,\n",
    "                    \"batch_size\": batch_size,\n",
    "                    \"epochs\": num_epochs,\n",
    "                    \"architecture\": \"OneHiddenLayer\",\n",
    "                    \"dataset\":years+\"_\"+stats\n",
    "                }\n",
    "                \n",
    "                best_config_tmp,best_history_tmp=model.MyTrain(kf=kf,config=config,best_config_tmp=best_config_tmp,\n",
    "                best_history_tmp=best_history_tmp,train_LL=train_LL,test_LL=test_LL,device=device)\n",
    "               \n",
    "                \n",
    "                    \n",
    "    print(\"Best model\",best_config_tmp)\n",
    "    best_config_array.append(best_config_tmp)\n",
    "    best_history_array.append(best_history_tmp)\n",
    "    \n",
    "# Doing the mean between the 10 fold\n",
    "for num,array in  enumerate(best_history_array):\n",
    "    tmp=[ torch.mean(array[0],axis=0),torch.mean(array[1],axis=0),torch.mean(array[2],axis=0),torch.mean(array[3],axis=0)]\n",
    "  \n",
    "    best_history_array[num]=tmp\n",
    "\n",
    "# winsound.Beep(440,2500)"
   ]
  },
  {
   "cell_type": "code",
   "execution_count": 12,
   "metadata": {},
   "outputs": [],
   "source": [
    "winsound.Beep(440,2500)"
   ]
  },
  {
   "cell_type": "code",
   "execution_count": 10,
   "metadata": {},
   "outputs": [],
   "source": [
    "def wandbWrite(project_name,best_config_array,best_history_array,name_runs):\n",
    "    for model_history,config in zip(best_history_array,best_config_array):\n",
    "        \n",
    "        \n",
    "\n",
    "        run = wandb.init(project=project_name, config=config)\n",
    "        name=name_runs+str(config[\"num_neurons\"])\n",
    "        run.name=name\n",
    "        config = wandb.config\n",
    "        for epoch in range (len(model_history[0])):\n",
    "            wandb.log({'epochs': epoch,\n",
    "                'loss': round( model_history[0][epoch].item(),3),\n",
    "                'acc': round(model_history[1][epoch].item(),3), \n",
    "                'val_loss': round(model_history[2][epoch].item(),3),\n",
    "                'val_acc':round(model_history[3][epoch].item(),3)\n",
    "                }\n",
    "                )\n",
    "        \n",
    "        run.finish()"
   ]
  },
  {
   "cell_type": "code",
   "execution_count": null,
   "metadata": {},
   "outputs": [],
   "source": [
    "wandb.login()\n",
    "\n",
    "\n",
    "\n",
    "project_name=\"T\"+stats[0:3].capitalize()+years[2:].replace(\"-\",\"\")+\"runs\"\n",
    "wandbWrite(project_name,best_config_array,best_history_array,\"onehidden_\")\n"
   ]
  },
  {
   "cell_type": "markdown",
   "metadata": {},
   "source": [
    "<!-- Best model {'learning_rate': 0.001, 'num_neurons': 10, 'acti_fun': 'relu', 'loss': 0.0193, 'acc': 0.9987, 'val_loss': 1.4627, 'val_acc': 0.6}\n",
    "Best model {'learning_rate': 0.0001, 'num_neurons': 30, 'acti_fun': 'sigmoid', 'loss': 0.4884, 'acc': 0.9517, 'val_loss': 0.6466, 'val_acc': 0.64}\n",
    "Best model {'learning_rate': 0.0001, 'num_neurons': 50, 'acti_fun': 'sigmoid', 'loss': 0.5163, 'acc': 0.9437, 'val_loss': 0.656, 'val_acc': 0.66}\n",
    "Best model {'learning_rate': 0.0001, 'num_neurons': 100, 'acti_fun': 'relu', 'loss': 0.0628, 'acc': 0.9951, 'val_loss': 0.775, 'val_acc': 0.64}\n",
    "Best model {'learning_rate': 0.001, 'num_neurons': 150, 'acti_fun': 'relu', 'loss': 0.0135, 'acc': 0.9998, 'val_loss': 1.4478, 'val_acc': 0.64}\n",
    "Best model {'learning_rate': 0.0001, 'num_neurons': 200, 'acti_fun': 'relu', 'loss': 0.0487, 'acc': 1.0, 'val_loss': 0.8261, 'val_acc': 0.64} -->"
   ]
  },
  {
   "cell_type": "markdown",
   "metadata": {},
   "source": [
    "# L2 Regolarization\n"
   ]
  },
  {
   "cell_type": "code",
   "execution_count": 11,
   "metadata": {},
   "outputs": [
    {
     "name": "stdout",
     "output_type": "stream",
     "text": [
      "Best model {'learning_rate': 0.01, 'num_neurons': 10, 'acti_fun': 'sigmoid', 'batch_size': 150, 'epochs': 500, 'pl2': 0.001, 'architecture': 'OneHiddenLayerL2', 'dataset': '2019-20_advance', 'loss': 0.5272576212882996, 'acc': 0.8816666007041931, 'val_loss': 0.8052139282226562, 'val_acc': 0.7000000476837158}\n"
     ]
    }
   ],
   "source": [
    "best_config_array=[]\n",
    "best_history_array=[]\n",
    "possible_pL2=[0.0001,0.001,0.01]\n",
    "for num in number_neurons:\n",
    "    best_config_tmp={'val_acc':0}\n",
    "    best_history_tmp=[]\n",
    "    for el in possible_learning_rate:\n",
    "        for act in activation:\n",
    "            for pl2 in possible_pL2:\n",
    "            # Initialize model\n",
    "                model = NN(input_size=input_size,size_hidden_level=num,act=act,learning_rate=el,pl2=pl2).to(device)\n",
    "\n",
    "                \n",
    "                \n",
    "                config={\n",
    "                    \"learning_rate\":el,\n",
    "                    'num_neurons':num,\n",
    "                    'acti_fun':act,\n",
    "                    \"batch_size\": batch_size,\n",
    "                    \"epochs\": num_epochs,\n",
    "                    \"pl2\":pl2,\n",
    "                    \"architecture\": \"OneHiddenLayerL2\",\n",
    "                    \"dataset\":years+\"_\"+stats\n",
    "                }\n",
    "                \n",
    "                best_config_tmp,best_history_tmp=model.MyTrain(kf=kf,config=config,best_config_tmp=best_config_tmp,\n",
    "                best_history_tmp=best_history_tmp,train_LL=train_LL,test_LL=test_LL,device=device)\n",
    "            \n",
    "                \n",
    "                    \n",
    "    print(\"Best model\",best_config_tmp)\n",
    "    best_config_array.append(best_config_tmp)\n",
    "    best_history_array.append(best_history_tmp)\n",
    "    \n",
    "# Doing the mean between the 10 fold\n",
    "for num,array in  enumerate(best_history_array):\n",
    "    tmp=[ torch.mean(array[0],axis=0),torch.mean(array[1],axis=0),torch.mean(array[2],axis=0),torch.mean(array[3],axis=0)]\n",
    "  \n",
    "    best_history_array[num]=tmp\n",
    "\n",
    "# winsound.Beep(440,2500)"
   ]
  },
  {
   "cell_type": "code",
   "execution_count": null,
   "metadata": {},
   "outputs": [],
   "source": [
    "winsound.Beep(440,2500)"
   ]
  },
  {
   "cell_type": "code",
   "execution_count": null,
   "metadata": {},
   "outputs": [],
   "source": [
    "wandb.login()\n",
    "\n",
    "project_name=\"T\"+stats[0:3].capitalize()+years[2:].replace(\"-\",\"\")+\"runs\"\n",
    "wandbWrite(project_name,best_config_array,best_history_array,\"onehiddenL2_\")\n"
   ]
  },
  {
   "cell_type": "markdown",
   "metadata": {},
   "source": [
    "# Dropout"
   ]
  },
  {
   "cell_type": "code",
   "execution_count": null,
   "metadata": {},
   "outputs": [],
   "source": [
    "best_config_array=[]\n",
    "best_history_array=[]\n",
    "possible_p=[0.5,0.6,0.65]\n",
    "for num in number_neurons:\n",
    "    best_config_tmp={'val_acc':0}\n",
    "    best_history_tmp=[]\n",
    "    for el in possible_learning_rate:\n",
    "        for act in activation:\n",
    "            for p in possible_p:\n",
    "            # Initialize model\n",
    "                model = NN(input_size=input_size,size_hidden_level=num,act=act,learning_rate=el,dropout=p).to(device)\n",
    "\n",
    "                \n",
    "                \n",
    "                config={\n",
    "                    \"learning_rate\":el,\n",
    "                    'num_neurons':num,\n",
    "                    'acti_fun':act,\n",
    "                    \"batch_size\": batch_size,\n",
    "                    \"epochs\": num_epochs,\n",
    "                    \"drop_rate\":p,\n",
    "                    \"architecture\": \"OneHiddenLayerDropout\",\n",
    "                    \"dataset\":years+\"_\"+stats\n",
    "                }\n",
    "                \n",
    "                best_config_tmp,best_history_tmp=model.MyTrain(kf=kf,config=config,best_config_tmp=best_config_tmp,\n",
    "                best_history_tmp=best_history_tmp,train_LL=train_LL,test_LL=test_LL,device=device)\n",
    "            \n",
    "                \n",
    "                    \n",
    "    print(\"Best model\",best_config_tmp)\n",
    "    best_config_array.append(best_config_tmp)\n",
    "    best_history_array.append(best_history_tmp)\n",
    "    \n",
    "# Doing the mean between the 10 fold\n",
    "for num,array in  enumerate(best_history_array):\n",
    "    tmp=[ torch.mean(array[0],axis=0),torch.mean(array[1],axis=0),torch.mean(array[2],axis=0),torch.mean(array[3],axis=0)]\n",
    "  \n",
    "    best_history_array[num]=tmp\n",
    "\n"
   ]
  },
  {
   "cell_type": "code",
   "execution_count": null,
   "metadata": {},
   "outputs": [],
   "source": [
    "winsound.Beep(440,2500)"
   ]
  },
  {
   "cell_type": "code",
   "execution_count": null,
   "metadata": {},
   "outputs": [],
   "source": [
    "wandb.login()\n",
    "\n",
    "project_name=\"T\"+stats[0:3].capitalize()+years[2:].replace(\"-\",\"\")+\"runs\"\n",
    "\n",
    "wandbWrite(project_name,best_config_array,best_history_array,\"onehiddenDrop_\")"
   ]
  },
  {
   "cell_type": "markdown",
   "metadata": {},
   "source": [
    "# AUTOENCODERS ONE LEVEL"
   ]
  },
  {
   "cell_type": "code",
   "execution_count": null,
   "metadata": {},
   "outputs": [],
   "source": [
    "\n",
    "\n",
    "combination_of_neurons=[[20,10],[15,5]]\n",
    "for comb in combination_of_neurons:\n",
    "    best_config_tmp={'val_acc':0}\n",
    "    for el in possible_learning_rate:\n",
    "    \n",
    "        autoencoder,encoder,decoder = exT.autoencoderOneLevel(input_dimension,comb[0],comb[1])\n",
    "        loss_fn = tf.keras.losses.BinaryCrossentropy()               \n",
    "        autoencoder.compile(optimizer=\"adam\",loss=loss_fn,metrics=['accuracy'])\n",
    "        config={\n",
    "                \"learning_rate\":el,\n",
    "                'num_neurons':comb,\n",
    "                'acti_fun':\"relu\"\n",
    "                \n",
    "            }\n",
    "        tik=autoencoder.fit(x_train,x_train,batch_size=200,verbose=False,epochs=50,validation_data=(x_test,x_test))\n",
    "        config['val_acc']=tik.history['val_accuracy'][-1]\n",
    "        if(config['val_acc']>best_config_tmp['val_acc']):\n",
    "                    bestModel=autoencoder\n",
    "                    best_config_tmp=config\n",
    "                 \n",
    "    print(\"Best model\",best_config_tmp)\n",
    "    # bestModelArray.append(bestModel)"
   ]
  },
  {
   "cell_type": "code",
   "execution_count": null,
   "metadata": {},
   "outputs": [],
   "source": [
    "model = tf.keras.models.load_model('saved_model_'+stats+'/bestModel')\n",
    "\n",
    "optimizer = keras.optimizers.SGD(learning_rate=el)\n",
    "                # Instantiate  loss function.\n",
    "loss_fn = tf.keras.losses.BinaryCrossentropy()\n",
    "\n",
    "model.compile(optimizer=optimizer,loss=loss_fn,metrics=['accuracy'])"
   ]
  },
  {
   "cell_type": "markdown",
   "metadata": {},
   "source": [
    "# AUTOENCODERS SECOND LEVEL"
   ]
  },
  {
   "cell_type": "code",
   "execution_count": null,
   "metadata": {},
   "outputs": [],
   "source": [
    "combination_of_neurons=[[20,15,5],[15,10,5]]\n",
    "for comb in combination_of_neurons:\n",
    "    best_config_tmp={'val_acc':0}\n",
    "    for el in possible_learning_rate:\n",
    "    \n",
    "        autoencoder,encoder,decoder = exT.autoencoderTwoLevels(input_dimension,comb[0],comb[1],comb[2])\n",
    "        loss_fn = tf.keras.losses.BinaryCrossentropy()               \n",
    "        autoencoder.compile(optimizer=\"adam\",loss=loss_fn,metrics=['accuracy'])\n",
    "        config={\n",
    "                \"learning_rate\":el,\n",
    "                'num_neurons':comb,\n",
    "                'acti_fun':\"relu\"\n",
    "                \n",
    "            }\n",
    "        tik=autoencoder.fit(x_train,x_train,batch_size=200,verbose=False,epochs=50,validation_data=(x_test,x_test))\n",
    "        config['val_acc']=tik.history['val_accuracy'][-1]\n",
    "        if(config['val_acc']>best_config_tmp['val_acc']):\n",
    "                    bestModel=autoencoder\n",
    "                    best_config_tmp=config\n",
    "                 \n",
    "    print(\"Best model\",best_config_tmp)"
   ]
  },
  {
   "cell_type": "markdown",
   "metadata": {},
   "source": [
    "# Random Forest"
   ]
  },
  {
   "cell_type": "code",
   "execution_count": null,
   "metadata": {},
   "outputs": [],
   "source": [
    "from sklearn.ensemble import RandomForestClassifier\n",
    "best_acc=-1\n",
    "for el in range(2,10):\n",
    "    clf=RandomForestClassifier(max_depth=el, random_state=42)\n",
    "    clf.fit(x_train,y_train)\n",
    "    config=clf.predict(x_test)\n",
    "    count=0\n",
    "    for x,y in zip(config,y_test):\n",
    "        if(x[0]==y[0]):\n",
    "            count+=1\n",
    "    acc=count/len(x_test)\n",
    "    if acc> best_acc:\n",
    "        best_acc=acc\n",
    "print(best_acc,el)"
   ]
  },
  {
   "cell_type": "code",
   "execution_count": null,
   "metadata": {},
   "outputs": [],
   "source": [
    "para_y_train=[]\n",
    "for el1 in y_train:\n",
    "    tmp=1\n",
    "    if(el1[0]==1):\n",
    "        tmp=0\n",
    "    para_y_train.append(tmp)"
   ]
  },
  {
   "cell_type": "code",
   "execution_count": null,
   "metadata": {},
   "outputs": [],
   "source": [
    "from sklearn.ensemble import RandomForestClassifier\n",
    "best_acc=-1\n",
    "for el in range(2,10):\n",
    "    clf=RandomForestClassifier(n_estimators=100,max_depth=el, random_state=42)\n",
    "    clf.fit(x_train,para_y_train)\n",
    "    config=clf.predict(x_test)\n",
    "    count=0\n",
    "    for x,y in zip(config,y_test):\n",
    "        if(x==y[1]):\n",
    "            count+=1\n",
    "    acc=count/len(x_test)\n",
    "    if acc> best_acc:\n",
    "        best_acc=acc\n",
    "print(best_acc,el)"
   ]
  },
  {
   "cell_type": "markdown",
   "metadata": {},
   "source": [
    "# ADA"
   ]
  },
  {
   "cell_type": "code",
   "execution_count": null,
   "metadata": {},
   "outputs": [],
   "source": [
    "from sklearn.ensemble import AdaBoostClassifier\n",
    "\n",
    "best_acc=-1\n",
    "clf = AdaBoostClassifier(n_estimators=100, random_state=42)\n",
    "clf.fit(x_train,para_y_train)\n",
    "config=clf.predict(x_test)\n",
    "count=0\n",
    "for x,y in zip(config,y_test):\n",
    "    if(x==y[1]):\n",
    "        count+=1\n",
    "acc=count/len(x_test)\n",
    "if acc> best_acc:\n",
    "    best_acc=acc\n",
    "print(best_acc)"
   ]
  }
 ],
 "metadata": {
  "kernelspec": {
   "display_name": "Python 3.8.15 ('pytuurc')",
   "language": "python",
   "name": "python3"
  },
  "language_info": {
   "codemirror_mode": {
    "name": "ipython",
    "version": 3
   },
   "file_extension": ".py",
   "mimetype": "text/x-python",
   "name": "python",
   "nbconvert_exporter": "python",
   "pygments_lexer": "ipython3",
   "version": "3.8.15"
  },
  "orig_nbformat": 4,
  "vscode": {
   "interpreter": {
    "hash": "dd9d223d7b292a42db683c98874d74c150e8963ab9dd36c634c4894e65f31ff8"
   }
  }
 },
 "nbformat": 4,
 "nbformat_minor": 2
}
