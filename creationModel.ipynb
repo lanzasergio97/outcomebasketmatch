{
 "cells": [
  {
   "cell_type": "code",
   "execution_count": 1,
   "metadata": {},
   "outputs": [],
   "source": [
    "import torch\n",
    "import torch.nn as nn\n",
    "\n",
    "import torch.nn.functional as F # All functions that don't have any parameters\n",
    "import numpy as np\n",
    "from  boxScore  import boxScore\n",
    "from sklearn.model_selection import KFold\n",
    "\n",
    "from torch.utils.data import DataLoader # data management \n",
    "# \n",
    "from NeuralNetwork import NN\n",
    "from DatasetPrivate import MyDataset\n",
    "import numpy as np\n",
    "\n",
    "\n",
    "import winsound\n",
    "import wandb"
   ]
  },
  {
   "cell_type": "markdown",
   "metadata": {},
   "source": [
    "# Preparation of Data"
   ]
  },
  {
   "cell_type": "code",
   "execution_count": 2,
   "metadata": {},
   "outputs": [],
   "source": [
    "years=\"2019-20\"\n",
    "stats=\"traditional\"\n",
    "# stats='advance'\n",
    "box_score=boxScore(years,stats)\n",
    "\n",
    "x_train, x_test, y_train, y_test=box_score.separation()\n",
    "y_train=np.array(y_train)\n",
    "y_test=np.array(y_test)\n",
    "\n",
    "input_size=len(x_train.columns)\n",
    "activation=['relu','sigmoid']\n",
    "number_neurons=[10,30,50,100,150,200]\n",
    "# number_neurons=[10,30]\n",
    "possible_learning_rate=[0.0001,0.001,0.01]\n",
    "# possible_learning_rate=[0.0001]\n",
    "num_epochs=500\n",
    "batch_size=150\n",
    "device = torch.device(\"cuda\" if torch.cuda.is_available() else \"cpu\")\n",
    "kf = KFold(n_splits=10, random_state=1, shuffle=True)\n",
    "train_LL=DataLoader(MyDataset(x_train,y_train),batch_size=batch_size,shuffle=False)\n",
    "test_LL=DataLoader(MyDataset(x_test,y_test),batch_size=batch_size,shuffle=False)\n",
    "kf = KFold(n_splits=10, random_state=1, shuffle=True)"
   ]
  },
  {
   "cell_type": "markdown",
   "metadata": {},
   "source": [
    "# First "
   ]
  },
  {
   "cell_type": "code",
   "execution_count": 11,
   "metadata": {},
   "outputs": [
    {
     "name": "stdout",
     "output_type": "stream",
     "text": [
      "Best model {'learning_rate': 0.001, 'num_neurons': 10, 'acti_fun': 'sigmoid', 'batch_size': 150, 'epochs': 500, 'architecture': 'OneHiddenLayer', 'dataset': '2021-22_advance', 'loss': 0.6278985142707825, 'acc': 0.8728333711624146, 'val_loss': 0.6675421595573425, 'val_acc': 0.6140000224113464}\n",
      "Best model {'learning_rate': 0.01, 'num_neurons': 30, 'acti_fun': 'sigmoid', 'batch_size': 150, 'epochs': 500, 'architecture': 'OneHiddenLayer', 'dataset': '2021-22_advance', 'loss': 0.5173345804214478, 'acc': 0.8978333473205566, 'val_loss': 1.2046533823013306, 'val_acc': 0.6079999804496765}\n",
      "Best model {'learning_rate': 0.001, 'num_neurons': 50, 'acti_fun': 'sigmoid', 'batch_size': 150, 'epochs': 500, 'architecture': 'OneHiddenLayer', 'dataset': '2021-22_advance', 'loss': 0.584811270236969, 'acc': 0.8770000338554382, 'val_loss': 0.7145747542381287, 'val_acc': 0.6100000739097595}\n",
      "Best model {'learning_rate': 0.001, 'num_neurons': 100, 'acti_fun': 'sigmoid', 'batch_size': 150, 'epochs': 500, 'architecture': 'OneHiddenLayer', 'dataset': '2021-22_advance', 'loss': 0.5966974496841431, 'acc': 0.8843333125114441, 'val_loss': 0.6935752034187317, 'val_acc': 0.6200000047683716}\n",
      "Best model {'learning_rate': 0.001, 'num_neurons': 150, 'acti_fun': 'sigmoid', 'batch_size': 150, 'epochs': 500, 'architecture': 'OneHiddenLayer', 'dataset': '2021-22_advance', 'loss': 0.5703120827674866, 'acc': 0.8926666378974915, 'val_loss': 0.7020981907844543, 'val_acc': 0.6300000548362732}\n",
      "Best model {'learning_rate': 0.01, 'num_neurons': 200, 'acti_fun': 'sigmoid', 'batch_size': 150, 'epochs': 500, 'architecture': 'OneHiddenLayer', 'dataset': '2021-22_advance', 'loss': 0.5103410482406616, 'acc': 0.8971666693687439, 'val_loss': 1.3230185508728027, 'val_acc': 0.6240000128746033}\n"
     ]
    }
   ],
   "source": [
    "best_config_array=[]\n",
    "best_history_array=[]\n",
    "for num in number_neurons:\n",
    "    best_config_tmp={'val_acc':0}\n",
    "    best_history_tmp=[]\n",
    "    for el in possible_learning_rate:\n",
    "        for act in activation:\n",
    "                \n",
    "                # Initialize model\n",
    "                model = NN(input_size=input_size,size_hidden_level=num,act=act,learning_rate=el).to(device)\n",
    "\n",
    "                \n",
    "                \n",
    "                config={\n",
    "                    \"learning_rate\":el,\n",
    "                    'num_neurons':num,\n",
    "                    'acti_fun':act,\n",
    "                    \"batch_size\": batch_size,\n",
    "                    \"epochs\": num_epochs,\n",
    "                    \"architecture\": \"OneHiddenLayer\",\n",
    "                    \"dataset\":years+\"_\"+stats\n",
    "                }\n",
    "                \n",
    "                best_config_tmp,best_history_tmp=model.MyTrain(kf=kf,config=config,best_config_tmp=best_config_tmp,\n",
    "                best_history_tmp=best_history_tmp,train_LL=train_LL,test_LL=test_LL,device=device)\n",
    "               \n",
    "                \n",
    "                    \n",
    "    print(\"Best model\",best_config_tmp)\n",
    "    best_config_array.append(best_config_tmp)\n",
    "    best_history_array.append(best_history_tmp)\n",
    "    \n",
    "# Doing the mean between the 10 fold\n",
    "for num,array in  enumerate(best_history_array):\n",
    "    tmp=[ torch.mean(array[0],axis=0),torch.mean(array[1],axis=0),torch.mean(array[2],axis=0),torch.mean(array[3],axis=0)]\n",
    "  \n",
    "    best_history_array[num]=tmp\n",
    "\n",
    "# winsound.Beep(440,2500)"
   ]
  },
  {
   "cell_type": "code",
   "execution_count": 12,
   "metadata": {},
   "outputs": [],
   "source": [
    "winsound.Beep(440,2500)"
   ]
  },
  {
   "cell_type": "code",
   "execution_count": 3,
   "metadata": {},
   "outputs": [],
   "source": [
    "def wandbWrite(project_name,best_config_array,best_history_array,name_runs):\n",
    "    for model_history,config in zip(best_history_array,best_config_array):\n",
    "        \n",
    "\n",
    "        run = wandb.init(project=project_name, config=config)\n",
    "        name=name_runs+str(config[\"num_neurons\"])\n",
    "        run.name=name\n",
    "       \n",
    "        config = wandb.config\n",
    "        for epoch in range (len(model_history[0])):\n",
    "            wandb.log({'epochs': epoch,\n",
    "                'loss': round( model_history[0][epoch].item(),3),\n",
    "                'acc': round(model_history[1][epoch].item(),3), \n",
    "                'val_loss': round(model_history[2][epoch].item(),3),\n",
    "                'val_acc':round(model_history[3][epoch].item(),3)\n",
    "                }\n",
    "                )\n",
    "        \n",
    "        run.finish()"
   ]
  },
  {
   "cell_type": "code",
   "execution_count": null,
   "metadata": {},
   "outputs": [],
   "source": [
    "wandb.login()\n",
    "\n",
    "\n",
    "\n",
    "project_name=\"T\"+stats[0:3].capitalize()+years[2:].replace(\"-\",\"\")+\"runs\"\n",
    "wandbWrite(project_name,best_config_array,best_history_array,\"onehidden_\")\n"
   ]
  },
  {
   "cell_type": "code",
   "execution_count": null,
   "metadata": {},
   "outputs": [],
   "source": []
  },
  {
   "cell_type": "markdown",
   "metadata": {},
   "source": [
    "<!-- Best model {'learning_rate': 0.001, 'num_neurons': 10, 'acti_fun': 'relu', 'loss': 0.0193, 'acc': 0.9987, 'val_loss': 1.4627, 'val_acc': 0.6}\n",
    "Best model {'learning_rate': 0.0001, 'num_neurons': 30, 'acti_fun': 'sigmoid', 'loss': 0.4884, 'acc': 0.9517, 'val_loss': 0.6466, 'val_acc': 0.64}\n",
    "Best model {'learning_rate': 0.0001, 'num_neurons': 50, 'acti_fun': 'sigmoid', 'loss': 0.5163, 'acc': 0.9437, 'val_loss': 0.656, 'val_acc': 0.66}\n",
    "Best model {'learning_rate': 0.0001, 'num_neurons': 100, 'acti_fun': 'relu', 'loss': 0.0628, 'acc': 0.9951, 'val_loss': 0.775, 'val_acc': 0.64}\n",
    "Best model {'learning_rate': 0.001, 'num_neurons': 150, 'acti_fun': 'relu', 'loss': 0.0135, 'acc': 0.9998, 'val_loss': 1.4478, 'val_acc': 0.64}\n",
    "Best model {'learning_rate': 0.0001, 'num_neurons': 200, 'acti_fun': 'relu', 'loss': 0.0487, 'acc': 1.0, 'val_loss': 0.8261, 'val_acc': 0.64} -->"
   ]
  },
  {
   "cell_type": "markdown",
   "metadata": {},
   "source": [
    "# L2 Regolarization\n"
   ]
  },
  {
   "cell_type": "code",
   "execution_count": 4,
   "metadata": {},
   "outputs": [],
   "source": [
    "best_config_array=[]\n",
    "best_history_array=[]\n",
    "possible_pL2=[0.0001,0.001,0.01]\n",
    "for num in number_neurons:\n",
    "    best_config_tmp={'val_acc':0}\n",
    "    best_history_tmp=[]\n",
    "    for el in possible_learning_rate:\n",
    "        for act in activation:\n",
    "                for pl2 in possible_pL2:\n",
    "                # Initialize model\n",
    "                    model = NN(input_size=input_size,size_hidden_level=num,act=act,learning_rate=el,pl2=pl2).to(device)\n",
    "\n",
    "                    \n",
    "                    \n",
    "                    config={\n",
    "                        \"learning_rate\":el,\n",
    "                        'num_neurons':num,\n",
    "                        'acti_fun':act,\n",
    "                        \"batch_size\": batch_size,\n",
    "                        \"epochs\": num_epochs,\n",
    "                        \"architecture\": \"OneHiddenLayerL2\",\n",
    "                        \"dataset\":years+\"_\"+stats\n",
    "                    }\n",
    "                    \n",
    "                    best_config_tmp,best_history_tmp=model.MyTrain(kf=kf,config=config,best_config_tmp=best_config_tmp,\n",
    "                    best_history_tmp=best_history_tmp,train_LL=train_LL,test_LL=test_LL,device=device)\n",
    "               \n",
    "                \n",
    "                    \n",
    "    print(\"Best model\",best_config_tmp)\n",
    "    best_config_array.append(best_config_array)\n",
    "    best_history_array.append(best_history_tmp)\n",
    "    \n",
    "# Doing the mean between the 10 fold\n",
    "for num,array in  enumerate(best_history_array):\n",
    "    tmp=[ torch.mean(array[0],axis=0),torch.mean(array[1],axis=0),torch.mean(array[2],axis=0),torch.mean(array[3],axis=0)]\n",
    "  \n",
    "    best_history_array[num]=tmp\n",
    "\n",
    "# winsound.Beep(440,2500)"
   ]
  },
  {
   "cell_type": "code",
   "execution_count": null,
   "metadata": {},
   "outputs": [],
   "source": [
    "winsound.Beep(440,2500)"
   ]
  },
  {
   "cell_type": "code",
   "execution_count": null,
   "metadata": {},
   "outputs": [],
   "source": [
    "wandb.login()\n",
    "\n",
    "project_name=\"T\"+stats[0:3].capitalize()+years[2:].replace(\"-\",\"\")+\"runs\"\n",
    "\n",
    "wandbWrite(project_name,best_config_array,best_history_array,\"onehiddenL2_\")"
   ]
  },
  {
   "cell_type": "markdown",
   "metadata": {},
   "source": [
    "# Dropout"
   ]
  },
  {
   "cell_type": "code",
   "execution_count": 7,
   "metadata": {},
   "outputs": [
    {
     "name": "stdout",
     "output_type": "stream",
     "text": [
      "Best model {'learning_rate': 0.001, 'num_neurons': 10, 'acti_fun': 'relu', 'batch_size': 200, 'epochs': 500, 'architecture': 'OneHiddenLayerDropout', 'p-dropout': 0.65, 'dataset': '2018-19_advance', 'loss': 0.39072625480294226, 'acc': 0.7926951850295066, 'val_loss': 0.8883051662802697, 'val_acc': 0.6718120088160038}\n",
      "Best model {'learning_rate': 0.001, 'num_neurons': 30, 'acti_fun': 'sigmoid', 'batch_size': 200, 'epochs': 500, 'architecture': 'OneHiddenLayerDropout', 'p-dropout': 0.5, 'dataset': '2018-19_advance', 'loss': 0.2458475072979927, 'acc': 0.9268818527936935, 'val_loss': 0.7030181465148926, 'val_acc': 0.6994760139942169}\n",
      "Best model {'learning_rate': 0.001, 'num_neurons': 50, 'acti_fun': 'relu', 'batch_size': 200, 'epochs': 500, 'architecture': 'OneHiddenLayerDropout', 'p-dropout': 0.5, 'dataset': '2018-19_advance', 'loss': 0.06124678832888603, 'acc': 0.977505923640728, 'val_loss': 1.589766433620453, 'val_acc': 0.6798440065443516}\n",
      "Best model {'learning_rate': 0.0001, 'num_neurons': 100, 'acti_fun': 'relu', 'batch_size': 200, 'epochs': 500, 'architecture': 'OneHiddenLayerDropout', 'p-dropout': 0.6, 'dataset': '2018-19_advance', 'loss': 0.19107864431366325, 'acc': 0.9464911108434201, 'val_loss': 0.7511260368585586, 'val_acc': 0.7056320102989674}\n",
      "Best model {'learning_rate': 0.0001, 'num_neurons': 150, 'acti_fun': 'relu', 'batch_size': 200, 'epochs': 500, 'architecture': 'OneHiddenLayerDropout', 'p-dropout': 0.6, 'dataset': '2018-19_advance', 'loss': 0.1597053981333971, 'acc': 0.9626874078273773, 'val_loss': 0.8190802908658982, 'val_acc': 0.6977000014066697}\n",
      "Best model {'learning_rate': 0.0001, 'num_neurons': 200, 'acti_fun': 'relu', 'batch_size': 200, 'epochs': 500, 'architecture': 'OneHiddenLayerDropout', 'p-dropout': 0.5, 'dataset': '2018-19_advance', 'loss': 0.1371124222353101, 'acc': 0.9716862977981567, 'val_loss': 0.8102299734354019, 'val_acc': 0.7000039960324764}\n"
     ]
    }
   ],
   "source": [
    "best_model_array=[]\n",
    "best_config_array=[]\n",
    "best_history_array=[]\n",
    "possible_p=[0.5,0.6,0.65]\n",
    "for num in number_neurons:\n",
    "    best_config_tmp={'val_acc':0}\n",
    "    best_history_tmp=[]\n",
    "    for el in possible_learning_rate:\n",
    "        for act in activation:\n",
    "            for p in possible_p:\n",
    "                # Initialize model\n",
    "                model = exT.makeModelDropout(num,act,input_dimension,p)\n",
    "                \n",
    "                # Instantiate an optimizer to train the model.\n",
    "                optimizer = keras.optimizers.SGD(learning_rate=el)\n",
    "                # Instantiate loss function.\n",
    "                loss_fn = tf.keras.losses.BinaryCrossentropy()\n",
    "                model.compile(optimizer=optimizer,loss=loss_fn,metrics=['accuracy'])\n",
    "                config={\n",
    "                    \"learning_rate\":el,\n",
    "                    'num_neurons':num,\n",
    "                    'acti_fun':act,\n",
    "                    \"batch_size\": 200,\n",
    "                    \"epochs\": epochs,\n",
    "                    \"architecture\": \"OneHiddenLayerDropout\",\n",
    "                    'p-dropout':p,\n",
    "                    \"dataset\":years+\"_\"+stats\n",
    "                }\n",
    "                \n",
    "               \n",
    "\n",
    "                config,history=exT.trainModelCrossValidation(config,x_train,y_train,\n",
    "                    x_test, y_test, \n",
    "                    model,\n",
    "                    kf,\n",
    "                    500\n",
    "                   \n",
    "                )\n",
    "                \n",
    "                #Saved the best model based on the accuracy\n",
    "                if(config['val_acc']>best_config_tmp['val_acc']):\n",
    "                    bestModel=model\n",
    "                    best_config_tmp=config\n",
    "                    best_history_tmp=history    \n",
    "                    \n",
    "                \n",
    "    print(\"Best model\",best_config_tmp)\n",
    "    best_model_array.append(bestModel)\n",
    "    best_config_array.append(best_config_tmp)\n",
    "    best_history_array.append(best_history_tmp)\n",
    "winsound.Beep(440,2500)"
   ]
  },
  {
   "cell_type": "code",
   "execution_count": 10,
   "metadata": {},
   "outputs": [
    {
     "data": {
      "text/html": [
       "wandb version 0.13.5 is available!  To upgrade, please run:\n",
       " $ pip install wandb --upgrade"
      ],
      "text/plain": [
       "<IPython.core.display.HTML object>"
      ]
     },
     "metadata": {},
     "output_type": "display_data"
    },
    {
     "data": {
      "text/html": [
       "Tracking run with wandb version 0.13.2"
      ],
      "text/plain": [
       "<IPython.core.display.HTML object>"
      ]
     },
     "metadata": {},
     "output_type": "display_data"
    },
    {
     "data": {
      "text/html": [
       "Run data is saved locally in <code>d:\\UniSergio\\BasketScripts\\WaB\\wandb\\run-20221124_120151-3b9r9qxz</code>"
      ],
      "text/plain": [
       "<IPython.core.display.HTML object>"
      ]
     },
     "metadata": {},
     "output_type": "display_data"
    },
    {
     "data": {
      "text/html": [
       "Syncing run <strong><a href=\"https://wandb.ai/progettobasket/TAdv1819runs/runs/3b9r9qxz\" target=\"_blank\">volcanic-snow-13</a></strong> to <a href=\"https://wandb.ai/progettobasket/TAdv1819runs\" target=\"_blank\">Weights & Biases</a> (<a href=\"https://wandb.me/run\" target=\"_blank\">docs</a>)<br/>"
      ],
      "text/plain": [
       "<IPython.core.display.HTML object>"
      ]
     },
     "metadata": {},
     "output_type": "display_data"
    },
    {
     "data": {
      "text/html": [
       "Waiting for W&B process to finish... <strong style=\"color:green\">(success).</strong>"
      ],
      "text/plain": [
       "<IPython.core.display.HTML object>"
      ]
     },
     "metadata": {},
     "output_type": "display_data"
    },
    {
     "data": {
      "text/html": [
       "<style>\n",
       "    table.wandb td:nth-child(1) { padding: 0 10px; text-align: left ; width: auto;} td:nth-child(2) {text-align: left ; width: 100%}\n",
       "    .wandb-row { display: flex; flex-direction: row; flex-wrap: wrap; justify-content: flex-start; width: 100% }\n",
       "    .wandb-col { display: flex; flex-direction: column; flex-basis: 100%; flex: 1; padding: 10px; }\n",
       "    </style>\n",
       "<div class=\"wandb-row\"><div class=\"wandb-col\"><h3>Run history:</h3><br/><table class=\"wandb\"><tr><td>acc</td><td>▂▁▁▂▂▃▂▃▄▃▂▃▂▅▄▆▅▄▄█▃▄▇▅▅▄▇▃▄▄▃▅▄▄▇▇▃▅▅▆</td></tr><tr><td>epochs</td><td>▁▁▁▂▂▂▂▂▂▃▃▃▃▃▄▄▄▄▄▄▅▅▅▅▅▅▆▆▆▆▆▇▇▇▇▇▇███</td></tr><tr><td>loss</td><td>█▇█▇▆▆▇▆▅▆▆▆▇▄▆▄▄▅▅▃▅▅▃▄▄▄▂▄▄▃▅▃▃▃▁▁▅▃▃▂</td></tr><tr><td>val_acc</td><td>▂▅▃▅▅▄▅▂▃▂▆▇▇▃▆▄▇▆▅▅▇▅▅▃▅▇▅▅▅▇▅▅█▆▄▄▇▇▁▄</td></tr><tr><td>val_loss</td><td>▄▃▃▃▁▂▃▄▇▂▃▂▄▆▃▃▄▃▃▆▄▇█▇▄▃▇▄▄▆█▇▃█▆▇▂▇█▆</td></tr></table><br/></div><div class=\"wandb-col\"><h3>Run summary:</h3><br/><table class=\"wandb\"><tr><td>acc</td><td>0.797</td></tr><tr><td>epochs</td><td>499</td></tr><tr><td>loss</td><td>0.377</td></tr><tr><td>val_acc</td><td>0.678</td></tr><tr><td>val_loss</td><td>0.971</td></tr></table><br/></div></div>"
      ],
      "text/plain": [
       "<IPython.core.display.HTML object>"
      ]
     },
     "metadata": {},
     "output_type": "display_data"
    },
    {
     "data": {
      "text/html": [
       "Synced <strong style=\"color:#cdcd00\">volcanic-snow-13</strong>: <a href=\"https://wandb.ai/progettobasket/TAdv1819runs/runs/3b9r9qxz\" target=\"_blank\">https://wandb.ai/progettobasket/TAdv1819runs/runs/3b9r9qxz</a><br/>Synced 4 W&B file(s), 0 media file(s), 0 artifact file(s) and 0 other file(s)"
      ],
      "text/plain": [
       "<IPython.core.display.HTML object>"
      ]
     },
     "metadata": {},
     "output_type": "display_data"
    },
    {
     "data": {
      "text/html": [
       "Find logs at: <code>.\\wandb\\run-20221124_120151-3b9r9qxz\\logs</code>"
      ],
      "text/plain": [
       "<IPython.core.display.HTML object>"
      ]
     },
     "metadata": {},
     "output_type": "display_data"
    },
    {
     "data": {
      "text/html": [
       "wandb version 0.13.5 is available!  To upgrade, please run:\n",
       " $ pip install wandb --upgrade"
      ],
      "text/plain": [
       "<IPython.core.display.HTML object>"
      ]
     },
     "metadata": {},
     "output_type": "display_data"
    },
    {
     "data": {
      "text/html": [
       "Tracking run with wandb version 0.13.2"
      ],
      "text/plain": [
       "<IPython.core.display.HTML object>"
      ]
     },
     "metadata": {},
     "output_type": "display_data"
    },
    {
     "data": {
      "text/html": [
       "Run data is saved locally in <code>d:\\UniSergio\\BasketScripts\\WaB\\wandb\\run-20221124_120157-o2ydi96h</code>"
      ],
      "text/plain": [
       "<IPython.core.display.HTML object>"
      ]
     },
     "metadata": {},
     "output_type": "display_data"
    },
    {
     "data": {
      "text/html": [
       "Syncing run <strong><a href=\"https://wandb.ai/progettobasket/TAdv1819runs/runs/o2ydi96h\" target=\"_blank\">polished-cosmos-14</a></strong> to <a href=\"https://wandb.ai/progettobasket/TAdv1819runs\" target=\"_blank\">Weights & Biases</a> (<a href=\"https://wandb.me/run\" target=\"_blank\">docs</a>)<br/>"
      ],
      "text/plain": [
       "<IPython.core.display.HTML object>"
      ]
     },
     "metadata": {},
     "output_type": "display_data"
    },
    {
     "data": {
      "text/html": [
       "Waiting for W&B process to finish... <strong style=\"color:green\">(success).</strong>"
      ],
      "text/plain": [
       "<IPython.core.display.HTML object>"
      ]
     },
     "metadata": {},
     "output_type": "display_data"
    },
    {
     "data": {
      "text/html": [
       "<style>\n",
       "    table.wandb td:nth-child(1) { padding: 0 10px; text-align: left ; width: auto;} td:nth-child(2) {text-align: left ; width: 100%}\n",
       "    .wandb-row { display: flex; flex-direction: row; flex-wrap: wrap; justify-content: flex-start; width: 100% }\n",
       "    .wandb-col { display: flex; flex-direction: column; flex-basis: 100%; flex: 1; padding: 10px; }\n",
       "    </style>\n",
       "<div class=\"wandb-row\"><div class=\"wandb-col\"><h3>Run history:</h3><br/><table class=\"wandb\"><tr><td>acc</td><td>▁▁▂▂▂▃▂▃▃▄▃▃▄▅▄▅▅▅▆▆▆▅▅▆▆▆▅▆▆▇▇█▆▇▇▇▇▇█▇</td></tr><tr><td>epochs</td><td>▁▁▁▂▂▂▂▂▂▃▃▃▃▃▄▄▄▄▄▄▅▅▅▅▅▅▆▆▆▆▆▇▇▇▇▇▇███</td></tr><tr><td>loss</td><td>█▆▆▆▆▅▆▅▅▅▅▄▄▃▄▃▄▃▃▃▃▃▃▂▂▂▃▂▂▂▂▁▂▂▂▁▁▁▁▁</td></tr><tr><td>val_acc</td><td>▁▁▁▁▄▃▁▁▃▃▂▃▄▃▆▅▅▆▄▃█▅▇▅▁▆▃▃▆▂▆▃▄▅▇▆█▇▅▅</td></tr><tr><td>val_loss</td><td>█▅▃▃▂▂▂▃▂▂▃▂▁▂▂▃▂▂▃▃▃▃▃▄▅▄▄▄▄▄▅▆▅▅▅▅▆▅▅▆</td></tr></table><br/></div><div class=\"wandb-col\"><h3>Run summary:</h3><br/><table class=\"wandb\"><tr><td>acc</td><td>0.945</td></tr><tr><td>epochs</td><td>499</td></tr><tr><td>loss</td><td>0.218</td></tr><tr><td>val_acc</td><td>0.708</td></tr><tr><td>val_loss</td><td>0.709</td></tr></table><br/></div></div>"
      ],
      "text/plain": [
       "<IPython.core.display.HTML object>"
      ]
     },
     "metadata": {},
     "output_type": "display_data"
    },
    {
     "data": {
      "text/html": [
       "Synced <strong style=\"color:#cdcd00\">polished-cosmos-14</strong>: <a href=\"https://wandb.ai/progettobasket/TAdv1819runs/runs/o2ydi96h\" target=\"_blank\">https://wandb.ai/progettobasket/TAdv1819runs/runs/o2ydi96h</a><br/>Synced 4 W&B file(s), 0 media file(s), 0 artifact file(s) and 0 other file(s)"
      ],
      "text/plain": [
       "<IPython.core.display.HTML object>"
      ]
     },
     "metadata": {},
     "output_type": "display_data"
    },
    {
     "data": {
      "text/html": [
       "Find logs at: <code>.\\wandb\\run-20221124_120157-o2ydi96h\\logs</code>"
      ],
      "text/plain": [
       "<IPython.core.display.HTML object>"
      ]
     },
     "metadata": {},
     "output_type": "display_data"
    },
    {
     "data": {
      "text/html": [
       "wandb version 0.13.5 is available!  To upgrade, please run:\n",
       " $ pip install wandb --upgrade"
      ],
      "text/plain": [
       "<IPython.core.display.HTML object>"
      ]
     },
     "metadata": {},
     "output_type": "display_data"
    },
    {
     "data": {
      "text/html": [
       "Tracking run with wandb version 0.13.2"
      ],
      "text/plain": [
       "<IPython.core.display.HTML object>"
      ]
     },
     "metadata": {},
     "output_type": "display_data"
    },
    {
     "data": {
      "text/html": [
       "Run data is saved locally in <code>d:\\UniSergio\\BasketScripts\\WaB\\wandb\\run-20221124_120203-1zkze2df</code>"
      ],
      "text/plain": [
       "<IPython.core.display.HTML object>"
      ]
     },
     "metadata": {},
     "output_type": "display_data"
    },
    {
     "data": {
      "text/html": [
       "Syncing run <strong><a href=\"https://wandb.ai/progettobasket/TAdv1819runs/runs/1zkze2df\" target=\"_blank\">genial-elevator-15</a></strong> to <a href=\"https://wandb.ai/progettobasket/TAdv1819runs\" target=\"_blank\">Weights & Biases</a> (<a href=\"https://wandb.me/run\" target=\"_blank\">docs</a>)<br/>"
      ],
      "text/plain": [
       "<IPython.core.display.HTML object>"
      ]
     },
     "metadata": {},
     "output_type": "display_data"
    },
    {
     "data": {
      "text/html": [
       "Waiting for W&B process to finish... <strong style=\"color:green\">(success).</strong>"
      ],
      "text/plain": [
       "<IPython.core.display.HTML object>"
      ]
     },
     "metadata": {},
     "output_type": "display_data"
    },
    {
     "data": {
      "text/html": [
       "<style>\n",
       "    table.wandb td:nth-child(1) { padding: 0 10px; text-align: left ; width: auto;} td:nth-child(2) {text-align: left ; width: 100%}\n",
       "    .wandb-row { display: flex; flex-direction: row; flex-wrap: wrap; justify-content: flex-start; width: 100% }\n",
       "    .wandb-col { display: flex; flex-direction: column; flex-basis: 100%; flex: 1; padding: 10px; }\n",
       "    </style>\n",
       "<div class=\"wandb-row\"><div class=\"wandb-col\"><h3>Run history:</h3><br/><table class=\"wandb\"><tr><td>acc</td><td>▁▄▄▅▅▅▆▆▆▆▆▆▆▆▇▆▇▇▇▇▇█▇█▇█▇▇▇█▇███▇██▇▇█</td></tr><tr><td>epochs</td><td>▁▁▁▂▂▂▂▂▂▃▃▃▃▃▄▄▄▄▄▄▅▅▅▅▅▅▆▆▆▆▆▇▇▇▇▇▇███</td></tr><tr><td>loss</td><td>█▃▃▃▃▃▂▂▂▂▂▂▂▂▂▂▂▂▁▁▂▁▂▁▁▁▁▁▂▁▁▁▁▁▁▁▁▁▁▁</td></tr><tr><td>val_acc</td><td>▂▁▃▃▂█▁▆▃▇▃▆▄▄▄▃▄▃▃▂▄▅▄█▃▄▅▄▄▄▆▅▄▁▄▇█▄▃▄</td></tr><tr><td>val_loss</td><td>▄▅▂▁▃▁▂▄▄▂▃▄▃▃▃▂▄▅▄▅▄▄▄▆▆▅▅▆▅▆▆▇▆▇█▇▇▇▇▇</td></tr></table><br/></div><div class=\"wandb-col\"><h3>Run summary:</h3><br/><table class=\"wandb\"><tr><td>acc</td><td>0.982</td></tr><tr><td>epochs</td><td>499</td></tr><tr><td>loss</td><td>0.046</td></tr><tr><td>val_acc</td><td>0.676</td></tr><tr><td>val_loss</td><td>1.674</td></tr></table><br/></div></div>"
      ],
      "text/plain": [
       "<IPython.core.display.HTML object>"
      ]
     },
     "metadata": {},
     "output_type": "display_data"
    },
    {
     "data": {
      "text/html": [
       "Synced <strong style=\"color:#cdcd00\">genial-elevator-15</strong>: <a href=\"https://wandb.ai/progettobasket/TAdv1819runs/runs/1zkze2df\" target=\"_blank\">https://wandb.ai/progettobasket/TAdv1819runs/runs/1zkze2df</a><br/>Synced 4 W&B file(s), 0 media file(s), 0 artifact file(s) and 0 other file(s)"
      ],
      "text/plain": [
       "<IPython.core.display.HTML object>"
      ]
     },
     "metadata": {},
     "output_type": "display_data"
    },
    {
     "data": {
      "text/html": [
       "Find logs at: <code>.\\wandb\\run-20221124_120203-1zkze2df\\logs</code>"
      ],
      "text/plain": [
       "<IPython.core.display.HTML object>"
      ]
     },
     "metadata": {},
     "output_type": "display_data"
    },
    {
     "data": {
      "text/html": [
       "wandb version 0.13.5 is available!  To upgrade, please run:\n",
       " $ pip install wandb --upgrade"
      ],
      "text/plain": [
       "<IPython.core.display.HTML object>"
      ]
     },
     "metadata": {},
     "output_type": "display_data"
    },
    {
     "data": {
      "text/html": [
       "Tracking run with wandb version 0.13.2"
      ],
      "text/plain": [
       "<IPython.core.display.HTML object>"
      ]
     },
     "metadata": {},
     "output_type": "display_data"
    },
    {
     "data": {
      "text/html": [
       "Run data is saved locally in <code>d:\\UniSergio\\BasketScripts\\WaB\\wandb\\run-20221124_120209-1u3zhxbe</code>"
      ],
      "text/plain": [
       "<IPython.core.display.HTML object>"
      ]
     },
     "metadata": {},
     "output_type": "display_data"
    },
    {
     "data": {
      "text/html": [
       "Syncing run <strong><a href=\"https://wandb.ai/progettobasket/TAdv1819runs/runs/1u3zhxbe\" target=\"_blank\">eager-dream-16</a></strong> to <a href=\"https://wandb.ai/progettobasket/TAdv1819runs\" target=\"_blank\">Weights & Biases</a> (<a href=\"https://wandb.me/run\" target=\"_blank\">docs</a>)<br/>"
      ],
      "text/plain": [
       "<IPython.core.display.HTML object>"
      ]
     },
     "metadata": {},
     "output_type": "display_data"
    },
    {
     "data": {
      "text/html": [
       "Waiting for W&B process to finish... <strong style=\"color:green\">(success).</strong>"
      ],
      "text/plain": [
       "<IPython.core.display.HTML object>"
      ]
     },
     "metadata": {},
     "output_type": "display_data"
    },
    {
     "data": {
      "text/html": [
       "<style>\n",
       "    table.wandb td:nth-child(1) { padding: 0 10px; text-align: left ; width: auto;} td:nth-child(2) {text-align: left ; width: 100%}\n",
       "    .wandb-row { display: flex; flex-direction: row; flex-wrap: wrap; justify-content: flex-start; width: 100% }\n",
       "    .wandb-col { display: flex; flex-direction: column; flex-basis: 100%; flex: 1; padding: 10px; }\n",
       "    </style>\n",
       "<div class=\"wandb-row\"><div class=\"wandb-col\"><h3>Run history:</h3><br/><table class=\"wandb\"><tr><td>acc</td><td>▁▂▃▅▆▆▆▇▆▇▇▇▇▇▇▇▇▇▇█▇▆▆███▇█▇███▇▇██████</td></tr><tr><td>epochs</td><td>▁▁▁▂▂▂▂▂▂▃▃▃▃▃▄▄▄▄▄▄▅▅▅▅▅▅▆▆▆▆▆▇▇▇▇▇▇███</td></tr><tr><td>loss</td><td>█▄▂▁▁▁▁▁▁▁▁▁▁▁▁▁▁▁▁▁▁▁▁▁▁▁▁▁▁▁▁▁▁▁▁▁▁▁▁▁</td></tr><tr><td>val_acc</td><td>▃▁▃▅▅▅▆▄▆▅▄▅█▆▆▆▄▆▅▇▅▅▆▅▅▆▅▅▅▅▄▅▆▆▅▅▅▅▆▆</td></tr><tr><td>val_loss</td><td>█▂▃▁▁▁▁▁▁▁▁▁▁▁▁▁▂▂▂▂▂▂▂▂▂▂▂▂▂▂▃▂▂▂▃▃▃▃▃▂</td></tr></table><br/></div><div class=\"wandb-col\"><h3>Run summary:</h3><br/><table class=\"wandb\"><tr><td>acc</td><td>0.954</td></tr><tr><td>epochs</td><td>499</td></tr><tr><td>loss</td><td>0.138</td></tr><tr><td>val_acc</td><td>0.692</td></tr><tr><td>val_loss</td><td>0.762</td></tr></table><br/></div></div>"
      ],
      "text/plain": [
       "<IPython.core.display.HTML object>"
      ]
     },
     "metadata": {},
     "output_type": "display_data"
    },
    {
     "data": {
      "text/html": [
       "Synced <strong style=\"color:#cdcd00\">eager-dream-16</strong>: <a href=\"https://wandb.ai/progettobasket/TAdv1819runs/runs/1u3zhxbe\" target=\"_blank\">https://wandb.ai/progettobasket/TAdv1819runs/runs/1u3zhxbe</a><br/>Synced 4 W&B file(s), 0 media file(s), 0 artifact file(s) and 0 other file(s)"
      ],
      "text/plain": [
       "<IPython.core.display.HTML object>"
      ]
     },
     "metadata": {},
     "output_type": "display_data"
    },
    {
     "data": {
      "text/html": [
       "Find logs at: <code>.\\wandb\\run-20221124_120209-1u3zhxbe\\logs</code>"
      ],
      "text/plain": [
       "<IPython.core.display.HTML object>"
      ]
     },
     "metadata": {},
     "output_type": "display_data"
    },
    {
     "data": {
      "text/html": [
       "wandb version 0.13.5 is available!  To upgrade, please run:\n",
       " $ pip install wandb --upgrade"
      ],
      "text/plain": [
       "<IPython.core.display.HTML object>"
      ]
     },
     "metadata": {},
     "output_type": "display_data"
    },
    {
     "data": {
      "text/html": [
       "Tracking run with wandb version 0.13.2"
      ],
      "text/plain": [
       "<IPython.core.display.HTML object>"
      ]
     },
     "metadata": {},
     "output_type": "display_data"
    },
    {
     "data": {
      "text/html": [
       "Run data is saved locally in <code>d:\\UniSergio\\BasketScripts\\WaB\\wandb\\run-20221124_120216-xxuc0lze</code>"
      ],
      "text/plain": [
       "<IPython.core.display.HTML object>"
      ]
     },
     "metadata": {},
     "output_type": "display_data"
    },
    {
     "data": {
      "text/html": [
       "Syncing run <strong><a href=\"https://wandb.ai/progettobasket/TAdv1819runs/runs/xxuc0lze\" target=\"_blank\">icy-brook-17</a></strong> to <a href=\"https://wandb.ai/progettobasket/TAdv1819runs\" target=\"_blank\">Weights & Biases</a> (<a href=\"https://wandb.me/run\" target=\"_blank\">docs</a>)<br/>"
      ],
      "text/plain": [
       "<IPython.core.display.HTML object>"
      ]
     },
     "metadata": {},
     "output_type": "display_data"
    },
    {
     "data": {
      "text/html": [
       "Waiting for W&B process to finish... <strong style=\"color:green\">(success).</strong>"
      ],
      "text/plain": [
       "<IPython.core.display.HTML object>"
      ]
     },
     "metadata": {},
     "output_type": "display_data"
    },
    {
     "data": {
      "text/html": [
       "<style>\n",
       "    table.wandb td:nth-child(1) { padding: 0 10px; text-align: left ; width: auto;} td:nth-child(2) {text-align: left ; width: 100%}\n",
       "    .wandb-row { display: flex; flex-direction: row; flex-wrap: wrap; justify-content: flex-start; width: 100% }\n",
       "    .wandb-col { display: flex; flex-direction: column; flex-basis: 100%; flex: 1; padding: 10px; }\n",
       "    </style>\n",
       "<div class=\"wandb-row\"><div class=\"wandb-col\"><h3>Run history:</h3><br/><table class=\"wandb\"><tr><td>acc</td><td>▁▁▂▃▅▆▆▆▆▇▇▆▆▆▇▇▇▇▇▇▇▇▇▇▇▇▇▇▇▇▇▇██▇▇███▇</td></tr><tr><td>epochs</td><td>▁▁▁▂▂▂▂▂▂▃▃▃▃▃▄▄▄▄▄▄▅▅▅▅▅▅▆▆▆▆▆▇▇▇▇▇▇███</td></tr><tr><td>loss</td><td>█▄▃▂▁▁▁▁▁▁▁▁▁▁▁▁▁▁▁▁▁▁▁▁▁▁▁▁▁▁▁▁▁▁▁▁▁▁▁▁</td></tr><tr><td>val_acc</td><td>▁▅▃▅▆▇▇▆▄▅▆▆▆▆▆▇▆▆█▅▇▆▇▇▆▇▇▇▆▆▆▆▇▇▇▇▅▇▆█</td></tr><tr><td>val_loss</td><td>▆▂▃▂▁▁▃▁▁▃▃▄▃▂▃▂▄▄▃▆▅▅▄▄▅▆▅▅▅▇▅▅▅█▆▇██▇█</td></tr></table><br/></div><div class=\"wandb-col\"><h3>Run summary:</h3><br/><table class=\"wandb\"><tr><td>acc</td><td>0.971</td></tr><tr><td>epochs</td><td>499</td></tr><tr><td>loss</td><td>0.096</td></tr><tr><td>val_acc</td><td>0.698</td></tr><tr><td>val_loss</td><td>0.835</td></tr></table><br/></div></div>"
      ],
      "text/plain": [
       "<IPython.core.display.HTML object>"
      ]
     },
     "metadata": {},
     "output_type": "display_data"
    },
    {
     "data": {
      "text/html": [
       "Synced <strong style=\"color:#cdcd00\">icy-brook-17</strong>: <a href=\"https://wandb.ai/progettobasket/TAdv1819runs/runs/xxuc0lze\" target=\"_blank\">https://wandb.ai/progettobasket/TAdv1819runs/runs/xxuc0lze</a><br/>Synced 4 W&B file(s), 0 media file(s), 0 artifact file(s) and 0 other file(s)"
      ],
      "text/plain": [
       "<IPython.core.display.HTML object>"
      ]
     },
     "metadata": {},
     "output_type": "display_data"
    },
    {
     "data": {
      "text/html": [
       "Find logs at: <code>.\\wandb\\run-20221124_120216-xxuc0lze\\logs</code>"
      ],
      "text/plain": [
       "<IPython.core.display.HTML object>"
      ]
     },
     "metadata": {},
     "output_type": "display_data"
    },
    {
     "data": {
      "text/html": [
       "wandb version 0.13.5 is available!  To upgrade, please run:\n",
       " $ pip install wandb --upgrade"
      ],
      "text/plain": [
       "<IPython.core.display.HTML object>"
      ]
     },
     "metadata": {},
     "output_type": "display_data"
    },
    {
     "data": {
      "text/html": [
       "Tracking run with wandb version 0.13.2"
      ],
      "text/plain": [
       "<IPython.core.display.HTML object>"
      ]
     },
     "metadata": {},
     "output_type": "display_data"
    },
    {
     "data": {
      "text/html": [
       "Run data is saved locally in <code>d:\\UniSergio\\BasketScripts\\WaB\\wandb\\run-20221124_120222-xlvavudc</code>"
      ],
      "text/plain": [
       "<IPython.core.display.HTML object>"
      ]
     },
     "metadata": {},
     "output_type": "display_data"
    },
    {
     "data": {
      "text/html": [
       "Syncing run <strong><a href=\"https://wandb.ai/progettobasket/TAdv1819runs/runs/xlvavudc\" target=\"_blank\">sparkling-pond-18</a></strong> to <a href=\"https://wandb.ai/progettobasket/TAdv1819runs\" target=\"_blank\">Weights & Biases</a> (<a href=\"https://wandb.me/run\" target=\"_blank\">docs</a>)<br/>"
      ],
      "text/plain": [
       "<IPython.core.display.HTML object>"
      ]
     },
     "metadata": {},
     "output_type": "display_data"
    },
    {
     "data": {
      "text/html": [
       "Waiting for W&B process to finish... <strong style=\"color:green\">(success).</strong>"
      ],
      "text/plain": [
       "<IPython.core.display.HTML object>"
      ]
     },
     "metadata": {},
     "output_type": "display_data"
    },
    {
     "data": {
      "text/html": [
       "<style>\n",
       "    table.wandb td:nth-child(1) { padding: 0 10px; text-align: left ; width: auto;} td:nth-child(2) {text-align: left ; width: 100%}\n",
       "    .wandb-row { display: flex; flex-direction: row; flex-wrap: wrap; justify-content: flex-start; width: 100% }\n",
       "    .wandb-col { display: flex; flex-direction: column; flex-basis: 100%; flex: 1; padding: 10px; }\n",
       "    </style>\n",
       "<div class=\"wandb-row\"><div class=\"wandb-col\"><h3>Run history:</h3><br/><table class=\"wandb\"><tr><td>acc</td><td>▁▂▃▃▅▆▆▆▇▇▇██▇▇▇▇█▇▇▇▇████▇▇▇██▇▇██████▇</td></tr><tr><td>epochs</td><td>▁▁▁▂▂▂▂▂▂▃▃▃▃▃▄▄▄▄▄▄▅▅▅▅▅▅▆▆▆▆▆▇▇▇▇▇▇███</td></tr><tr><td>loss</td><td>█▅▃▂▂▁▁▁▁▁▁▁▁▁▁▁▁▁▁▁▁▁▁▁▁▁▁▁▁▁▁▁▁▁▁▁▁▁▁▁</td></tr><tr><td>val_acc</td><td>▃▄▁▄▇▆▆▅▆▆▆▆██▇████▇███▇▆▇█▇▇▇▇█▇▇█▆▇▇▆█</td></tr><tr><td>val_loss</td><td>█▃▂▂▁▁▁▁▂▂▂▁▂▂▂▂▂▂▂▂▂▃▂▂▃▂▃▃▃▃▃▃▃▃▃▃▃▄▄▄</td></tr></table><br/></div><div class=\"wandb-col\"><h3>Run summary:</h3><br/><table class=\"wandb\"><tr><td>acc</td><td>0.98</td></tr><tr><td>epochs</td><td>499</td></tr><tr><td>loss</td><td>0.082</td></tr><tr><td>val_acc</td><td>0.698</td></tr><tr><td>val_loss</td><td>0.822</td></tr></table><br/></div></div>"
      ],
      "text/plain": [
       "<IPython.core.display.HTML object>"
      ]
     },
     "metadata": {},
     "output_type": "display_data"
    },
    {
     "data": {
      "text/html": [
       "Synced <strong style=\"color:#cdcd00\">sparkling-pond-18</strong>: <a href=\"https://wandb.ai/progettobasket/TAdv1819runs/runs/xlvavudc\" target=\"_blank\">https://wandb.ai/progettobasket/TAdv1819runs/runs/xlvavudc</a><br/>Synced 4 W&B file(s), 0 media file(s), 0 artifact file(s) and 0 other file(s)"
      ],
      "text/plain": [
       "<IPython.core.display.HTML object>"
      ]
     },
     "metadata": {},
     "output_type": "display_data"
    },
    {
     "data": {
      "text/html": [
       "Find logs at: <code>.\\wandb\\run-20221124_120222-xlvavudc\\logs</code>"
      ],
      "text/plain": [
       "<IPython.core.display.HTML object>"
      ]
     },
     "metadata": {},
     "output_type": "display_data"
    }
   ],
   "source": [
    "wandb.login()\n",
    "\n",
    "project_name=\"T\"+stats[0:3].capitalize()+years[2:].replace(\"-\",\"\")+\"runs\"\n",
    "\n",
    "wandbWrite(project_name,best_config_array,best_history_array,\"onehiddenDrop_\")"
   ]
  },
  {
   "cell_type": "markdown",
   "metadata": {},
   "source": [
    "# AUTOENCODERS ONE LEVEL"
   ]
  },
  {
   "cell_type": "code",
   "execution_count": null,
   "metadata": {},
   "outputs": [],
   "source": [
    "\n",
    "\n",
    "combination_of_neurons=[[20,10],[15,5]]\n",
    "for comb in combination_of_neurons:\n",
    "    best_config_tmp={'val_acc':0}\n",
    "    for el in possible_learning_rate:\n",
    "    \n",
    "        autoencoder,encoder,decoder = exT.autoencoderOneLevel(input_dimension,comb[0],comb[1])\n",
    "        loss_fn = tf.keras.losses.BinaryCrossentropy()               \n",
    "        autoencoder.compile(optimizer=\"adam\",loss=loss_fn,metrics=['accuracy'])\n",
    "        config={\n",
    "                \"learning_rate\":el,\n",
    "                'num_neurons':comb,\n",
    "                'acti_fun':\"relu\"\n",
    "                \n",
    "            }\n",
    "        tik=autoencoder.fit(x_train,x_train,batch_size=200,verbose=False,epochs=50,validation_data=(x_test,x_test))\n",
    "        config['val_acc']=tik.history['val_accuracy'][-1]\n",
    "        if(config['val_acc']>best_config_tmp['val_acc']):\n",
    "                    bestModel=autoencoder\n",
    "                    best_config_tmp=config\n",
    "                 \n",
    "    print(\"Best model\",best_config_tmp)\n",
    "    # bestModelArray.append(bestModel)"
   ]
  },
  {
   "cell_type": "code",
   "execution_count": null,
   "metadata": {},
   "outputs": [],
   "source": [
    "model = tf.keras.models.load_model('saved_model_'+stats+'/bestModel')\n",
    "\n",
    "optimizer = keras.optimizers.SGD(learning_rate=el)\n",
    "                # Instantiate  loss function.\n",
    "loss_fn = tf.keras.losses.BinaryCrossentropy()\n",
    "\n",
    "model.compile(optimizer=optimizer,loss=loss_fn,metrics=['accuracy'])"
   ]
  },
  {
   "cell_type": "markdown",
   "metadata": {},
   "source": [
    "# AUTOENCODERS SECOND LEVEL"
   ]
  },
  {
   "cell_type": "code",
   "execution_count": null,
   "metadata": {},
   "outputs": [],
   "source": [
    "combination_of_neurons=[[20,15,5],[15,10,5]]\n",
    "for comb in combination_of_neurons:\n",
    "    best_config_tmp={'val_acc':0}\n",
    "    for el in possible_learning_rate:\n",
    "    \n",
    "        autoencoder,encoder,decoder = exT.autoencoderTwoLevels(input_dimension,comb[0],comb[1],comb[2])\n",
    "        loss_fn = tf.keras.losses.BinaryCrossentropy()               \n",
    "        autoencoder.compile(optimizer=\"adam\",loss=loss_fn,metrics=['accuracy'])\n",
    "        config={\n",
    "                \"learning_rate\":el,\n",
    "                'num_neurons':comb,\n",
    "                'acti_fun':\"relu\"\n",
    "                \n",
    "            }\n",
    "        tik=autoencoder.fit(x_train,x_train,batch_size=200,verbose=False,epochs=50,validation_data=(x_test,x_test))\n",
    "        config['val_acc']=tik.history['val_accuracy'][-1]\n",
    "        if(config['val_acc']>best_config_tmp['val_acc']):\n",
    "                    bestModel=autoencoder\n",
    "                    best_config_tmp=config\n",
    "                 \n",
    "    print(\"Best model\",best_config_tmp)"
   ]
  },
  {
   "cell_type": "markdown",
   "metadata": {},
   "source": [
    "# Random Forest"
   ]
  },
  {
   "cell_type": "code",
   "execution_count": null,
   "metadata": {},
   "outputs": [],
   "source": [
    "from sklearn.ensemble import RandomForestClassifier\n",
    "best_acc=-1\n",
    "for el in range(2,10):\n",
    "    clf=RandomForestClassifier(max_depth=el, random_state=42)\n",
    "    clf.fit(x_train,y_train)\n",
    "    config=clf.predict(x_test)\n",
    "    count=0\n",
    "    for x,y in zip(config,y_test):\n",
    "        if(x[0]==y[0]):\n",
    "            count+=1\n",
    "    acc=count/len(x_test)\n",
    "    if acc> best_acc:\n",
    "        best_acc=acc\n",
    "print(best_acc,el)"
   ]
  },
  {
   "cell_type": "code",
   "execution_count": null,
   "metadata": {},
   "outputs": [],
   "source": [
    "para_y_train=[]\n",
    "for el1 in y_train:\n",
    "    tmp=1\n",
    "    if(el1[0]==1):\n",
    "        tmp=0\n",
    "    para_y_train.append(tmp)"
   ]
  },
  {
   "cell_type": "code",
   "execution_count": null,
   "metadata": {},
   "outputs": [],
   "source": [
    "from sklearn.ensemble import RandomForestClassifier\n",
    "best_acc=-1\n",
    "for el in range(2,10):\n",
    "    clf=RandomForestClassifier(n_estimators=100,max_depth=el, random_state=42)\n",
    "    clf.fit(x_train,para_y_train)\n",
    "    config=clf.predict(x_test)\n",
    "    count=0\n",
    "    for x,y in zip(config,y_test):\n",
    "        if(x==y[1]):\n",
    "            count+=1\n",
    "    acc=count/len(x_test)\n",
    "    if acc> best_acc:\n",
    "        best_acc=acc\n",
    "print(best_acc,el)"
   ]
  },
  {
   "cell_type": "markdown",
   "metadata": {},
   "source": [
    "# ADA"
   ]
  },
  {
   "cell_type": "code",
   "execution_count": null,
   "metadata": {},
   "outputs": [],
   "source": [
    "from sklearn.ensemble import AdaBoostClassifier\n",
    "\n",
    "best_acc=-1\n",
    "clf = AdaBoostClassifier(n_estimators=100, random_state=42)\n",
    "clf.fit(x_train,para_y_train)\n",
    "config=clf.predict(x_test)\n",
    "count=0\n",
    "for x,y in zip(config,y_test):\n",
    "    if(x==y[1]):\n",
    "        count+=1\n",
    "acc=count/len(x_test)\n",
    "if acc> best_acc:\n",
    "    best_acc=acc\n",
    "print(best_acc)"
   ]
  }
 ],
 "metadata": {
  "kernelspec": {
   "display_name": "Python 3.8.15 ('pytuurc')",
   "language": "python",
   "name": "python3"
  },
  "language_info": {
   "codemirror_mode": {
    "name": "ipython",
    "version": 3
   },
   "file_extension": ".py",
   "mimetype": "text/x-python",
   "name": "python",
   "nbconvert_exporter": "python",
   "pygments_lexer": "ipython3",
   "version": "3.8.15"
  },
  "orig_nbformat": 4,
  "vscode": {
   "interpreter": {
    "hash": "dd9d223d7b292a42db683c98874d74c150e8963ab9dd36c634c4894e65f31ff8"
   }
  }
 },
 "nbformat": 4,
 "nbformat_minor": 2
}
