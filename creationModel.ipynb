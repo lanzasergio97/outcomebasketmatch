{
 "cells": [
  {
   "cell_type": "code",
   "execution_count": 39,
   "metadata": {},
   "outputs": [],
   "source": [
    "import tensorflow as tf\n",
    "from tensorflow import keras\n",
    "\n",
    "import externalTensor as exT\n",
    "import numpy as np\n",
    "from sklearn.model_selection import KFold\n",
    "from boxScore import boxScore\n",
    "import lime\n",
    "from lime import lime_tabular\n",
    "import pandas as pd"
   ]
  },
  {
   "cell_type": "markdown",
   "metadata": {},
   "source": [
    "# Preparation of Data"
   ]
  },
  {
   "cell_type": "code",
   "execution_count": 40,
   "metadata": {},
   "outputs": [],
   "source": [
    "years=\"2021-22\"\n",
    "# stats=\"traditional\"\n",
    "stats='advance'\n",
    "box_score=boxScore(years,stats)\n",
    "\n",
    "x_train, x_test, y_train, y_test=box_score.separation()\n",
    "y_train=np.array(y_train)\n",
    "y_test=np.array(y_test)"
   ]
  },
  {
   "cell_type": "markdown",
   "metadata": {},
   "source": [
    "# Possible Hyperparameters"
   ]
  },
  {
   "cell_type": "code",
   "execution_count": 41,
   "metadata": {},
   "outputs": [],
   "source": [
    "    \n",
    "activation=['relu','sigmoid']\n",
    "# activation=['relu']\n",
    "number_neurons=[10,30,50,100,150,200]\n",
    "# number_neurons=[10]\n",
    "possible_learning_rate=[0.0001,0.001,0.01]\n",
    "# possible_learning_rate=[0.001]"
   ]
  },
  {
   "cell_type": "markdown",
   "metadata": {},
   "source": [
    "# Greedy Approch "
   ]
  },
  {
   "cell_type": "markdown",
   "metadata": {},
   "source": [
    "# Simple"
   ]
  },
  {
   "cell_type": "code",
   "execution_count": 19,
   "metadata": {},
   "outputs": [
    {
     "name": "stdout",
     "output_type": "stream",
     "text": [
      "WARNING:tensorflow:5 out of the last 58 calls to <function Model.make_test_function.<locals>.test_function at 0x000001CE6776D040> triggered tf.function retracing. Tracing is expensive and the excessive number of tracings could be due to (1) creating @tf.function repeatedly in a loop, (2) passing tensors with different shapes, (3) passing Python objects instead of tensors. For (1), please define your @tf.function outside of the loop. For (2), @tf.function has reduce_retracing=True option that can avoid unnecessary retracing. For (3), please refer to https://www.tensorflow.org/guide/function#controlling_retracing and https://www.tensorflow.org/api_docs/python/tf/function for  more details.\n",
      "WARNING:tensorflow:6 out of the last 59 calls to <function Model.make_test_function.<locals>.test_function at 0x000001CE67759160> triggered tf.function retracing. Tracing is expensive and the excessive number of tracings could be due to (1) creating @tf.function repeatedly in a loop, (2) passing tensors with different shapes, (3) passing Python objects instead of tensors. For (1), please define your @tf.function outside of the loop. For (2), @tf.function has reduce_retracing=True option that can avoid unnecessary retracing. For (3), please refer to https://www.tensorflow.org/guide/function#controlling_retracing and https://www.tensorflow.org/api_docs/python/tf/function for  more details.\n",
      "Best model {'learning_rate': 0.01, 'num_neurons': 10, 'acti_fun': 'relu', 'loss': 0.1255, 'acc': 0.9617, 'val_loss': 0.632, 'val_acc': 0.72}\n",
      "Best model {'learning_rate': 0.001, 'num_neurons': 30, 'acti_fun': 'relu', 'loss': 0.5526, 'acc': 0.8823, 'val_loss': 0.6531, 'val_acc': 0.72}\n",
      "Best model {'learning_rate': 0.01, 'num_neurons': 50, 'acti_fun': 'sigmoid', 'loss': 0.4192, 'acc': 0.92, 'val_loss': 0.6064, 'val_acc': 0.72}\n",
      "Best model {'learning_rate': 0.01, 'num_neurons': 100, 'acti_fun': 'sigmoid', 'loss': 0.4257, 'acc': 0.9182, 'val_loss': 0.6053, 'val_acc': 0.76}\n",
      "Best model {'learning_rate': 0.01, 'num_neurons': 150, 'acti_fun': 'relu', 'loss': 0.1184, 'acc': 0.9641, 'val_loss': 0.5609, 'val_acc': 0.74}\n",
      "Best model {'learning_rate': 0.001, 'num_neurons': 200, 'acti_fun': 'relu', 'loss': 0.5886, 'acc': 0.8949, 'val_loss': 0.6478, 'val_acc': 0.74}\n"
     ]
    }
   ],
   "source": [
    "\n",
    "kf = KFold(n_splits=10, random_state=1, shuffle=True)\n",
    "bestModelArray=[]\n",
    "\n",
    "for nN in number_neurons:\n",
    "    bestRes={'val_acc':0}\n",
    "    for el in possible_learning_rate:\n",
    "        for act in activation:\n",
    "                # Initialize model\n",
    "                model = exT.makeModelSimple(nN,act,len(x_train.columns))\n",
    "                \n",
    "                # Instantiate an optimizer to train the model.\n",
    "                optimizer = keras.optimizers.SGD(learning_rate=el)\n",
    "                # Instantiate a loss function.\n",
    "                loss_fn = tf.keras.losses.BinaryCrossentropy()\n",
    "                res={\n",
    "                    \"learning_rate\":el,\n",
    "                    'num_neurons':nN,\n",
    "                    'acti_fun':act\n",
    "                }\n",
    "                \n",
    "                model.compile(optimizer=optimizer,loss=loss_fn,metrics=['accuracy'])\n",
    "\n",
    "                res=exT.train_alternative(res,x_train,y_train,\n",
    "                    x_test, y_test, \n",
    "                    model,\n",
    "                    kf,\n",
    "                    500\n",
    "                   \n",
    "                )\n",
    "                \n",
    "                #Saved the best model based on the accuracy\n",
    "                if(res['val_acc']>bestRes['val_acc']):\n",
    "                    bestModel=model\n",
    "                    bestRes=res\n",
    "                        \n",
    "                    \n",
    "                \n",
    "    print(\"Best model\",bestRes)\n",
    "    bestModelArray.append(bestModel)\n",
    "    # f = open(\"saved_model_\"+stats+\"/summary.txt\", \"a\")\n",
    "    # tmpName=str(bestRes['num_neurons'])+\"_\"+str(bestRes['acti_fun'])+\"_\"+str(bestRes['learning_rate'])+\"_LOSS_\"+str(bestRes['loss'])+\"_ACC_\"+str(bestRes['acc'])+\"_LOSSVAL_\"+str(bestRes['val_loss'])+\"_ACCVAL_\"+str(bestRes['val_acc'])  \n",
    "    # f.write(tmpName+\"\\n\")\n",
    "    # f.close()\n"
   ]
  },
  {
   "cell_type": "markdown",
   "metadata": {},
   "source": [
    "# TwoLevel"
   ]
  },
  {
   "cell_type": "code",
   "execution_count": null,
   "metadata": {},
   "outputs": [],
   "source": [
    "\n",
    "kf = KFold(n_splits=10, random_state=1, shuffle=True)\n",
    "bestModelArray=[]\n",
    "\n",
    "for nN in number_neurons:\n",
    "    bestRes={'val_acc':0}\n",
    "    for el in possible_learning_rate:\n",
    "        for act in activation:\n",
    "                # Initialize model\n",
    "                model = exT.makeModelTwoLevel(nN,act,len(x_train.columns))\n",
    "                \n",
    "                # Instantiate an optimizer to train the model.\n",
    "                optimizer = keras.optimizers.SGD(learning_rate=el)\n",
    "                # Instantiate a loss function.\n",
    "                loss_fn = tf.keras.losses.BinaryCrossentropy()\n",
    "                res={\n",
    "                    \"learning_rate\":el,\n",
    "                    'num_neurons':nN,\n",
    "                    'acti_fun':act\n",
    "                }\n",
    "                \n",
    "                model.compile(optimizer=optimizer,loss=loss_fn,metrics=['accuracy'])\n",
    "\n",
    "                res=exT.train_alternative(res,x_train,y_train,\n",
    "                    x_test, y_test, \n",
    "                    model,\n",
    "                    kf,\n",
    "                    500\n",
    "                   \n",
    "                )\n",
    "                \n",
    "                #Saved the best model based on the accuracy\n",
    "                if(res['val_acc']>bestRes['val_acc']):\n",
    "                    bestModel=model\n",
    "                    bestRes=res\n",
    "                        \n",
    "                    \n",
    "                \n",
    "    print(\"Best model\",bestRes)\n",
    "    bestModelArray.append(bestModel)\n",
    "    # f = open(\"saved_model_\"+stats+\"/summary.txt\", \"a\")\n",
    "    # tmpName=str(bestRes['num_neurons'])+\"_\"+str(bestRes['acti_fun'])+\"_\"+str(bestRes['learning_rate'])+\"_LOSS_\"+str(bestRes['loss'])+\"_ACC_\"+str(bestRes['acc'])+\"_LOSSVAL_\"+str(bestRes['val_loss'])+\"_ACCVAL_\"+str(bestRes['val_acc'])  \n",
    "    # f.write(tmpName+\"\\n\")\n",
    "    # f.close()\n"
   ]
  },
  {
   "cell_type": "markdown",
   "metadata": {},
   "source": [
    "<!-- Best model {'learning_rate': 0.001, 'num_neurons': 10, 'acti_fun': 'relu', 'loss': 0.0193, 'acc': 0.9987, 'val_loss': 1.4627, 'val_acc': 0.6}\n",
    "Best model {'learning_rate': 0.0001, 'num_neurons': 30, 'acti_fun': 'sigmoid', 'loss': 0.4884, 'acc': 0.9517, 'val_loss': 0.6466, 'val_acc': 0.64}\n",
    "Best model {'learning_rate': 0.0001, 'num_neurons': 50, 'acti_fun': 'sigmoid', 'loss': 0.5163, 'acc': 0.9437, 'val_loss': 0.656, 'val_acc': 0.66}\n",
    "Best model {'learning_rate': 0.0001, 'num_neurons': 100, 'acti_fun': 'relu', 'loss': 0.0628, 'acc': 0.9951, 'val_loss': 0.775, 'val_acc': 0.64}\n",
    "Best model {'learning_rate': 0.001, 'num_neurons': 150, 'acti_fun': 'relu', 'loss': 0.0135, 'acc': 0.9998, 'val_loss': 1.4478, 'val_acc': 0.64}\n",
    "Best model {'learning_rate': 0.0001, 'num_neurons': 200, 'acti_fun': 'relu', 'loss': 0.0487, 'acc': 1.0, 'val_loss': 0.8261, 'val_acc': 0.64} -->"
   ]
  },
  {
   "cell_type": "markdown",
   "metadata": {},
   "source": [
    "# L2 Regolarization\n"
   ]
  },
  {
   "cell_type": "code",
   "execution_count": null,
   "metadata": {},
   "outputs": [],
   "source": [
    "kf = KFold(n_splits=10, random_state=1, shuffle=True)\n",
    "bestModelArray=[]\n",
    "\n",
    "for nN in number_neurons:\n",
    "    bestRes={'val_acc':0}\n",
    "    for el in possible_learning_rate:\n",
    "        for act in activation:\n",
    "                # Initialize model\n",
    "                model = exT.makeModelL2(nN,act,len(x_train.columns))\n",
    "                \n",
    "                # Instantiate an optimizer to train the model.\n",
    "                optimizer = keras.optimizers.SGD(learning_rate=el)\n",
    "                # Instantiate a loss function.\n",
    "                loss_fn = tf.keras.losses.BinaryCrossentropy()\n",
    "                res={\n",
    "                    \"learning_rate\":el,\n",
    "                    'num_neurons':nN,\n",
    "                    'acti_fun':act\n",
    "                }\n",
    "                \n",
    "                model.compile(optimizer=optimizer,loss=loss_fn,metrics=['accuracy'])\n",
    "\n",
    "                res=exT.train_alternative(res,x_train,y_train,\n",
    "                    x_test, y_test, \n",
    "                    model,\n",
    "                    kf,\n",
    "                    500\n",
    "                   \n",
    "                )\n",
    "                \n",
    "                #Saved the best model based on the accuracy\n",
    "                if(res['val_acc']>bestRes['val_acc']):\n",
    "                    bestModel=model\n",
    "                    bestRes=res\n",
    "                        \n",
    "                    \n",
    "                \n",
    "    print(\"Best model\",bestRes)\n",
    "    bestModelArray.append(bestModel)\n",
    "    # f = open(\"saved_model_\"+stats+\"/summary.txt\", \"a\")\n",
    "    # tmpName=str(bestRes['num_neurons'])+\"_\"+str(bestRes['acti_fun'])+\"_\"+str(bestRes['learning_rate'])+\"_LOSS_\"+str(bestRes['loss'])+\"_ACC_\"+str(bestRes['acc'])+\"_LOSSVAL_\"+str(bestRes['val_loss'])+\"_ACCVAL_\"+str(bestRes['val_acc'])  \n",
    "    # f.write(tmpName+\"\\n\")\n",
    "    # f.close()\n"
   ]
  },
  {
   "cell_type": "markdown",
   "metadata": {},
   "source": [
    "# Dropout"
   ]
  },
  {
   "cell_type": "code",
   "execution_count": null,
   "metadata": {},
   "outputs": [],
   "source": [
    "kf = KFold(n_splits=10, random_state=1, shuffle=True)\n",
    "bestModelArray=[]\n",
    "\n",
    "for nN in number_neurons:\n",
    "    bestRes={'val_acc':0}\n",
    "    for el in possible_learning_rate:\n",
    "        for act in activation:\n",
    "                # Initialize model\n",
    "                model = exT.makeModelDropout(nN,act,len(x_train.columns))\n",
    "                \n",
    "                # Instantiate an optimizer to train the model.\n",
    "                optimizer = keras.optimizers.SGD(learning_rate=el)\n",
    "                # Instantiate a loss function.\n",
    "                loss_fn = tf.keras.losses.BinaryCrossentropy()\n",
    "                res={\n",
    "                    \"learning_rate\":el,\n",
    "                    'num_neurons':nN,\n",
    "                    'acti_fun':act\n",
    "                }\n",
    "                \n",
    "                model.compile(optimizer=optimizer,loss=loss_fn,metrics=['accuracy'])\n",
    "\n",
    "                res=exT.train_alternative(res,x_train,y_train,\n",
    "                    x_test, y_test, \n",
    "                    model,\n",
    "                    kf,\n",
    "                    500\n",
    "                   \n",
    "                )\n",
    "                \n",
    "                #Saved the best model based on the accuracy\n",
    "                if(res['val_acc']>bestRes['val_acc']):\n",
    "                    bestModel=model\n",
    "                    bestRes=res\n",
    "                        \n",
    "                    \n",
    "                \n",
    "    print(\"Best model\",bestRes)\n",
    "    bestModelArray.append(bestModel)\n",
    "    # f = open(\"saved_model_\"+stats+\"/summary.txt\", \"a\")\n",
    "    # tmpName=str(bestRes['num_neurons'])+\"_\"+str(bestRes['acti_fun'])+\"_\"+str(bestRes['learning_rate'])+\"_LOSS_\"+str(bestRes['loss'])+\"_ACC_\"+str(bestRes['acc'])+\"_LOSSVAL_\"+str(bestRes['val_loss'])+\"_ACCVAL_\"+str(bestRes['val_acc'])  \n",
    "    # f.write(tmpName+\"\\n\")\n",
    "    # f.close()\n"
   ]
  },
  {
   "cell_type": "markdown",
   "metadata": {},
   "source": [
    "# AUTOENCODERS"
   ]
  },
  {
   "cell_type": "code",
   "execution_count": null,
   "metadata": {},
   "outputs": [],
   "source": [
    "# Regularize label to 0 (win first team ) and 1 (win second team)\n",
    "# Second Regularizion:  [1,0] (win first team ) and [0,1] (win second team)\n",
    "# label_train=[]\n",
    "# for el in y_train:\n",
    "#     x=1    \n",
    "#     if np.all(el==[1,0]):\n",
    "#         x=0\n",
    "    \n",
    "#     label_train.append(x)\n",
    "# label_test=[]\n",
    "# for el in y_test:\n",
    "#     x=1    \n",
    "#     if np.all(el==[1,0]):\n",
    "#         x=0\n",
    "    \n",
    "#     label_test.append(x)\n",
    "\n",
    "# x_train[\"RESULT\"]=label_train\n",
    "# x_test[\"RESULT\"]=label_test\n"
   ]
  },
  {
   "cell_type": "code",
   "execution_count": 42,
   "metadata": {},
   "outputs": [],
   "source": [
    "from keras.datasets import mnist\n",
    "import numpy as np\n",
    "\n",
    "\n",
    "autoencoder,encoder,decoder = exT.autoencoder(\"relu\",len(x_train.columns),20)\n",
    "loss_fn = tf.keras.losses.BinaryCrossentropy()               \n",
    "autoencoder.compile(optimizer=\"adam\",loss=loss_fn,metrics=['accuracy'])\n",
    "tik=autoencoder.fit(x_train,x_train,batch_size=200,verbose=False,epochs=50,validation_data=(x_test,x_test))\n",
    "\n"
   ]
  },
  {
   "cell_type": "code",
   "execution_count": 43,
   "metadata": {},
   "outputs": [
    {
     "name": "stdout",
     "output_type": "stream",
     "text": [
      "2/2 [==============================] - 0s 2ms/step\n",
      "19/19 [==============================] - 0s 696us/step\n"
     ]
    }
   ],
   "source": [
    "decoded_match_test = autoencoder.predict(x_test)\n",
    "decoded_match_train = autoencoder.predict(x_train)"
   ]
  },
  {
   "cell_type": "code",
   "execution_count": 44,
   "metadata": {},
   "outputs": [
    {
     "name": "stdout",
     "output_type": "stream",
     "text": [
      "2/2 [==============================] - 0s 1ms/step - loss: 0.8200 - accuracy: 0.6200\n",
      "2/2 [==============================] - 0s 1ms/step - loss: 1.3615 - accuracy: 0.5800\n"
     ]
    },
    {
     "data": {
      "text/plain": [
       "[1.3615206480026245, 0.5799999833106995]"
      ]
     },
     "execution_count": 44,
     "metadata": {},
     "output_type": "execute_result"
    }
   ],
   "source": [
    "model = tf.keras.models.load_model('saved_model_'+stats+'/bestModel')\n",
    "\n",
    "model.evaluate(np.asarray(x_test),np.asarray(y_test))\n",
    "\n",
    "model.evaluate(decoded_match_test,np.asarray(y_test))"
   ]
  },
  {
   "cell_type": "markdown",
   "metadata": {},
   "source": [
    "# Random Forest"
   ]
  },
  {
   "cell_type": "code",
   "execution_count": 37,
   "metadata": {},
   "outputs": [
    {
     "name": "stdout",
     "output_type": "stream",
     "text": [
      "0.5 9\n"
     ]
    }
   ],
   "source": [
    "from sklearn.ensemble import RandomForestClassifier\n",
    "best_acc=-1\n",
    "for el in range(2,10):\n",
    "    clf=RandomForestClassifier(max_depth=el, random_state=42)\n",
    "    clf.fit(x_train,y_train)\n",
    "    res=clf.predict(x_test)\n",
    "    count=0\n",
    "    for x,y in zip(res,y_test):\n",
    "        if(x[0]==y[0]):\n",
    "            count+=1\n",
    "    acc=count/len(x_test)\n",
    "    if acc> best_acc:\n",
    "        best_acc=acc\n",
    "print(best_acc,el)"
   ]
  }
 ],
 "metadata": {
  "kernelspec": {
   "display_name": "Python 3.9.13 ('BasketScripts': venv)",
   "language": "python",
   "name": "python3"
  },
  "language_info": {
   "codemirror_mode": {
    "name": "ipython",
    "version": 3
   },
   "file_extension": ".py",
   "mimetype": "text/x-python",
   "name": "python",
   "nbconvert_exporter": "python",
   "pygments_lexer": "ipython3",
   "version": "3.9.13"
  },
  "orig_nbformat": 4,
  "vscode": {
   "interpreter": {
    "hash": "f61b42334e39087fcf873d4b58ce314af401b80aed031fb5917bf158a5bb3c56"
   }
  }
 },
 "nbformat": 4,
 "nbformat_minor": 2
}
