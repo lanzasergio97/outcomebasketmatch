{
 "cells": [
  {
   "cell_type": "code",
   "execution_count": 1,
   "metadata": {},
   "outputs": [],
   "source": [
    "import tensorflow as tf\n",
    "from tensorflow import keras\n",
    "\n",
    "import externalTensor as exT\n",
    "import numpy as np\n",
    "from sklearn.model_selection import KFold\n",
    "from boxScore import boxScore\n",
    "import lime\n",
    "from lime import lime_tabular\n",
    "import pandas as pd"
   ]
  },
  {
   "cell_type": "markdown",
   "metadata": {},
   "source": [
    "# Preparation of Data"
   ]
  },
  {
   "cell_type": "code",
   "execution_count": 2,
   "metadata": {},
   "outputs": [],
   "source": [
    "years=\"2021-22\"\n",
    "# stats=\"traditional\"\n",
    "stats='advance'\n",
    "box_score=boxScore(years,stats)\n",
    "\n",
    "x_train, x_test, y_train, y_test=box_score.separation()\n",
    "y_train=np.array(y_train)\n"
   ]
  },
  {
   "cell_type": "markdown",
   "metadata": {},
   "source": [
    "# Possible Hyperparameters"
   ]
  },
  {
   "cell_type": "code",
   "execution_count": 3,
   "metadata": {},
   "outputs": [],
   "source": [
    "    \n",
    "activation=['relu','sigmoid']\n",
    "# activation=['relu']\n",
    "number_neurons=[10,30,50,100,150,200]\n",
    "# number_neurons=[10]\n",
    "possible_learning_rate=[0.0001,0.001,0.01]\n",
    "# possible_learning_rate=[0.001]"
   ]
  },
  {
   "cell_type": "markdown",
   "metadata": {},
   "source": [
    "# Greedy Approch "
   ]
  },
  {
   "cell_type": "markdown",
   "metadata": {},
   "source": [
    "# Simple"
   ]
  },
  {
   "cell_type": "code",
   "execution_count": null,
   "metadata": {},
   "outputs": [],
   "source": [
    "\n",
    "kf = KFold(n_splits=10, random_state=1, shuffle=True)\n",
    "bestModelArray=[]\n",
    "\n",
    "for nN in number_neurons:\n",
    "    bestRes={'val_acc':0}\n",
    "    for el in possible_learning_rate:\n",
    "        for act in activation:\n",
    "                # Initialize model\n",
    "                model = exT.makeModelSimple(nN,act,len(x_train.columns))\n",
    "                \n",
    "                # Instantiate an optimizer to train the model.\n",
    "                optimizer = keras.optimizers.SGD(learning_rate=el)\n",
    "                # Instantiate a loss function.\n",
    "                loss_fn = tf.keras.losses.BinaryCrossentropy()\n",
    "                res={\n",
    "                    \"learning_rate\":el,\n",
    "                    'num_neurons':nN,\n",
    "                    'acti_fun':act\n",
    "                }\n",
    "                \n",
    "                model.compile(optimizer=optimizer,loss=loss_fn,metrics=['accuracy'])\n",
    "\n",
    "                res=exT.train_alternative(res,x_train,y_train,\n",
    "                    x_test, y_test, \n",
    "                    model,\n",
    "                    kf,\n",
    "                    500\n",
    "                   \n",
    "                )\n",
    "                \n",
    "                #Saved the best model based on the accuracy\n",
    "                if(res['val_acc']>bestRes['val_acc']):\n",
    "                    bestModel=model\n",
    "                    bestRes=res\n",
    "                        \n",
    "                    \n",
    "                \n",
    "    print(\"Best model\",bestRes)\n",
    "    bestModelArray.append(bestModel)\n",
    "    # f = open(\"saved_model_\"+stats+\"/summary.txt\", \"a\")\n",
    "    # tmpName=str(bestRes['num_neurons'])+\"_\"+str(bestRes['acti_fun'])+\"_\"+str(bestRes['learning_rate'])+\"_LOSS_\"+str(bestRes['loss'])+\"_ACC_\"+str(bestRes['acc'])+\"_LOSSVAL_\"+str(bestRes['val_loss'])+\"_ACCVAL_\"+str(bestRes['val_acc'])  \n",
    "    # f.write(tmpName+\"\\n\")\n",
    "    # f.close()\n"
   ]
  },
  {
   "cell_type": "markdown",
   "metadata": {},
   "source": [
    "# TwoLevel"
   ]
  },
  {
   "cell_type": "code",
   "execution_count": null,
   "metadata": {},
   "outputs": [],
   "source": [
    "\n",
    "kf = KFold(n_splits=10, random_state=1, shuffle=True)\n",
    "bestModelArray=[]\n",
    "\n",
    "for nN in number_neurons:\n",
    "    bestRes={'val_acc':0}\n",
    "    for el in possible_learning_rate:\n",
    "        for act in activation:\n",
    "                # Initialize model\n",
    "                model = exT.makeModelTwoLevel(nN,act,len(x_train.columns))\n",
    "                \n",
    "                # Instantiate an optimizer to train the model.\n",
    "                optimizer = keras.optimizers.SGD(learning_rate=el)\n",
    "                # Instantiate a loss function.\n",
    "                loss_fn = tf.keras.losses.BinaryCrossentropy()\n",
    "                res={\n",
    "                    \"learning_rate\":el,\n",
    "                    'num_neurons':nN,\n",
    "                    'acti_fun':act\n",
    "                }\n",
    "                \n",
    "                model.compile(optimizer=optimizer,loss=loss_fn,metrics=['accuracy'])\n",
    "\n",
    "                res=exT.train_alternative(res,x_train,y_train,\n",
    "                    x_test, y_test, \n",
    "                    model,\n",
    "                    kf,\n",
    "                    500\n",
    "                   \n",
    "                )\n",
    "                \n",
    "                #Saved the best model based on the accuracy\n",
    "                if(res['val_acc']>bestRes['val_acc']):\n",
    "                    bestModel=model\n",
    "                    bestRes=res\n",
    "                        \n",
    "                    \n",
    "                \n",
    "    print(\"Best model\",bestRes)\n",
    "    bestModelArray.append(bestModel)\n",
    "    # f = open(\"saved_model_\"+stats+\"/summary.txt\", \"a\")\n",
    "    # tmpName=str(bestRes['num_neurons'])+\"_\"+str(bestRes['acti_fun'])+\"_\"+str(bestRes['learning_rate'])+\"_LOSS_\"+str(bestRes['loss'])+\"_ACC_\"+str(bestRes['acc'])+\"_LOSSVAL_\"+str(bestRes['val_loss'])+\"_ACCVAL_\"+str(bestRes['val_acc'])  \n",
    "    # f.write(tmpName+\"\\n\")\n",
    "    # f.close()\n"
   ]
  },
  {
   "cell_type": "markdown",
   "metadata": {},
   "source": [
    "<!-- Best model {'learning_rate': 0.001, 'num_neurons': 10, 'acti_fun': 'relu', 'loss': 0.0193, 'acc': 0.9987, 'val_loss': 1.4627, 'val_acc': 0.6}\n",
    "Best model {'learning_rate': 0.0001, 'num_neurons': 30, 'acti_fun': 'sigmoid', 'loss': 0.4884, 'acc': 0.9517, 'val_loss': 0.6466, 'val_acc': 0.64}\n",
    "Best model {'learning_rate': 0.0001, 'num_neurons': 50, 'acti_fun': 'sigmoid', 'loss': 0.5163, 'acc': 0.9437, 'val_loss': 0.656, 'val_acc': 0.66}\n",
    "Best model {'learning_rate': 0.0001, 'num_neurons': 100, 'acti_fun': 'relu', 'loss': 0.0628, 'acc': 0.9951, 'val_loss': 0.775, 'val_acc': 0.64}\n",
    "Best model {'learning_rate': 0.001, 'num_neurons': 150, 'acti_fun': 'relu', 'loss': 0.0135, 'acc': 0.9998, 'val_loss': 1.4478, 'val_acc': 0.64}\n",
    "Best model {'learning_rate': 0.0001, 'num_neurons': 200, 'acti_fun': 'relu', 'loss': 0.0487, 'acc': 1.0, 'val_loss': 0.8261, 'val_acc': 0.64} -->"
   ]
  },
  {
   "cell_type": "markdown",
   "metadata": {},
   "source": [
    "# L2 Regolarization\n"
   ]
  },
  {
   "cell_type": "code",
   "execution_count": 4,
   "metadata": {},
   "outputs": [
    {
     "name": "stdout",
     "output_type": "stream",
     "text": [
      "WARNING:tensorflow:5 out of the last 5 calls to <function Model.make_test_function.<locals>.test_function at 0x000001A30A0A9D30> triggered tf.function retracing. Tracing is expensive and the excessive number of tracings could be due to (1) creating @tf.function repeatedly in a loop, (2) passing tensors with different shapes, (3) passing Python objects instead of tensors. For (1), please define your @tf.function outside of the loop. For (2), @tf.function has reduce_retracing=True option that can avoid unnecessary retracing. For (3), please refer to https://www.tensorflow.org/guide/function#controlling_retracing and https://www.tensorflow.org/api_docs/python/tf/function for  more details.\n",
      "WARNING:tensorflow:6 out of the last 6 calls to <function Model.make_test_function.<locals>.test_function at 0x000001A30B628430> triggered tf.function retracing. Tracing is expensive and the excessive number of tracings could be due to (1) creating @tf.function repeatedly in a loop, (2) passing tensors with different shapes, (3) passing Python objects instead of tensors. For (1), please define your @tf.function outside of the loop. For (2), @tf.function has reduce_retracing=True option that can avoid unnecessary retracing. For (3), please refer to https://www.tensorflow.org/guide/function#controlling_retracing and https://www.tensorflow.org/api_docs/python/tf/function for  more details.\n",
      "Best model {'learning_rate': 0.0001, 'num_neurons': 10, 'acti_fun': 'relu', 'loss': 1.106, 'acc': 0.9864, 'val_loss': 1.7072, 'val_acc': 0.58}\n",
      "Best model {'learning_rate': 0.001, 'num_neurons': 30, 'acti_fun': 'relu', 'loss': 0.2146, 'acc': 0.9959, 'val_loss': 0.8235, 'val_acc': 0.62}\n",
      "Best model {'learning_rate': 0.0001, 'num_neurons': 50, 'acti_fun': 'relu', 'loss': 2.5388, 'acc': 0.9891, 'val_loss': 3.0013, 'val_acc': 0.62}\n",
      "Best model {'learning_rate': 0.0001, 'num_neurons': 100, 'acti_fun': 'relu', 'loss': 3.0065, 'acc': 1.0, 'val_loss': 3.3593, 'val_acc': 0.64}\n",
      "Best model {'learning_rate': 0.0001, 'num_neurons': 150, 'acti_fun': 'relu', 'loss': 3.2343, 'acc': 0.9943, 'val_loss': 3.6137, 'val_acc': 0.62}\n",
      "Best model {'learning_rate': 0.0001, 'num_neurons': 200, 'acti_fun': 'sigmoid', 'loss': 4.1574, 'acc': 0.9944, 'val_loss': 3.6825, 'val_acc': 0.62}\n"
     ]
    }
   ],
   "source": [
    "kf = KFold(n_splits=10, random_state=1, shuffle=True)\n",
    "bestModelArray=[]\n",
    "\n",
    "for nN in number_neurons:\n",
    "    bestRes={'val_acc':0}\n",
    "    for el in possible_learning_rate:\n",
    "        for act in activation:\n",
    "                # Initialize model\n",
    "                model = exT.makeModelL2(nN,act,len(x_train.columns))\n",
    "                \n",
    "                # Instantiate an optimizer to train the model.\n",
    "                optimizer = keras.optimizers.SGD(learning_rate=el)\n",
    "                # Instantiate a loss function.\n",
    "                loss_fn = tf.keras.losses.BinaryCrossentropy()\n",
    "                res={\n",
    "                    \"learning_rate\":el,\n",
    "                    'num_neurons':nN,\n",
    "                    'acti_fun':act\n",
    "                }\n",
    "                \n",
    "                model.compile(optimizer=optimizer,loss=loss_fn,metrics=['accuracy'])\n",
    "\n",
    "                res=exT.train_alternative(res,x_train,y_train,\n",
    "                    x_test, y_test, \n",
    "                    model,\n",
    "                    kf,\n",
    "                    500\n",
    "                   \n",
    "                )\n",
    "                \n",
    "                #Saved the best model based on the accuracy\n",
    "                if(res['val_acc']>bestRes['val_acc']):\n",
    "                    bestModel=model\n",
    "                    bestRes=res\n",
    "                        \n",
    "                    \n",
    "                \n",
    "    print(\"Best model\",bestRes)\n",
    "    bestModelArray.append(bestModel)\n",
    "    # f = open(\"saved_model_\"+stats+\"/summary.txt\", \"a\")\n",
    "    # tmpName=str(bestRes['num_neurons'])+\"_\"+str(bestRes['acti_fun'])+\"_\"+str(bestRes['learning_rate'])+\"_LOSS_\"+str(bestRes['loss'])+\"_ACC_\"+str(bestRes['acc'])+\"_LOSSVAL_\"+str(bestRes['val_loss'])+\"_ACCVAL_\"+str(bestRes['val_acc'])  \n",
    "    # f.write(tmpName+\"\\n\")\n",
    "    # f.close()\n"
   ]
  },
  {
   "cell_type": "markdown",
   "metadata": {},
   "source": [
    "# Dropout"
   ]
  },
  {
   "cell_type": "code",
   "execution_count": null,
   "metadata": {},
   "outputs": [],
   "source": [
    "kf = KFold(n_splits=10, random_state=1, shuffle=True)\n",
    "bestModelArray=[]\n",
    "\n",
    "for nN in number_neurons:\n",
    "    bestRes={'val_acc':0}\n",
    "    for el in possible_learning_rate:\n",
    "        for act in activation:\n",
    "                # Initialize model\n",
    "                model = exT.makeModelDropout(nN,act,len(x_train.columns))\n",
    "                \n",
    "                # Instantiate an optimizer to train the model.\n",
    "                optimizer = keras.optimizers.SGD(learning_rate=el)\n",
    "                # Instantiate a loss function.\n",
    "                loss_fn = tf.keras.losses.BinaryCrossentropy()\n",
    "                res={\n",
    "                    \"learning_rate\":el,\n",
    "                    'num_neurons':nN,\n",
    "                    'acti_fun':act\n",
    "                }\n",
    "                \n",
    "                model.compile(optimizer=optimizer,loss=loss_fn,metrics=['accuracy'])\n",
    "\n",
    "                res=exT.train_alternative(res,x_train,y_train,\n",
    "                    x_test, y_test, \n",
    "                    model,\n",
    "                    kf,\n",
    "                    500\n",
    "                   \n",
    "                )\n",
    "                \n",
    "                #Saved the best model based on the accuracy\n",
    "                if(res['val_acc']>bestRes['val_acc']):\n",
    "                    bestModel=model\n",
    "                    bestRes=res\n",
    "                        \n",
    "                    \n",
    "                \n",
    "    print(\"Best model\",bestRes)\n",
    "    bestModelArray.append(bestModel)\n",
    "    # f = open(\"saved_model_\"+stats+\"/summary.txt\", \"a\")\n",
    "    # tmpName=str(bestRes['num_neurons'])+\"_\"+str(bestRes['acti_fun'])+\"_\"+str(bestRes['learning_rate'])+\"_LOSS_\"+str(bestRes['loss'])+\"_ACC_\"+str(bestRes['acc'])+\"_LOSSVAL_\"+str(bestRes['val_loss'])+\"_ACCVAL_\"+str(bestRes['val_acc'])  \n",
    "    # f.write(tmpName+\"\\n\")\n",
    "    # f.close()\n"
   ]
  },
  {
   "cell_type": "markdown",
   "metadata": {},
   "source": [
    "# Random Forest"
   ]
  },
  {
   "cell_type": "code",
   "execution_count": null,
   "metadata": {},
   "outputs": [],
   "source": [
    "from sklearn.ensemble import RandomForestClassifier\n",
    "\n",
    "clf=RandomForestClassifier(max_depth=2, random_state=42)\n",
    "clf.fit(x_train,y_train)\n",
    "res=clf.predict(x_test)\n",
    "count=0\n",
    "for x,y in zip(res,y_test):\n",
    "    if(x[0]==y[0]):\n",
    "        count+=1\n",
    "print(count/len(x_test))\n"
   ]
  }
 ],
 "metadata": {
  "kernelspec": {
   "display_name": "Python 3.9.13 ('BasketScripts': venv)",
   "language": "python",
   "name": "python3"
  },
  "language_info": {
   "codemirror_mode": {
    "name": "ipython",
    "version": 3
   },
   "file_extension": ".py",
   "mimetype": "text/x-python",
   "name": "python",
   "nbconvert_exporter": "python",
   "pygments_lexer": "ipython3",
   "version": "3.9.13"
  },
  "orig_nbformat": 4,
  "vscode": {
   "interpreter": {
    "hash": "f61b42334e39087fcf873d4b58ce314af401b80aed031fb5917bf158a5bb3c56"
   }
  }
 },
 "nbformat": 4,
 "nbformat_minor": 2
}
