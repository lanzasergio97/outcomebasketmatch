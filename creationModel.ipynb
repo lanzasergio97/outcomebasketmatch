{
 "cells": [
  {
   "cell_type": "code",
   "execution_count": null,
   "metadata": {},
   "outputs": [
    {
     "ename": "",
     "evalue": "",
     "output_type": "error",
     "traceback": [
      "\u001b[1;31mNon è stato possibile avviare il kernel. \n",
      "\u001b[1;31mAttributeError: 'SelectIOLoop' object has no attribute 'asyncio_loop'. \n",
      "\u001b[1;31mPer ulteriori dettagli, visualizzare Jupyter <a href='command:jupyter.viewOutput'>log</a>."
     ]
    }
   ],
   "source": [
    "import tensorflow as tf\n",
    "from tensorflow import keras\n",
    "\n",
    "import externalTensor as exT\n",
    "import numpy as np\n",
    "from sklearn.model_selection import KFold\n",
    "\n",
    "import pandas as pd\n",
    "from boxScore import boxScore\n",
    "import winsound\n",
    "import wandb\n",
    "from wandb.keras import WandbCallback\n",
    "# wandb.login()"
   ]
  },
  {
   "cell_type": "markdown",
   "metadata": {},
   "source": [
    "# Preparation of Data"
   ]
  },
  {
   "cell_type": "code",
   "execution_count": 2,
   "metadata": {},
   "outputs": [],
   "source": [
    "years=\"2018-19\"\n",
    "stats=\"traditional\"\n",
    "# stats='advance'\n",
    "box_score=boxScore(years,stats)\n",
    "\n",
    "x_train, x_test, y_train, y_test=box_score.separation()\n",
    "y_train=np.array(y_train)\n",
    "y_test=np.array(y_test)\n",
    "input_dimension=len(x_train.columns)"
   ]
  },
  {
   "cell_type": "markdown",
   "metadata": {},
   "source": [
    "# Possible Hyperparameters"
   ]
  },
  {
   "cell_type": "code",
   "execution_count": 3,
   "metadata": {},
   "outputs": [],
   "source": [
    "    \n",
    "activation=['relu','sigmoid']\n",
    "# number_neurons=[10,30,50,100,150,200]\n",
    "number_neurons=[10,30]\n",
    "# possible_learning_rate=[0.0001,0.001,0.01]\n",
    "possible_learning_rate=[0.0001]\n",
    "epochs=500\n",
    "batch_size=150"
   ]
  },
  {
   "cell_type": "markdown",
   "metadata": {},
   "source": [
    "# First "
   ]
  },
  {
   "cell_type": "code",
   "execution_count": 6,
   "metadata": {},
   "outputs": [
    {
     "name": "stdout",
     "output_type": "stream",
     "text": [
      "Best model {'learning_rate': 0.0001, 'num_neurons': 10, 'acti_fun': 'relu', 'batch_size': 200, 'epochs': 500, 'architecture': 'OneHiddenLayer', 'dataset': '2018-19_traditional', 'loss': 0.4199, 'acc': 0.8219, 'val_loss': 0.6901, 'val_acc': 0.6}\n",
      "Best model {'learning_rate': 0.0001, 'num_neurons': 30, 'acti_fun': 'relu', 'batch_size': 200, 'epochs': 500, 'architecture': 'OneHiddenLayer', 'dataset': '2018-19_traditional', 'loss': 0.312, 'acc': 0.8815, 'val_loss': 0.7171, 'val_acc': 0.58}\n"
     ]
    }
   ],
   "source": [
    "\n",
    "kf = KFold(n_splits=10, random_state=1, shuffle=True)\n",
    "best_model_array=[]\n",
    "best_config_array=[]\n",
    "for nN in number_neurons:\n",
    "    best_config_tmp={'val_acc':0}\n",
    "    for el in possible_learning_rate:\n",
    "        for act in activation:\n",
    "                # Initialize model\n",
    "                model = exT.makeModelSimple(nN,act,input_dimension)\n",
    "                \n",
    "                # Instantiate an optimizer to train the model.\n",
    "                optimizer = keras.optimizers.SGD(learning_rate=el)\n",
    "                # Instantiate  loss function.\n",
    "                loss_fn = tf.keras.losses.BinaryCrossentropy()\n",
    "                config={\n",
    "                    \"learning_rate\":el,\n",
    "                    'num_neurons':nN,\n",
    "                    'acti_fun':act,\n",
    "                    \"batch_size\": 200,\n",
    "                    \"epochs\": epochs,\n",
    "                    \"architecture\": \"OneHiddenLayer\",\n",
    "                    \"dataset\":years+\"_\"+stats\n",
    "                }\n",
    "               \n",
    "                model.compile(optimizer=optimizer,loss=loss_fn,metrics=['accuracy'])\n",
    "\n",
    "                config=exT.trainModelCrossValidation(config,x_train,y_train,\n",
    "                    x_test, y_test, \n",
    "                    model,\n",
    "                    kf,\n",
    "                    epochs,\n",
    "                    batch_size\n",
    "                   \n",
    "                )\n",
    "                \n",
    "                #Saved the best model based on the accuracy\n",
    "                if(config['val_acc']>best_config_tmp['val_acc']):\n",
    "                    bestModel=model\n",
    "                    best_config_tmp=config\n",
    "                        \n",
    "                    \n",
    "                \n",
    "    print(\"Best model\",best_config_tmp)\n",
    "    best_model_array.append(bestModel)\n",
    "    best_config_array.append(best_config_tmp)\n",
    "    # f = open(\"saved_model_\"+stats+\"/summary.txt\", \"a\")\n",
    "    # f.write(tmpName+\"\\n\")\n",
    "    # f.close()\n",
    "\n",
    "\n",
    "\n",
    "winsound.Beep(440,2500)"
   ]
  },
  {
   "cell_type": "code",
   "execution_count": null,
   "metadata": {},
   "outputs": [],
   "source": [
    "# Best model {'learning_rate': 0.0001, 'num_neurons': 10, 'acti_fun': 'sigmoid', 'batch_size': 200, 'epochs': 500, 'architecture': 'OneHiddenLayer', \n",
    "# 'dataset': '2018-19_traditional', 'loss': 0.2644, 'acc': 0.9037, 'val_loss': 0.9654, 'val_acc': 0.56}\n",
    "# Best model {'learning_rate': 0.0001, 'num_neurons': 30, 'acti_fun': 'sigmoid', 'batch_size': 200, 'epochs': 500, 'architecture': 'OneHiddenLayer', '\n",
    "# dataset': '2018-19_traditional', 'loss': 0.216, 'acc': 0.9199, 'val_loss': 1.0047, 'val_acc': 0.56}"
   ]
  },
  {
   "cell_type": "code",
   "execution_count": 13,
   "metadata": {},
   "outputs": [
    {
     "data": {
      "text/html": [
       "Finishing last run (ID:2k7sjaj8) before initializing another..."
      ],
      "text/plain": [
       "<IPython.core.display.HTML object>"
      ]
     },
     "metadata": {},
     "output_type": "display_data"
    },
    {
     "data": {
      "text/html": [
       "Waiting for W&B process to finish... <strong style=\"color:green\">(success).</strong>"
      ],
      "text/plain": [
       "<IPython.core.display.HTML object>"
      ]
     },
     "metadata": {},
     "output_type": "display_data"
    },
    {
     "data": {
      "text/html": [
       "Synced <strong style=\"color:#cdcd00\">young-sky-2</strong>: <a href=\"https://wandb.ai/progettobasket/Integration/runs/2k7sjaj8\" target=\"_blank\">https://wandb.ai/progettobasket/Integration/runs/2k7sjaj8</a><br/>Synced 5 W&B file(s), 0 media file(s), 0 artifact file(s) and 0 other file(s)"
      ],
      "text/plain": [
       "<IPython.core.display.HTML object>"
      ]
     },
     "metadata": {},
     "output_type": "display_data"
    },
    {
     "data": {
      "text/html": [
       "Find logs at: <code>.\\wandb\\run-20221115_105934-2k7sjaj8\\logs</code>"
      ],
      "text/plain": [
       "<IPython.core.display.HTML object>"
      ]
     },
     "metadata": {},
     "output_type": "display_data"
    },
    {
     "data": {
      "text/html": [
       "Successfully finished last run (ID:2k7sjaj8). Initializing new run:<br/>"
      ],
      "text/plain": [
       "<IPython.core.display.HTML object>"
      ]
     },
     "metadata": {},
     "output_type": "display_data"
    },
    {
     "data": {
      "text/html": [
       "wandb version 0.13.5 is available!  To upgrade, please run:\n",
       " $ pip install wandb --upgrade"
      ],
      "text/plain": [
       "<IPython.core.display.HTML object>"
      ]
     },
     "metadata": {},
     "output_type": "display_data"
    },
    {
     "data": {
      "text/html": [
       "Tracking run with wandb version 0.13.2"
      ],
      "text/plain": [
       "<IPython.core.display.HTML object>"
      ]
     },
     "metadata": {},
     "output_type": "display_data"
    },
    {
     "data": {
      "text/html": [
       "Run data is saved locally in <code>d:\\UniSergio\\BasketScripts\\WaB\\wandb\\run-20221115_110917-1k08gvxz</code>"
      ],
      "text/plain": [
       "<IPython.core.display.HTML object>"
      ]
     },
     "metadata": {},
     "output_type": "display_data"
    },
    {
     "data": {
      "text/html": [
       "Syncing run <strong><a href=\"https://wandb.ai/progettobasket/Integration/runs/1k08gvxz\" target=\"_blank\">twilight-frog-3</a></strong> to <a href=\"https://wandb.ai/progettobasket/Integration\" target=\"_blank\">Weights & Biases</a> (<a href=\"https://wandb.me/run\" target=\"_blank\">docs</a>)<br/>"
      ],
      "text/plain": [
       "<IPython.core.display.HTML object>"
      ]
     },
     "metadata": {},
     "output_type": "display_data"
    },
    {
     "data": {
      "text/html": [
       "Waiting for W&B process to finish... <strong style=\"color:green\">(success).</strong>"
      ],
      "text/plain": [
       "<IPython.core.display.HTML object>"
      ]
     },
     "metadata": {},
     "output_type": "display_data"
    },
    {
     "data": {
      "text/html": [
       "<style>\n",
       "    table.wandb td:nth-child(1) { padding: 0 10px; text-align: left ; width: auto;} td:nth-child(2) {text-align: left ; width: 100%}\n",
       "    .wandb-row { display: flex; flex-direction: row; flex-wrap: wrap; justify-content: flex-start; width: 100% }\n",
       "    .wandb-col { display: flex; flex-direction: column; flex-basis: 100%; flex: 1; padding: 10px; }\n",
       "    </style>\n",
       "<div class=\"wandb-row\"><div class=\"wandb-col\"><h3>Run history:</h3><br/><table class=\"wandb\"><tr><td>acc</td><td>▃▁▁▁▅▃▆▅▆▆▆▆▆▆▆▆▅▅▆▆▅▅▅▅▅█▅▆▆▅▆▆▆▆█▆▆▅▆█</td></tr><tr><td>epochs</td><td>▁▁▁▂▂▂▂▂▂▃▃▃▃▃▄▄▄▄▄▄▅▅▅▅▅▅▆▆▆▆▆▇▇▇▇▇▇███</td></tr><tr><td>loss</td><td>████▇▇▇▇▆▆▆▆▆▆▅▅▅▅▅▅▄▄▄▄▄▃▃▃▃▃▃▂▂▂▂▂▁▁▁▁</td></tr><tr><td>val_acc</td><td>▁▁▁▁▁▁▁▁▁▁▁▁▁▁▁▁▁▁▁▁▁▁▁▁▁▁▁▁▁▁▁▁▁▁▁▁▁▁▁▁</td></tr><tr><td>val_loss</td><td>▁▁▁▂▂▂▂▂▃▃▃▃▃▃▃▃▃▄▄▄▄▅▅▅▅▅▆▅▅▆▆▆▇▇▇▇▇▇██</td></tr></table><br/></div><div class=\"wandb-col\"><h3>Run summary:</h3><br/><table class=\"wandb\"><tr><td>acc</td><td>0.86833</td></tr><tr><td>epochs</td><td>499</td></tr><tr><td>loss</td><td>0.36301</td></tr><tr><td>val_acc</td><td>0.56</td></tr><tr><td>val_loss</td><td>0.70435</td></tr></table><br/></div></div>"
      ],
      "text/plain": [
       "<IPython.core.display.HTML object>"
      ]
     },
     "metadata": {},
     "output_type": "display_data"
    },
    {
     "data": {
      "text/html": [
       "Synced <strong style=\"color:#cdcd00\">twilight-frog-3</strong>: <a href=\"https://wandb.ai/progettobasket/Integration/runs/1k08gvxz\" target=\"_blank\">https://wandb.ai/progettobasket/Integration/runs/1k08gvxz</a><br/>Synced 4 W&B file(s), 0 media file(s), 0 artifact file(s) and 0 other file(s)"
      ],
      "text/plain": [
       "<IPython.core.display.HTML object>"
      ]
     },
     "metadata": {},
     "output_type": "display_data"
    },
    {
     "data": {
      "text/html": [
       "Find logs at: <code>.\\wandb\\run-20221115_110917-1k08gvxz\\logs</code>"
      ],
      "text/plain": [
       "<IPython.core.display.HTML object>"
      ]
     },
     "metadata": {},
     "output_type": "display_data"
    },
    {
     "data": {
      "text/html": [
       "wandb version 0.13.5 is available!  To upgrade, please run:\n",
       " $ pip install wandb --upgrade"
      ],
      "text/plain": [
       "<IPython.core.display.HTML object>"
      ]
     },
     "metadata": {},
     "output_type": "display_data"
    },
    {
     "data": {
      "text/html": [
       "Tracking run with wandb version 0.13.2"
      ],
      "text/plain": [
       "<IPython.core.display.HTML object>"
      ]
     },
     "metadata": {},
     "output_type": "display_data"
    },
    {
     "data": {
      "text/html": [
       "Run data is saved locally in <code>d:\\UniSergio\\BasketScripts\\WaB\\wandb\\run-20221115_110941-7mwvubqf</code>"
      ],
      "text/plain": [
       "<IPython.core.display.HTML object>"
      ]
     },
     "metadata": {},
     "output_type": "display_data"
    },
    {
     "data": {
      "text/html": [
       "Syncing run <strong><a href=\"https://wandb.ai/progettobasket/Integration/runs/7mwvubqf\" target=\"_blank\">happy-voice-4</a></strong> to <a href=\"https://wandb.ai/progettobasket/Integration\" target=\"_blank\">Weights & Biases</a> (<a href=\"https://wandb.me/run\" target=\"_blank\">docs</a>)<br/>"
      ],
      "text/plain": [
       "<IPython.core.display.HTML object>"
      ]
     },
     "metadata": {},
     "output_type": "display_data"
    },
    {
     "data": {
      "text/html": [
       "Waiting for W&B process to finish... <strong style=\"color:green\">(success).</strong>"
      ],
      "text/plain": [
       "<IPython.core.display.HTML object>"
      ]
     },
     "metadata": {},
     "output_type": "display_data"
    },
    {
     "data": {
      "text/html": [
       "<style>\n",
       "    table.wandb td:nth-child(1) { padding: 0 10px; text-align: left ; width: auto;} td:nth-child(2) {text-align: left ; width: 100%}\n",
       "    .wandb-row { display: flex; flex-direction: row; flex-wrap: wrap; justify-content: flex-start; width: 100% }\n",
       "    .wandb-col { display: flex; flex-direction: column; flex-basis: 100%; flex: 1; padding: 10px; }\n",
       "    </style>\n",
       "<div class=\"wandb-row\"><div class=\"wandb-col\"><h3>Run history:</h3><br/><table class=\"wandb\"><tr><td>acc</td><td>▁▁▁▁▁▁▃▁▁▁▆▃▃▃▃█▆█▆████▆████████████████</td></tr><tr><td>epochs</td><td>▁▁▁▂▂▂▂▂▂▃▃▃▃▃▄▄▄▄▄▄▅▅▅▅▅▅▆▆▆▆▆▇▇▇▇▇▇███</td></tr><tr><td>loss</td><td>██▇▇▇▇▇▆▆▆▆▆▆▅▅▅▅▅▄▄▄▄▄▄▃▃▃▃▃▂▂▂▂▂▂▂▁▁▁▁</td></tr><tr><td>val_acc</td><td>▁▁▁▁▁▁▁▁▁▁▁▁▁▁▁▁▁▁▁▁▁▁▁▁▁▁▁▁▁▁▁▁▁▁▁▁▁▁▁▁</td></tr><tr><td>val_loss</td><td>▁▁▁▂▂▂▂▂▂▃▃▃▃▃▃▄▄▄▅▄▄▅▅▅▅▅▆▆▆▆▆▇▇▇▇▇▇███</td></tr></table><br/></div><div class=\"wandb-col\"><h3>Run summary:</h3><br/><table class=\"wandb\"><tr><td>acc</td><td>0.87333</td></tr><tr><td>epochs</td><td>499</td></tr><tr><td>loss</td><td>0.32421</td></tr><tr><td>val_acc</td><td>0.56</td></tr><tr><td>val_loss</td><td>0.70466</td></tr></table><br/></div></div>"
      ],
      "text/plain": [
       "<IPython.core.display.HTML object>"
      ]
     },
     "metadata": {},
     "output_type": "display_data"
    },
    {
     "data": {
      "text/html": [
       "Synced <strong style=\"color:#cdcd00\">happy-voice-4</strong>: <a href=\"https://wandb.ai/progettobasket/Integration/runs/7mwvubqf\" target=\"_blank\">https://wandb.ai/progettobasket/Integration/runs/7mwvubqf</a><br/>Synced 4 W&B file(s), 0 media file(s), 0 artifact file(s) and 0 other file(s)"
      ],
      "text/plain": [
       "<IPython.core.display.HTML object>"
      ]
     },
     "metadata": {},
     "output_type": "display_data"
    },
    {
     "data": {
      "text/html": [
       "Find logs at: <code>.\\wandb\\run-20221115_110941-7mwvubqf\\logs</code>"
      ],
      "text/plain": [
       "<IPython.core.display.HTML object>"
      ]
     },
     "metadata": {},
     "output_type": "display_data"
    }
   ],
   "source": [
    "count=0\n",
    "for model,config in zip(best_model_array,best_config_array):\n",
    "    run = wandb.init(project='Integration', config=config)\n",
    "    run.name=\"Qua\"+str(count)\n",
    "    config = wandb.config\n",
    "    \n",
    "    history=model.fit(x_train,y_train,batch_size=batch_size,verbose=False,validation_data=(x_test, y_test),epochs=epochs)\n",
    "    for epoch in range (epochs):\n",
    "\n",
    "        wandb.log({'epochs': epoch,\n",
    "            'loss': history.history['loss'][epoch],\n",
    "            'acc': float(history.history['accuracy'][epoch]), \n",
    "            'val_loss': history.history['val_loss'][epoch],\n",
    "            'val_acc':float(history.history['val_accuracy'][epoch])})\n",
    "    count+=1\n",
    "    run.finish()"
   ]
  },
  {
   "cell_type": "markdown",
   "metadata": {},
   "source": [
    "<!-- Best model {'learning_rate': 0.001, 'num_neurons': 10, 'acti_fun': 'relu', 'loss': 0.0193, 'acc': 0.9987, 'val_loss': 1.4627, 'val_acc': 0.6}\n",
    "Best model {'learning_rate': 0.0001, 'num_neurons': 30, 'acti_fun': 'sigmoid', 'loss': 0.4884, 'acc': 0.9517, 'val_loss': 0.6466, 'val_acc': 0.64}\n",
    "Best model {'learning_rate': 0.0001, 'num_neurons': 50, 'acti_fun': 'sigmoid', 'loss': 0.5163, 'acc': 0.9437, 'val_loss': 0.656, 'val_acc': 0.66}\n",
    "Best model {'learning_rate': 0.0001, 'num_neurons': 100, 'acti_fun': 'relu', 'loss': 0.0628, 'acc': 0.9951, 'val_loss': 0.775, 'val_acc': 0.64}\n",
    "Best model {'learning_rate': 0.001, 'num_neurons': 150, 'acti_fun': 'relu', 'loss': 0.0135, 'acc': 0.9998, 'val_loss': 1.4478, 'val_acc': 0.64}\n",
    "Best model {'learning_rate': 0.0001, 'num_neurons': 200, 'acti_fun': 'relu', 'loss': 0.0487, 'acc': 1.0, 'val_loss': 0.8261, 'val_acc': 0.64} -->"
   ]
  },
  {
   "cell_type": "markdown",
   "metadata": {},
   "source": [
    "# L2 Regolarization\n"
   ]
  },
  {
   "cell_type": "code",
   "execution_count": null,
   "metadata": {},
   "outputs": [],
   "source": [
    "\n",
    "kf = KFold(n_splits=10, random_state=1, shuffle=True)\n",
    "best_model_array=[]\n",
    "possible_pL2=[0.0001,0.001,0.01]\n",
    "for nN in number_neurons:\n",
    "    best_config_tmp={'val_acc':0}\n",
    "    for el in possible_learning_rate:\n",
    "        for act in activation:\n",
    "            for pl2 in possible_pL2:\n",
    "                # Initialize model\n",
    "                model = exT.makeModelL2(nN,act,input_dimension,pl2)\n",
    "                \n",
    "                # Instantiate an optimizer to train the model.\n",
    "                optimizer = keras.optimizers.SGD(learning_rate=el)\n",
    "                # Instantiate  loss function.\n",
    "                loss_fn = tf.keras.losses.BinaryCrossentropy()\n",
    "                config={\n",
    "                    \"learning_rate\":el,\n",
    "                    'num_neurons':nN,\n",
    "                    'acti_fun':act,\n",
    "                    'pL2':pl2\n",
    "                }\n",
    "                \n",
    "                model.compile(optimizer=optimizer,loss=loss_fn,metrics=['accuracy'])\n",
    "\n",
    "                config=exT.trainModelCrossValidation(config,x_train,y_train,\n",
    "                    x_test, y_test, \n",
    "                    model,\n",
    "                    kf,\n",
    "                    500\n",
    "                   \n",
    "                )\n",
    "                \n",
    "                #Saved the best model based on the accuracy\n",
    "                if(config['val_acc']>best_config_tmp['val_acc']):\n",
    "                    bestModel=model\n",
    "                    best_config_tmp=config\n",
    "                        \n",
    "                    \n",
    "                \n",
    "    print(\"Best model\",best_config_tmp)\n",
    "    best_model_array.append(bestModel)\n",
    "    # f = open(\"saved_model_\"+stats+\"/summary.txt\", \"a\")\n",
    "    # tmpName=str(bestRes['num_neurons'])+\"_\"+str(bestRes['acti_fun'])+\"_\"+str(bestRes['learning_rate'])+\"_LOSS_\"+str(bestRes['loss'])+\"_ACC_\"+str(bestRes['acc'])+\"_LOSSVAL_\"+str(bestRes['val_loss'])+\"_ACCVAL_\"+str(bestRes['val_acc'])  \n",
    "    # f.write(tmpName+\"\\n\")\n",
    "    # f.close()\n"
   ]
  },
  {
   "cell_type": "markdown",
   "metadata": {},
   "source": [
    "# Dropout"
   ]
  },
  {
   "cell_type": "code",
   "execution_count": null,
   "metadata": {},
   "outputs": [],
   "source": [
    "\n",
    "kf = KFold(n_splits=10, random_state=1, shuffle=True)\n",
    "best_model_array=[]\n",
    "possible_p=[0.5,0.6,65]\n",
    "for nN in number_neurons:\n",
    "    best_config_tmp={'val_acc':0}\n",
    "    for el in possible_learning_rate:\n",
    "        for act in activation:\n",
    "            for p in possible_p:\n",
    "                # Initialize model\n",
    "                model = exT.makeModelDropout(nN,act,input_dimension,p)\n",
    "                \n",
    "                # Instantiate an optimizer to train the model.\n",
    "                optimizer = keras.optimizers.SGD(learning_rate=el)\n",
    "                # Instantiate loss function.\n",
    "                loss_fn = tf.keras.losses.BinaryCrossentropy()\n",
    "                config={\n",
    "                    \"learning_rate\":el,\n",
    "                    'num_neurons':nN,\n",
    "                    'acti_fun':act,\n",
    "                    'p-dropout':p\n",
    "                }\n",
    "                \n",
    "                model.compile(optimizer=optimizer,loss=loss_fn,metrics=['accuracy'])\n",
    "\n",
    "                config=exT.trainModelCrossValidation(config,x_train,y_train,\n",
    "                    x_test, y_test, \n",
    "                    model,\n",
    "                    kf,\n",
    "                    500\n",
    "                   \n",
    "                )\n",
    "                \n",
    "                #Saved the best model based on the accuracy\n",
    "                if(config['val_acc']>best_config_tmp['val_acc']):\n",
    "                    bestModel=model\n",
    "                    best_config_tmp=config\n",
    "                        \n",
    "                    \n",
    "                \n",
    "    print(\"Best model\",best_config_tmp)\n",
    "    best_model_array.append(bestModel)\n",
    "    # f = open(\"saved_model_\"+stats+\"/summary.txt\", \"a\")\n",
    "    # tmpName=str(bestRes['num_neurons'])+\"_\"+str(bestRes['acti_fun'])+\"_\"+str(bestRes['learning_rate'])+\"_LOSS_\"+str(bestRes['loss'])+\"_ACC_\"+str(bestRes['acc'])+\"_LOSSVAL_\"+str(bestRes['val_loss'])+\"_ACCVAL_\"+str(bestRes['val_acc'])  \n",
    "    # f.write(tmpName+\"\\n\")\n",
    "    # f.close()\n"
   ]
  },
  {
   "cell_type": "markdown",
   "metadata": {},
   "source": [
    "# AUTOENCODERS ONE LEVEL"
   ]
  },
  {
   "cell_type": "code",
   "execution_count": 4,
   "metadata": {},
   "outputs": [
    {
     "name": "stdout",
     "output_type": "stream",
     "text": [
      "Best model {'learning_rate': 0.01, 'num_neurons': [20, 10], 'acti_fun': 'relu', 'val_acc': 0.5}\n",
      "Best model {'learning_rate': 0.001, 'num_neurons': [15, 5], 'acti_fun': 'relu', 'val_acc': 0.5}\n"
     ]
    }
   ],
   "source": [
    "\n",
    "\n",
    "combination_of_neurons=[[20,10],[15,5]]\n",
    "for comb in combination_of_neurons:\n",
    "    best_config_tmp={'val_acc':0}\n",
    "    for el in possible_learning_rate:\n",
    "    \n",
    "        autoencoder,encoder,decoder = exT.autoencoderOneLevel(input_dimension,comb[0],comb[1])\n",
    "        loss_fn = tf.keras.losses.BinaryCrossentropy()               \n",
    "        autoencoder.compile(optimizer=\"adam\",loss=loss_fn,metrics=['accuracy'])\n",
    "        config={\n",
    "                \"learning_rate\":el,\n",
    "                'num_neurons':comb,\n",
    "                'acti_fun':\"relu\"\n",
    "                \n",
    "            }\n",
    "        tik=autoencoder.fit(x_train,x_train,batch_size=200,verbose=False,epochs=50,validation_data=(x_test,x_test))\n",
    "        config['val_acc']=tik.history['val_accuracy'][-1]\n",
    "        if(config['val_acc']>best_config_tmp['val_acc']):\n",
    "                    bestModel=autoencoder\n",
    "                    best_config_tmp=config\n",
    "                 \n",
    "    print(\"Best model\",best_config_tmp)\n",
    "    # bestModelArray.append(bestModel)"
   ]
  },
  {
   "cell_type": "code",
   "execution_count": null,
   "metadata": {},
   "outputs": [],
   "source": [
    "model = tf.keras.models.load_model('saved_model_'+stats+'/bestModel')\n",
    "\n",
    "optimizer = keras.optimizers.SGD(learning_rate=el)\n",
    "                # Instantiate  loss function.\n",
    "loss_fn = tf.keras.losses.BinaryCrossentropy()\n",
    "\n",
    "model.compile(optimizer=optimizer,loss=loss_fn,metrics=['accuracy'])"
   ]
  },
  {
   "cell_type": "markdown",
   "metadata": {},
   "source": [
    "# AUTOENCODERS SECOND LEVEL"
   ]
  },
  {
   "cell_type": "code",
   "execution_count": 7,
   "metadata": {},
   "outputs": [
    {
     "name": "stdout",
     "output_type": "stream",
     "text": [
      "Best model {'learning_rate': 0.001, 'num_neurons': [20, 15, 5], 'acti_fun': 'relu', 'val_acc': 0.5}\n",
      "Best model {'learning_rate': 0.0001, 'num_neurons': [15, 10, 5], 'acti_fun': 'relu', 'val_acc': 0.5}\n"
     ]
    }
   ],
   "source": [
    "combination_of_neurons=[[20,15,5],[15,10,5]]\n",
    "for comb in combination_of_neurons:\n",
    "    best_config_tmp={'val_acc':0}\n",
    "    for el in possible_learning_rate:\n",
    "    \n",
    "        autoencoder,encoder,decoder = exT.autoencoderTwoLevels(input_dimension,comb[0],comb[1],comb[2])\n",
    "        loss_fn = tf.keras.losses.BinaryCrossentropy()               \n",
    "        autoencoder.compile(optimizer=\"adam\",loss=loss_fn,metrics=['accuracy'])\n",
    "        config={\n",
    "                \"learning_rate\":el,\n",
    "                'num_neurons':comb,\n",
    "                'acti_fun':\"relu\"\n",
    "                \n",
    "            }\n",
    "        tik=autoencoder.fit(x_train,x_train,batch_size=200,verbose=False,epochs=50,validation_data=(x_test,x_test))\n",
    "        config['val_acc']=tik.history['val_accuracy'][-1]\n",
    "        if(config['val_acc']>best_config_tmp['val_acc']):\n",
    "                    bestModel=autoencoder\n",
    "                    best_config_tmp=config\n",
    "                 \n",
    "    print(\"Best model\",best_config_tmp)"
   ]
  },
  {
   "cell_type": "markdown",
   "metadata": {},
   "source": [
    "# Random Forest"
   ]
  },
  {
   "cell_type": "code",
   "execution_count": null,
   "metadata": {},
   "outputs": [],
   "source": [
    "from sklearn.ensemble import RandomForestClassifier\n",
    "best_acc=-1\n",
    "for el in range(2,10):\n",
    "    clf=RandomForestClassifier(max_depth=el, random_state=42)\n",
    "    clf.fit(x_train,y_train)\n",
    "    config=clf.predict(x_test)\n",
    "    count=0\n",
    "    for x,y in zip(config,y_test):\n",
    "        if(x[0]==y[0]):\n",
    "            count+=1\n",
    "    acc=count/len(x_test)\n",
    "    if acc> best_acc:\n",
    "        best_acc=acc\n",
    "print(best_acc,el)"
   ]
  },
  {
   "cell_type": "code",
   "execution_count": null,
   "metadata": {},
   "outputs": [],
   "source": [
    "para_y_train=[]\n",
    "for el1 in y_train:\n",
    "    tmp=1\n",
    "    if(el1[0]==1):\n",
    "        tmp=0\n",
    "    para_y_train.append(tmp)"
   ]
  },
  {
   "cell_type": "code",
   "execution_count": null,
   "metadata": {},
   "outputs": [],
   "source": [
    "from sklearn.ensemble import RandomForestClassifier\n",
    "best_acc=-1\n",
    "for el in range(2,10):\n",
    "    clf=RandomForestClassifier(n_estimators=100,max_depth=el, random_state=42)\n",
    "    clf.fit(x_train,para_y_train)\n",
    "    config=clf.predict(x_test)\n",
    "    count=0\n",
    "    for x,y in zip(config,y_test):\n",
    "        if(x==y[1]):\n",
    "            count+=1\n",
    "    acc=count/len(x_test)\n",
    "    if acc> best_acc:\n",
    "        best_acc=acc\n",
    "print(best_acc,el)"
   ]
  },
  {
   "cell_type": "markdown",
   "metadata": {},
   "source": [
    "# ADA"
   ]
  },
  {
   "cell_type": "code",
   "execution_count": null,
   "metadata": {},
   "outputs": [],
   "source": [
    "from sklearn.ensemble import AdaBoostClassifier\n",
    "\n",
    "best_acc=-1\n",
    "clf = AdaBoostClassifier(n_estimators=100, random_state=42)\n",
    "clf.fit(x_train,para_y_train)\n",
    "config=clf.predict(x_test)\n",
    "count=0\n",
    "for x,y in zip(config,y_test):\n",
    "    if(x==y[1]):\n",
    "        count+=1\n",
    "acc=count/len(x_test)\n",
    "if acc> best_acc:\n",
    "    best_acc=acc\n",
    "print(best_acc)"
   ]
  }
 ],
 "metadata": {
  "kernelspec": {
   "display_name": "Python 3.9.13 ('BasketScripts': venv)",
   "language": "python",
   "name": "python3"
  },
  "language_info": {
   "codemirror_mode": {
    "name": "ipython",
    "version": 3
   },
   "file_extension": ".py",
   "mimetype": "text/x-python",
   "name": "python",
   "nbconvert_exporter": "python",
   "pygments_lexer": "ipython3",
   "version": "3.9.13"
  },
  "orig_nbformat": 4,
  "vscode": {
   "interpreter": {
    "hash": "f61b42334e39087fcf873d4b58ce314af401b80aed031fb5917bf158a5bb3c56"
   }
  }
 },
 "nbformat": 4,
 "nbformat_minor": 2
}
