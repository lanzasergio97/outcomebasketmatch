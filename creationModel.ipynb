{
 "cells": [
  {
   "cell_type": "code",
   "execution_count": 1,
   "metadata": {},
   "outputs": [
    {
     "name": "stderr",
     "output_type": "stream",
     "text": [
      "2022-10-05 16:31:28.816818: W tensorflow/stream_executor/platform/default/dso_loader.cc:64] Could not load dynamic library 'libcudart.so.11.0'; dlerror: libcudart.so.11.0: cannot open shared object file: No such file or directory\n",
      "2022-10-05 16:31:28.816834: I tensorflow/stream_executor/cuda/cudart_stub.cc:29] Ignore above cudart dlerror if you do not have a GPU set up on your machine.\n"
     ]
    }
   ],
   "source": [
    "import tensorflow as tf\n",
    "from tensorflow import keras\n",
    "\n",
    "import externalTensor as exT\n",
    "import numpy as np\n",
    "from sklearn.model_selection import KFold\n",
    "from boxScore import boxScore\n",
    "import lime\n",
    "from lime import lime_tabular\n",
    "import pandas as pd"
   ]
  },
  {
   "cell_type": "markdown",
   "metadata": {},
   "source": [
    "# Preparation of Data"
   ]
  },
  {
   "cell_type": "code",
   "execution_count": 2,
   "metadata": {},
   "outputs": [],
   "source": [
    "years=\"2021-22\"\n",
    "# stats=\"traditional\"\n",
    "stats='advance'\n",
    "box_score=boxScore(years,stats)\n",
    "\n",
    "x_train, x_test, y_train, y_test=box_score.separation()\n",
    "y_train=np.array(y_train)\n"
   ]
  },
  {
   "cell_type": "markdown",
   "metadata": {},
   "source": [
    "# Possible Hyperparameters"
   ]
  },
  {
   "cell_type": "code",
   "execution_count": 3,
   "metadata": {},
   "outputs": [],
   "source": [
    "    \n",
    "activation=['relu','sigmoid']\n",
    "# activation=['relu']\n",
    "number_neurons=[10,30,50,100,150,200]\n",
    "# number_neurons=[10]\n",
    "possible_learning_rate=[0.0001,0.001,0.01]\n",
    "# possible_learning_rate=[0.001]"
   ]
  },
  {
   "cell_type": "markdown",
   "metadata": {},
   "source": [
    "# Greedy Approch"
   ]
  },
  {
   "cell_type": "code",
   "execution_count": null,
   "metadata": {},
   "outputs": [],
   "source": [
    "\n",
    "kf = KFold(n_splits=10, random_state=1, shuffle=True)\n",
    "bestModelArray=[]\n",
    "\n",
    "for nN in number_neurons:\n",
    "    bestRes={'val_acc':0}\n",
    "    for el in possible_learning_rate:\n",
    "        for act in activation:\n",
    "                # Initialize model\n",
    "                model = exT.makeModel(nN,act,len(x_train.columns))\n",
    "                \n",
    "                # Instantiate an optimizer to train the model.\n",
    "                optimizer = keras.optimizers.SGD(learning_rate=el)\n",
    "                # Instantiate a loss function.\n",
    "                loss_fn = tf.keras.losses.BinaryCrossentropy()\n",
    "                res={\n",
    "                    \"learning_rate\":el,\n",
    "                    'num_neurons':nN,\n",
    "                    'acti_fun':act\n",
    "                }\n",
    "                \n",
    "                model.compile(optimizer=optimizer,loss=loss_fn,metrics=['accuracy'])\n",
    "\n",
    "                res=exT.train_alternative(res,x_train,y_train,\n",
    "                    x_test, y_test, \n",
    "                    model,\n",
    "                    kf,\n",
    "                    500\n",
    "                   \n",
    "                )\n",
    "                \n",
    "                #Saved the best model based on the accuracy\n",
    "                if(res['val_acc']>bestRes['val_acc']):\n",
    "                    bestModel=model\n",
    "                    bestRes=res\n",
    "                        \n",
    "                    \n",
    "                \n",
    "    print(\"Best model\",bestRes)\n",
    "    bestModelArray.append(bestModel)\n",
    "    # f = open(\"saved_model_\"+stats+\"/summary.txt\", \"a\")\n",
    "    # tmpName=str(bestRes['num_neurons'])+\"_\"+str(bestRes['acti_fun'])+\"_\"+str(bestRes['learning_rate'])+\"_LOSS_\"+str(bestRes['loss'])+\"_ACC_\"+str(bestRes['acc'])+\"_LOSSVAL_\"+str(bestRes['val_loss'])+\"_ACCVAL_\"+str(bestRes['val_acc'])  \n",
    "    # f.write(tmpName+\"\\n\")\n",
    "    # f.close()\n"
   ]
  },
  {
   "cell_type": "markdown",
   "metadata": {},
   "source": [
    "<!-- Best model {'learning_rate': 0.001, 'num_neurons': 10, 'acti_fun': 'relu', 'loss': 0.0193, 'acc': 0.9987, 'val_loss': 1.4627, 'val_acc': 0.6}\n",
    "Best model {'learning_rate': 0.0001, 'num_neurons': 30, 'acti_fun': 'sigmoid', 'loss': 0.4884, 'acc': 0.9517, 'val_loss': 0.6466, 'val_acc': 0.64}\n",
    "Best model {'learning_rate': 0.0001, 'num_neurons': 50, 'acti_fun': 'sigmoid', 'loss': 0.5163, 'acc': 0.9437, 'val_loss': 0.656, 'val_acc': 0.66}\n",
    "Best model {'learning_rate': 0.0001, 'num_neurons': 100, 'acti_fun': 'relu', 'loss': 0.0628, 'acc': 0.9951, 'val_loss': 0.775, 'val_acc': 0.64}\n",
    "Best model {'learning_rate': 0.001, 'num_neurons': 150, 'acti_fun': 'relu', 'loss': 0.0135, 'acc': 0.9998, 'val_loss': 1.4478, 'val_acc': 0.64}\n",
    "Best model {'learning_rate': 0.0001, 'num_neurons': 200, 'acti_fun': 'relu', 'loss': 0.0487, 'acc': 1.0, 'val_loss': 0.8261, 'val_acc': 0.64} -->"
   ]
  },
  {
   "cell_type": "markdown",
   "metadata": {},
   "source": [
    "# L2 Regolarization\n"
   ]
  },
  {
   "cell_type": "code",
   "execution_count": 4,
   "metadata": {},
   "outputs": [
    {
     "ename": "ValueError",
     "evalue": "Unrecognized keyword arguments: ['kernel_regularizer']",
     "output_type": "error",
     "traceback": [
      "\u001b[0;31m---------------------------------------------------------------------------\u001b[0m",
      "\u001b[0;31mValueError\u001b[0m                                Traceback (most recent call last)",
      "\u001b[1;32m/home/sergio/UniSergio/BasketScript/WaB/outcomebasketmatch/creationModel.ipynb Cell 10\u001b[0m in \u001b[0;36m<cell line: 4>\u001b[0;34m()\u001b[0m\n\u001b[1;32m      <a href='vscode-notebook-cell:/home/sergio/UniSergio/BasketScript/WaB/outcomebasketmatch/creationModel.ipynb#X34sZmlsZQ%3D%3D?line=5'>6</a>\u001b[0m \u001b[39mfor\u001b[39;00m el \u001b[39min\u001b[39;00m possible_learning_rate:\n\u001b[1;32m      <a href='vscode-notebook-cell:/home/sergio/UniSergio/BasketScript/WaB/outcomebasketmatch/creationModel.ipynb#X34sZmlsZQ%3D%3D?line=6'>7</a>\u001b[0m     \u001b[39mfor\u001b[39;00m act \u001b[39min\u001b[39;00m activation:\n\u001b[1;32m      <a href='vscode-notebook-cell:/home/sergio/UniSergio/BasketScript/WaB/outcomebasketmatch/creationModel.ipynb#X34sZmlsZQ%3D%3D?line=7'>8</a>\u001b[0m             \u001b[39m# Initialize model\u001b[39;00m\n\u001b[0;32m----> <a href='vscode-notebook-cell:/home/sergio/UniSergio/BasketScript/WaB/outcomebasketmatch/creationModel.ipynb#X34sZmlsZQ%3D%3D?line=8'>9</a>\u001b[0m             model \u001b[39m=\u001b[39m exT\u001b[39m.\u001b[39;49mmakeModelSecond(nN,act,\u001b[39mlen\u001b[39;49m(x_train\u001b[39m.\u001b[39;49mcolumns))\n\u001b[1;32m     <a href='vscode-notebook-cell:/home/sergio/UniSergio/BasketScript/WaB/outcomebasketmatch/creationModel.ipynb#X34sZmlsZQ%3D%3D?line=10'>11</a>\u001b[0m             \u001b[39m# Instantiate an optimizer to train the model.\u001b[39;00m\n\u001b[1;32m     <a href='vscode-notebook-cell:/home/sergio/UniSergio/BasketScript/WaB/outcomebasketmatch/creationModel.ipynb#X34sZmlsZQ%3D%3D?line=11'>12</a>\u001b[0m             optimizer \u001b[39m=\u001b[39m keras\u001b[39m.\u001b[39moptimizers\u001b[39m.\u001b[39mSGD(learning_rate\u001b[39m=\u001b[39mel)\n",
      "File \u001b[0;32m~/UniSergio/BasketScript/WaB/outcomebasketmatch/externalTensor.py:27\u001b[0m, in \u001b[0;36mmakeModelSecond\u001b[0;34m(neuronNumbers, activation, input_dimension)\u001b[0m\n\u001b[1;32m     24\u001b[0m \u001b[39mdef\u001b[39;00m \u001b[39mmakeModelSecond\u001b[39m(neuronNumbers,activation,input_dimension):\n\u001b[0;32m---> 27\u001b[0m     inputs \u001b[39m=\u001b[39m keras\u001b[39m.\u001b[39;49mInput(shape\u001b[39m=\u001b[39;49m(input_dimension,),kernel_regularizer\u001b[39m=\u001b[39;49mkeras\u001b[39m.\u001b[39;49mregularizers\u001b[39m.\u001b[39;49ml2(\u001b[39m0.001\u001b[39;49m), name\u001b[39m=\u001b[39;49m\u001b[39m\"\u001b[39;49m\u001b[39minput\u001b[39;49m\u001b[39m\"\u001b[39;49m)\n\u001b[1;32m     28\u001b[0m     hidden \u001b[39m=\u001b[39m keras\u001b[39m.\u001b[39mlayers\u001b[39m.\u001b[39mDense(neuronNumbers, activation\u001b[39m=\u001b[39mactivation,name\u001b[39m=\u001b[39m\u001b[39m\"\u001b[39m\u001b[39mhidden\u001b[39m\u001b[39m\"\u001b[39m,\n\u001b[1;32m     29\u001b[0m     kernel_regularizer\u001b[39m=\u001b[39mkeras\u001b[39m.\u001b[39mregularizers\u001b[39m.\u001b[39ml2(\u001b[39m0.001\u001b[39m))(inputs)\n\u001b[1;32m     31\u001b[0m     outputs \u001b[39m=\u001b[39m keras\u001b[39m.\u001b[39mlayers\u001b[39m.\u001b[39mDense(\u001b[39m2\u001b[39m,activation\u001b[39m=\u001b[39mtf\u001b[39m.\u001b[39mkeras\u001b[39m.\u001b[39mactivations\u001b[39m.\u001b[39msoftmax,kernel_regularizer\u001b[39m=\u001b[39mkeras\u001b[39m.\u001b[39mregularizers\u001b[39m.\u001b[39ml2(\u001b[39m0.001\u001b[39m),name\u001b[39m=\u001b[39m\u001b[39m\"\u001b[39m\u001b[39mpredictions\u001b[39m\u001b[39m\"\u001b[39m)(hidden)\n",
      "File \u001b[0;32m~/UniSergio/BasketScript/lib/python3.8/site-packages/keras/utils/traceback_utils.py:67\u001b[0m, in \u001b[0;36mfilter_traceback.<locals>.error_handler\u001b[0;34m(*args, **kwargs)\u001b[0m\n\u001b[1;32m     65\u001b[0m \u001b[39mexcept\u001b[39;00m \u001b[39mException\u001b[39;00m \u001b[39mas\u001b[39;00m e:  \u001b[39m# pylint: disable=broad-except\u001b[39;00m\n\u001b[1;32m     66\u001b[0m   filtered_tb \u001b[39m=\u001b[39m _process_traceback_frames(e\u001b[39m.\u001b[39m__traceback__)\n\u001b[0;32m---> 67\u001b[0m   \u001b[39mraise\u001b[39;00m e\u001b[39m.\u001b[39mwith_traceback(filtered_tb) \u001b[39mfrom\u001b[39;00m \u001b[39mNone\u001b[39m\n\u001b[1;32m     68\u001b[0m \u001b[39mfinally\u001b[39;00m:\n\u001b[1;32m     69\u001b[0m   \u001b[39mdel\u001b[39;00m filtered_tb\n",
      "File \u001b[0;32m~/UniSergio/BasketScript/lib/python3.8/site-packages/keras/engine/input_layer.py:380\u001b[0m, in \u001b[0;36mInput\u001b[0;34m(shape, batch_size, name, dtype, sparse, tensor, ragged, type_spec, **kwargs)\u001b[0m\n\u001b[1;32m    375\u001b[0m   \u001b[39mraise\u001b[39;00m \u001b[39mValueError\u001b[39;00m(\u001b[39m'\u001b[39m\u001b[39mPlease provide to Input a `shape` \u001b[39m\u001b[39m'\u001b[39m\n\u001b[1;32m    376\u001b[0m                    \u001b[39m'\u001b[39m\u001b[39mor a `tensor` or a `type_spec` argument. Note that \u001b[39m\u001b[39m'\u001b[39m\n\u001b[1;32m    377\u001b[0m                    \u001b[39m'\u001b[39m\u001b[39m`shape` does not include the batch \u001b[39m\u001b[39m'\u001b[39m\n\u001b[1;32m    378\u001b[0m                    \u001b[39m'\u001b[39m\u001b[39mdimension.\u001b[39m\u001b[39m'\u001b[39m)\n\u001b[1;32m    379\u001b[0m \u001b[39mif\u001b[39;00m kwargs:\n\u001b[0;32m--> 380\u001b[0m   \u001b[39mraise\u001b[39;00m \u001b[39mValueError\u001b[39;00m(\u001b[39mf\u001b[39m\u001b[39m'\u001b[39m\u001b[39mUnrecognized keyword arguments: \u001b[39m\u001b[39m{\u001b[39;00m\u001b[39mlist\u001b[39m(kwargs\u001b[39m.\u001b[39mkeys())\u001b[39m}\u001b[39;00m\u001b[39m'\u001b[39m)\n\u001b[1;32m    382\u001b[0m \u001b[39mif\u001b[39;00m batch_input_shape:\n\u001b[1;32m    383\u001b[0m   shape \u001b[39m=\u001b[39m batch_input_shape[\u001b[39m1\u001b[39m:]\n",
      "\u001b[0;31mValueError\u001b[0m: Unrecognized keyword arguments: ['kernel_regularizer']"
     ]
    }
   ],
   "source": [
    "kf = KFold(n_splits=10, random_state=1, shuffle=True)\n",
    "bestModelArray=[]\n",
    "\n",
    "for nN in number_neurons:\n",
    "    bestRes={'val_acc':0}\n",
    "    for el in possible_learning_rate:\n",
    "        for act in activation:\n",
    "                # Initialize model\n",
    "                model = exT.makeModelSecond(nN,act,len(x_train.columns))\n",
    "                \n",
    "                # Instantiate an optimizer to train the model.\n",
    "                optimizer = keras.optimizers.SGD(learning_rate=el)\n",
    "                # Instantiate a loss function.\n",
    "                loss_fn = tf.keras.losses.BinaryCrossentropy()\n",
    "                res={\n",
    "                    \"learning_rate\":el,\n",
    "                    'num_neurons':nN,\n",
    "                    'acti_fun':act\n",
    "                }\n",
    "                \n",
    "                model.compile(optimizer=optimizer,loss=loss_fn,metrics=['accuracy'])\n",
    "\n",
    "                res=exT.train_alternative(res,x_train,y_train,\n",
    "                    x_test, y_test, \n",
    "                    model,\n",
    "                    kf,\n",
    "                    500\n",
    "                   \n",
    "                )\n",
    "                \n",
    "                #Saved the best model based on the accuracy\n",
    "                if(res['val_acc']>bestRes['val_acc']):\n",
    "                    bestModel=model\n",
    "                    bestRes=res\n",
    "                        \n",
    "                    \n",
    "                \n",
    "    print(\"Best model\",bestRes)\n",
    "    bestModelArray.append(bestModel)\n",
    "    # f = open(\"saved_model_\"+stats+\"/summary.txt\", \"a\")\n",
    "    # tmpName=str(bestRes['num_neurons'])+\"_\"+str(bestRes['acti_fun'])+\"_\"+str(bestRes['learning_rate'])+\"_LOSS_\"+str(bestRes['loss'])+\"_ACC_\"+str(bestRes['acc'])+\"_LOSSVAL_\"+str(bestRes['val_loss'])+\"_ACCVAL_\"+str(bestRes['val_acc'])  \n",
    "    # f.write(tmpName+\"\\n\")\n",
    "    # f.close()\n"
   ]
  }
 ],
 "metadata": {
  "kernelspec": {
   "display_name": "BasketScript",
   "language": "python",
   "name": "basketscript"
  },
  "language_info": {
   "codemirror_mode": {
    "name": "ipython",
    "version": 3
   },
   "file_extension": ".py",
   "mimetype": "text/x-python",
   "name": "python",
   "nbconvert_exporter": "python",
   "pygments_lexer": "ipython3",
   "version": "3.8.10"
  },
  "orig_nbformat": 4,
  "vscode": {
   "interpreter": {
    "hash": "f61b42334e39087fcf873d4b58ce314af401b80aed031fb5917bf158a5bb3c56"
   }
  }
 },
 "nbformat": 4,
 "nbformat_minor": 2
}
