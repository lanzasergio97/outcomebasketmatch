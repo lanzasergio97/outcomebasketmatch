{
 "cells": [
  {
   "cell_type": "code",
   "execution_count": 1,
   "metadata": {},
   "outputs": [],
   "source": [
    "import tensorflow as tf\n",
    "from tensorflow import keras\n",
    "import externalTensor as exT\n",
    "from sklearn.model_selection import KFold\n",
    "\n",
    "import numpy as np\n",
    "\n",
    "\n",
    "import pandas as pd\n",
    "from boxScore import boxScore\n",
    "import winsound\n",
    "import wandb\n",
    "from wandb.keras import WandbCallback"
   ]
  },
  {
   "cell_type": "markdown",
   "metadata": {},
   "source": [
    "# Preparation of Data"
   ]
  },
  {
   "cell_type": "code",
   "execution_count": 2,
   "metadata": {},
   "outputs": [],
   "source": [
    "years=\"2018-19\"\n",
    "stats=\"traditional\"\n",
    "# stats='advance'\n",
    "box_score=boxScore(years,stats)\n",
    "\n",
    "x_train, x_test, y_train, y_test=box_score.separation()\n",
    "y_train=np.array(y_train)\n",
    "y_test=np.array(y_test)\n",
    "input_dimension=len(x_train.columns)"
   ]
  },
  {
   "cell_type": "code",
   "execution_count": 36,
   "metadata": {},
   "outputs": [],
   "source": [
    "# df=pd.DataFrame(y_train,columns=[\"WinHome\",\"WinAway\"])\n",
    "# df.to_csv(\"test1819ytrain.csv\")"
   ]
  },
  {
   "cell_type": "markdown",
   "metadata": {},
   "source": [
    "# Possible Hyperparameters"
   ]
  },
  {
   "cell_type": "code",
   "execution_count": 3,
   "metadata": {},
   "outputs": [],
   "source": [
    "    \n",
    "activation=['relu','sigmoid']\n",
    "number_neurons=[10,30,50,100,150,200]\n",
    "# number_neurons=[10,30]\n",
    "possible_learning_rate=[0.0001,0.001,0.01]\n",
    "# possible_learning_rate=[0.0001]\n",
    "epochs=500\n",
    "batch_size=150\n",
    "kf = KFold(n_splits=10, random_state=1, shuffle=True)"
   ]
  },
  {
   "cell_type": "markdown",
   "metadata": {},
   "source": [
    "# First "
   ]
  },
  {
   "cell_type": "code",
   "execution_count": 20,
   "metadata": {},
   "outputs": [
    {
     "name": "stdout",
     "output_type": "stream",
     "text": [
      "Best model {'learning_rate': 0.01, 'num_neurons': 10, 'acti_fun': 'sigmoid', 'batch_size': 200, 'epochs': 500, 'architecture': 'OneHiddenLayer', 'dataset': '2018-19_advance', 'loss': 0.20900047829970717, 'acc': 0.9599929609715938, 'val_loss': 0.8176719854831695, 'val_acc': 0.6437520051121711}\n",
      "Best model {'learning_rate': 0.01, 'num_neurons': 30, 'acti_fun': 'relu', 'batch_size': 200, 'epochs': 500, 'architecture': 'OneHiddenLayer', 'dataset': '2018-19_advance', 'loss': 0.06979430980128236, 'acc': 0.975337403947115, 'val_loss': 1.9508475945949555, 'val_acc': 0.656120004528761}\n",
      "Best model {'learning_rate': 0.001, 'num_neurons': 50, 'acti_fun': 'sigmoid', 'batch_size': 200, 'epochs': 500, 'architecture': 'OneHiddenLayer', 'dataset': '2018-19_advance', 'loss': 0.30580070467293263, 'acc': 0.9791448065102101, 'val_loss': 0.6325237509012223, 'val_acc': 0.7059440090596676}\n",
      "Best model {'learning_rate': 0.001, 'num_neurons': 100, 'acti_fun': 'sigmoid', 'batch_size': 200, 'epochs': 500, 'architecture': 'OneHiddenLayer', 'dataset': '2018-19_advance', 'loss': 0.18564441210106014, 'acc': 0.9838492555618286, 'val_loss': 0.6710229936599732, 'val_acc': 0.6717040083765984}\n",
      "Best model {'learning_rate': 0.01, 'num_neurons': 150, 'acti_fun': 'sigmoid', 'batch_size': 200, 'epochs': 500, 'architecture': 'OneHiddenLayer', 'dataset': '2018-19_advance', 'loss': 0.061954994009248913, 'acc': 0.979058885538578, 'val_loss': 1.2355239321470262, 'val_acc': 0.6653840021133423}\n",
      "Best model {'learning_rate': 0.001, 'num_neurons': 200, 'acti_fun': 'relu', 'batch_size': 200, 'epochs': 500, 'architecture': 'OneHiddenLayer', 'dataset': '2018-19_advance', 'loss': 0.06147261193059385, 'acc': 0.9931799954712391, 'val_loss': 1.2930704367756845, 'val_acc': 0.6902479958355426}\n"
     ]
    }
   ],
   "source": [
    "\n",
    "best_model_array=[]\n",
    "best_config_array=[]\n",
    "best_history_array=[]\n",
    "for num in number_neurons:\n",
    "    best_config_tmp={'val_acc':0}\n",
    "    best_history_tmp=[]\n",
    "    for el in possible_learning_rate:\n",
    "        for act in activation:\n",
    "                # Initialize model\n",
    "                model = exT.makeModelSimple(num,act,input_dimension)\n",
    "                \n",
    "                # Instantiate an optimizer to train the model.\n",
    "                optimizer = keras.optimizers.SGD(learning_rate=el)\n",
    "                # Instantiate  loss function.\n",
    "                loss_fn = tf.keras.losses.BinaryCrossentropy()\n",
    "                model.compile(optimizer=optimizer,loss=loss_fn,metrics=['accuracy'])\n",
    "                config={\n",
    "                    \"learning_rate\":el,\n",
    "                    'num_neurons':num,\n",
    "                    'acti_fun':act,\n",
    "                    \"batch_size\": batch_size,\n",
    "                    \"epochs\": epochs,\n",
    "                    \"architecture\": \"OneHiddenLayer\",\n",
    "                    \"dataset\":years+\"_\"+stats\n",
    "                }\n",
    "               \n",
    "                \n",
    "                # Train the model \n",
    "                config,history=exT.trainModelCrossValidation(config,x_train,y_train,\n",
    "                    x_test, y_test, \n",
    "                    model,\n",
    "                    kf,\n",
    "                    epochs,\n",
    "                    batch_size\n",
    "                   \n",
    "                )\n",
    "                \n",
    "                #Saved the best model based on: accuracy, number of neurons of first hidden level and type of stats\n",
    "                if(config['val_acc']>best_config_tmp['val_acc']):\n",
    "                    bestModel=model\n",
    "                    best_config_tmp=config\n",
    "                    best_history_tmp=history   \n",
    "                    \n",
    "                \n",
    "    print(\"Best model\",best_config_tmp)\n",
    "    best_model_array.append(bestModel)\n",
    "    best_config_array.append(best_config_tmp)\n",
    "    best_history_array.append(best_history_tmp)\n",
    "\n",
    "\n",
    "\n",
    "winsound.Beep(440,2500)"
   ]
  },
  {
   "cell_type": "code",
   "execution_count": 4,
   "metadata": {},
   "outputs": [],
   "source": [
    "def wandbWrite(project_name,best_config_array,best_history_array,name_runs):\n",
    "   \n",
    "    for model_history,config in zip(best_history_array,best_config_array):\n",
    "        run = wandb.init(project=project_name, config=config)\n",
    "        name=name_runs+str(config[\"num_neurons\"])\n",
    "        run.name=name\n",
    "        config = wandb.config\n",
    "        for epoch in range (len(model_history[0])):\n",
    "            wandb.log({'epochs': epoch,\n",
    "                'loss': round(model_history[0][epoch],3),\n",
    "                'acc': round(model_history[1][epoch],3), \n",
    "                'val_loss': round(model_history[2][epoch],3),\n",
    "                'val_acc':round(model_history[3][epoch],3)\n",
    "                }\n",
    "                )\n",
    "        \n",
    "        run.finish()"
   ]
  },
  {
   "cell_type": "code",
   "execution_count": null,
   "metadata": {},
   "outputs": [],
   "source": [
    "wandb.login()\n",
    "\n",
    "project_name=\"T\"+stats[0:3].capitalize()+years[2:].replace(\"-\",\"\")+\"runs\"\n",
    "\n",
    "wandbWrite(project_name,best_config_array,best_history_array,\"onehidden_\")\n"
   ]
  },
  {
   "cell_type": "markdown",
   "metadata": {},
   "source": [
    "<!-- Best model {'learning_rate': 0.001, 'num_neurons': 10, 'acti_fun': 'relu', 'loss': 0.0193, 'acc': 0.9987, 'val_loss': 1.4627, 'val_acc': 0.6}\n",
    "Best model {'learning_rate': 0.0001, 'num_neurons': 30, 'acti_fun': 'sigmoid', 'loss': 0.4884, 'acc': 0.9517, 'val_loss': 0.6466, 'val_acc': 0.64}\n",
    "Best model {'learning_rate': 0.0001, 'num_neurons': 50, 'acti_fun': 'sigmoid', 'loss': 0.5163, 'acc': 0.9437, 'val_loss': 0.656, 'val_acc': 0.66}\n",
    "Best model {'learning_rate': 0.0001, 'num_neurons': 100, 'acti_fun': 'relu', 'loss': 0.0628, 'acc': 0.9951, 'val_loss': 0.775, 'val_acc': 0.64}\n",
    "Best model {'learning_rate': 0.001, 'num_neurons': 150, 'acti_fun': 'relu', 'loss': 0.0135, 'acc': 0.9998, 'val_loss': 1.4478, 'val_acc': 0.64}\n",
    "Best model {'learning_rate': 0.0001, 'num_neurons': 200, 'acti_fun': 'relu', 'loss': 0.0487, 'acc': 1.0, 'val_loss': 0.8261, 'val_acc': 0.64} -->"
   ]
  },
  {
   "cell_type": "markdown",
   "metadata": {},
   "source": [
    "# L2 Regolarization\n"
   ]
  },
  {
   "cell_type": "code",
   "execution_count": 5,
   "metadata": {},
   "outputs": [
    {
     "name": "stdout",
     "output_type": "stream",
     "text": [
      "Best model {'learning_rate': 0.0001, 'num_neurons': 10, 'acti_fun': 'sigmoid', 'batch_size': 200, 'epochs': 500, 'architecture': 'OneHiddenLayerL2', 'pl2': 0.001, 'dataset': '2018-19_traditional', 'loss': 0.6163995435774327, 'acc': 0.7627303644359111, 'val_loss': 0.7921850082039833, 'val_acc': 0.5745880062580109}\n",
      "Best model {'learning_rate': 0.0001, 'num_neurons': 30, 'acti_fun': 'sigmoid', 'batch_size': 200, 'epochs': 500, 'architecture': 'OneHiddenLayerL2', 'pl2': 0.0001, 'dataset': '2018-19_traditional', 'loss': 0.8071493991732598, 'acc': 0.7861262950897216, 'val_loss': 1.147052707529068, 'val_acc': 0.5704319981098175}\n"
     ]
    }
   ],
   "source": [
    "best_model_array=[]\n",
    "best_config_array=[]\n",
    "best_history_array=[]\n",
    "possible_pL2=[0.0001,0.001,0.01]\n",
    "for num in number_neurons:\n",
    "    best_config_tmp={'val_acc':0}\n",
    "    best_history_tmp=[]\n",
    "    for el in possible_learning_rate:\n",
    "        for act in activation:\n",
    "            for pl2 in possible_pL2:\n",
    "                # Initialize model\n",
    "                model = exT.makeModelL2(num,act,input_dimension,pl2)\n",
    "                # Instantiate an optimizer to train the model.\n",
    "                optimizer = keras.optimizers.SGD(learning_rate=el)\n",
    "                # Instantiate  loss function.\n",
    "                loss_fn = tf.keras.losses.BinaryCrossentropy()\n",
    "                model.compile(optimizer=optimizer,loss=loss_fn,metrics=['accuracy'])\n",
    "                config={\n",
    "                    \"learning_rate\":el,\n",
    "                    'num_neurons':num,\n",
    "                    'acti_fun':act,\n",
    "                    \"batch_size\": 200,\n",
    "                    \"epochs\": epochs,\n",
    "                    \"architecture\": \"OneHiddenLayerL2\",\n",
    "                    \"pl2\":pl2,\n",
    "                    \"dataset\":years+\"_\"+stats\n",
    "                }\n",
    "                \n",
    "\n",
    "                config,history=exT.trainModelCrossValidation(config,x_train,y_train,\n",
    "                    x_test, y_test, \n",
    "                    model,\n",
    "                    kf,\n",
    "                    500\n",
    "                   \n",
    "                )\n",
    "                \n",
    "                #Saved the best model based on the accuracy\n",
    "                if(config['val_acc']>best_config_tmp['val_acc']):\n",
    "                    bestModel=model\n",
    "                    best_config_tmp=config\n",
    "                    best_history_tmp=history   \n",
    "                        \n",
    "                    \n",
    "                \n",
    "    print(\"Best model\",best_config_tmp)\n",
    "    best_model_array.append(bestModel)\n",
    "    best_config_array.append(best_config_tmp)\n",
    "    best_history_array.append(best_history_tmp)\n"
   ]
  },
  {
   "cell_type": "code",
   "execution_count": null,
   "metadata": {},
   "outputs": [],
   "source": [
    "winsound.Beep(440,2500)"
   ]
  },
  {
   "cell_type": "code",
   "execution_count": null,
   "metadata": {},
   "outputs": [],
   "source": [
    "wandb.login()\n",
    "\n",
    "project_name=\"T\"+stats[0:3].capitalize()+years[2:].replace(\"-\",\"\")+\"runs\"\n",
    "\n",
    "wandbWrite(project_name,best_config_array,best_history_array,\"onehiddenL2_\")"
   ]
  },
  {
   "cell_type": "markdown",
   "metadata": {},
   "source": [
    "# Dropout"
   ]
  },
  {
   "cell_type": "code",
   "execution_count": null,
   "metadata": {},
   "outputs": [],
   "source": [
    "best_model_array=[]\n",
    "best_config_array=[]\n",
    "best_history_array=[]\n",
    "possible_p=[0.5,0.6,65]\n",
    "for num in number_neurons:\n",
    "    best_config_tmp={'val_acc':0}\n",
    "    best_history_tmp=[]\n",
    "    for el in possible_learning_rate:\n",
    "        for act in activation:\n",
    "            for p in possible_p:\n",
    "                # Initialize model\n",
    "                model = exT.makeModelDropout(num,act,input_dimension,p)\n",
    "                \n",
    "                # Instantiate an optimizer to train the model.\n",
    "                optimizer = keras.optimizers.SGD(learning_rate=el)\n",
    "                # Instantiate loss function.\n",
    "                loss_fn = tf.keras.losses.BinaryCrossentropy()\n",
    "                model.compile(optimizer=optimizer,loss=loss_fn,metrics=['accuracy'])\n",
    "                config={\n",
    "                    \"learning_rate\":el,\n",
    "                    'num_neurons':num,\n",
    "                    'acti_fun':act,\n",
    "                    \"batch_size\": 200,\n",
    "                    \"epochs\": epochs,\n",
    "                    \"architecture\": \"OneHiddenLayerDropout\",\n",
    "                    'p-dropout':p,\n",
    "                    \"dataset\":years+\"_\"+stats\n",
    "                }\n",
    "                \n",
    "               \n",
    "\n",
    "                config,history=exT.trainModelCrossValidation(config,x_train,y_train,\n",
    "                    x_test, y_test, \n",
    "                    model,\n",
    "                    kf,\n",
    "                    500\n",
    "                   \n",
    "                )\n",
    "                \n",
    "                #Saved the best model based on the accuracy\n",
    "                if(config['val_acc']>best_config_tmp['val_acc']):\n",
    "                    bestModel=model\n",
    "                    best_config_tmp=config\n",
    "                    best_history_tmp=history    \n",
    "                    \n",
    "                \n",
    "    print(\"Best model\",best_config_tmp)\n",
    "    best_model_array.append(bestModel)\n",
    "    best_config_array.append(best_config_tmp)\n",
    "    best_history_array.append(best_history_tmp)\n",
    "winsound.Beep(440,2500)"
   ]
  },
  {
   "cell_type": "code",
   "execution_count": null,
   "metadata": {},
   "outputs": [],
   "source": [
    "wandb.login()\n",
    "\n",
    "project_name=\"T\"+stats[0:3].capitalize()+years[2:].replace(\"-\",\"\")+\"runs\"\n",
    "\n",
    "wandbWrite(project_name,best_config_array,best_history_array,\"onehiddenDrop_\")"
   ]
  },
  {
   "cell_type": "markdown",
   "metadata": {},
   "source": [
    "# AUTOENCODERS ONE LEVEL"
   ]
  },
  {
   "cell_type": "code",
   "execution_count": null,
   "metadata": {},
   "outputs": [],
   "source": [
    "\n",
    "\n",
    "combination_of_neurons=[[20,10],[15,5]]\n",
    "for comb in combination_of_neurons:\n",
    "    best_config_tmp={'val_acc':0}\n",
    "    for el in possible_learning_rate:\n",
    "    \n",
    "        autoencoder,encoder,decoder = exT.autoencoderOneLevel(input_dimension,comb[0],comb[1])\n",
    "        loss_fn = tf.keras.losses.BinaryCrossentropy()               \n",
    "        autoencoder.compile(optimizer=\"adam\",loss=loss_fn,metrics=['accuracy'])\n",
    "        config={\n",
    "                \"learning_rate\":el,\n",
    "                'num_neurons':comb,\n",
    "                'acti_fun':\"relu\"\n",
    "                \n",
    "            }\n",
    "        tik=autoencoder.fit(x_train,x_train,batch_size=200,verbose=False,epochs=50,validation_data=(x_test,x_test))\n",
    "        config['val_acc']=tik.history['val_accuracy'][-1]\n",
    "        if(config['val_acc']>best_config_tmp['val_acc']):\n",
    "                    bestModel=autoencoder\n",
    "                    best_config_tmp=config\n",
    "                 \n",
    "    print(\"Best model\",best_config_tmp)\n",
    "    # bestModelArray.append(bestModel)"
   ]
  },
  {
   "cell_type": "code",
   "execution_count": null,
   "metadata": {},
   "outputs": [],
   "source": [
    "model = tf.keras.models.load_model('saved_model_'+stats+'/bestModel')\n",
    "\n",
    "optimizer = keras.optimizers.SGD(learning_rate=el)\n",
    "                # Instantiate  loss function.\n",
    "loss_fn = tf.keras.losses.BinaryCrossentropy()\n",
    "\n",
    "model.compile(optimizer=optimizer,loss=loss_fn,metrics=['accuracy'])"
   ]
  },
  {
   "cell_type": "markdown",
   "metadata": {},
   "source": [
    "# AUTOENCODERS SECOND LEVEL"
   ]
  },
  {
   "cell_type": "code",
   "execution_count": null,
   "metadata": {},
   "outputs": [],
   "source": [
    "combination_of_neurons=[[20,15,5],[15,10,5]]\n",
    "for comb in combination_of_neurons:\n",
    "    best_config_tmp={'val_acc':0}\n",
    "    for el in possible_learning_rate:\n",
    "    \n",
    "        autoencoder,encoder,decoder = exT.autoencoderTwoLevels(input_dimension,comb[0],comb[1],comb[2])\n",
    "        loss_fn = tf.keras.losses.BinaryCrossentropy()               \n",
    "        autoencoder.compile(optimizer=\"adam\",loss=loss_fn,metrics=['accuracy'])\n",
    "        config={\n",
    "                \"learning_rate\":el,\n",
    "                'num_neurons':comb,\n",
    "                'acti_fun':\"relu\"\n",
    "                \n",
    "            }\n",
    "        tik=autoencoder.fit(x_train,x_train,batch_size=200,verbose=False,epochs=50,validation_data=(x_test,x_test))\n",
    "        config['val_acc']=tik.history['val_accuracy'][-1]\n",
    "        if(config['val_acc']>best_config_tmp['val_acc']):\n",
    "                    bestModel=autoencoder\n",
    "                    best_config_tmp=config\n",
    "                 \n",
    "    print(\"Best model\",best_config_tmp)"
   ]
  },
  {
   "cell_type": "markdown",
   "metadata": {},
   "source": [
    "# Random Forest"
   ]
  },
  {
   "cell_type": "code",
   "execution_count": null,
   "metadata": {},
   "outputs": [],
   "source": [
    "from sklearn.ensemble import RandomForestClassifier\n",
    "best_acc=-1\n",
    "for el in range(2,10):\n",
    "    clf=RandomForestClassifier(max_depth=el, random_state=42)\n",
    "    clf.fit(x_train,y_train)\n",
    "    config=clf.predict(x_test)\n",
    "    count=0\n",
    "    for x,y in zip(config,y_test):\n",
    "        if(x[0]==y[0]):\n",
    "            count+=1\n",
    "    acc=count/len(x_test)\n",
    "    if acc> best_acc:\n",
    "        best_acc=acc\n",
    "print(best_acc,el)"
   ]
  },
  {
   "cell_type": "code",
   "execution_count": null,
   "metadata": {},
   "outputs": [],
   "source": [
    "para_y_train=[]\n",
    "for el1 in y_train:\n",
    "    tmp=1\n",
    "    if(el1[0]==1):\n",
    "        tmp=0\n",
    "    para_y_train.append(tmp)"
   ]
  },
  {
   "cell_type": "code",
   "execution_count": null,
   "metadata": {},
   "outputs": [],
   "source": [
    "from sklearn.ensemble import RandomForestClassifier\n",
    "best_acc=-1\n",
    "for el in range(2,10):\n",
    "    clf=RandomForestClassifier(n_estimators=100,max_depth=el, random_state=42)\n",
    "    clf.fit(x_train,para_y_train)\n",
    "    config=clf.predict(x_test)\n",
    "    count=0\n",
    "    for x,y in zip(config,y_test):\n",
    "        if(x==y[1]):\n",
    "            count+=1\n",
    "    acc=count/len(x_test)\n",
    "    if acc> best_acc:\n",
    "        best_acc=acc\n",
    "print(best_acc,el)"
   ]
  },
  {
   "cell_type": "markdown",
   "metadata": {},
   "source": [
    "# ADA"
   ]
  },
  {
   "cell_type": "code",
   "execution_count": null,
   "metadata": {},
   "outputs": [],
   "source": [
    "from sklearn.ensemble import AdaBoostClassifier\n",
    "\n",
    "best_acc=-1\n",
    "clf = AdaBoostClassifier(n_estimators=100, random_state=42)\n",
    "clf.fit(x_train,para_y_train)\n",
    "config=clf.predict(x_test)\n",
    "count=0\n",
    "for x,y in zip(config,y_test):\n",
    "    if(x==y[1]):\n",
    "        count+=1\n",
    "acc=count/len(x_test)\n",
    "if acc> best_acc:\n",
    "    best_acc=acc\n",
    "print(best_acc)"
   ]
  }
 ],
 "metadata": {
  "kernelspec": {
   "display_name": "Python 3.9.13 ('BasketScripts': venv)",
   "language": "python",
   "name": "python3"
  },
  "language_info": {
   "codemirror_mode": {
    "name": "ipython",
    "version": 3
   },
   "file_extension": ".py",
   "mimetype": "text/x-python",
   "name": "python",
   "nbconvert_exporter": "python",
   "pygments_lexer": "ipython3",
   "version": "3.9.13"
  },
  "orig_nbformat": 4,
  "vscode": {
   "interpreter": {
    "hash": "f61b42334e39087fcf873d4b58ce314af401b80aed031fb5917bf158a5bb3c56"
   }
  }
 },
 "nbformat": 4,
 "nbformat_minor": 2
}
