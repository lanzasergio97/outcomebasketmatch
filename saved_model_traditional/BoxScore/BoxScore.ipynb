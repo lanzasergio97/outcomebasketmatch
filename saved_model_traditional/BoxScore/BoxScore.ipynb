{
 "cells": [
  {
   "cell_type": "code",
   "execution_count": 2,
   "metadata": {},
   "outputs": [],
   "source": [
    "from nba_api.stats.static import players\n",
    "from nba_api.stats.static import teams\n",
    "import numpy as np\n",
    "import pandas as pd\n",
    "import matplotlib as ml\n",
    "import matplotlib.pyplot as plt\n",
    "from nba_api.stats.endpoints import leaguegamefinder\n",
    "from nba_api.stats.endpoints import playergamelogs\n",
    "from nba_api.stats.endpoints import playercareerstats\n",
    "years=\"2020-21\"\n",
    "seasonType='Regular Season'\n",
    "allTeamId=pd.DataFrame(teams.get_teams())['id']\n",
    "\n"
   ]
  },
  {
   "cell_type": "markdown",
   "metadata": {},
   "source": [
    "# Four Factors"
   ]
  },
  {
   "cell_type": "code",
   "execution_count": null,
   "metadata": {},
   "outputs": [],
   "source": [
    "from nba_api.stats.endpoints import boxscorefourfactorsv2\n",
    "df=boxscorefourfactorsv2.BoxScoreFourFactorsV2(game_id='0022100001' ).get_data_frames()[1]\n",
    "eliminateList=[  x for x in df\n",
    "    if  x!=\"GAME_ID\" and  x!=\"TEAM_ID\" and  x!=\"TEAM_ABBREVIATION\" and x!=\"TEAM_CITY\" and x!=\"MIN\" ]\n",
    "df.loc[:,eliminateList]\n",
    "\n",
    "# EFG_PCT=[(All Field Goals Made) + 0.5*(3P Field Goals Made)]/(All Field Goal Attempts) (effective)\n",
    "# OREB_PCT=(Offensive Rebounds)/[(Offensive Rebounds)+(Opponent’s Defensive Rebounds)]\n",
    "#FTA_RATE= (Total Free Throws Attempted) / (Total Field Goal Attempted)\n",
    "# TM_TOV_PCT=(Turnovers)*100)/ [(Field Goal Attempts)+(Free Throw Attempts*0.44)+(Assists)+(Turnovers)]\n",
    "#OPP_OREB_PCT=DEFENSIVE REBOUNDING PERECENTAGE%"
   ]
  },
  {
   "cell_type": "code",
   "execution_count": 3,
   "metadata": {},
   "outputs": [],
   "source": [
    "count=0\n",
    "tmp=[]\n",
    "nameFile=\"\\\\MatchId\"+years+\".txt\"\n",
    "for tmId in allTeamId:\n",
    "    \n",
    "    if(count==0):\n",
    "        df = leaguegamefinder.LeagueGameFinder(team_id_nullable=tmId,season_nullable=years,season_type_nullable=seasonType).get_data_frames()[0]\n",
    "        tmp=df[\"GAME_ID\"].tolist()\n",
    "        count+=1\n",
    "    else:\n",
    "        df = leaguegamefinder.LeagueGameFinder(team_id_nullable=tmId,season_nullable=years,season_type_nullable=seasonType).get_data_frames()[0]\n",
    "        for x in df[\"GAME_ID\"].tolist():\n",
    "            if x not in tmp:\n",
    "                tmp.append(x)\n",
    "            \n",
    "\n",
    "with open(r\"D:\\UniSergio\\BasketScripts\\WaB\\BoxScoresFile\"+nameFile, 'w') as f:\n",
    "            for line in tmp:\n",
    "                tmpS=str(line)\n",
    "                f.write(tmpS)\n",
    "                f.write('\\n')\n",
    "\n",
    "\n",
    "\n",
    "\n",
    "\n"
   ]
  },
  {
   "cell_type": "code",
   "execution_count": 4,
   "metadata": {},
   "outputs": [],
   "source": [
    "MatchId=[]\n",
    "nameFile=\"\\\\MatchId\"+years+\".txt\"\n",
    "\n",
    "with open(r\"D:\\UniSergio\\BasketScripts\\WaB\\BoxScoresFile\"+nameFile,'r') as f:\n",
    "        fr=f.readlines()  \n",
    "        for line in fr:\n",
    "            line=line.replace('\\n', '')\n",
    "           \n",
    "            # We take the first 650 match \n",
    "            if(int(line[-3:]) <=650 and int(line[-4])==0):\n",
    "                MatchId.append(line)\n",
    "\n",
    "chunk_size = 50\n",
    "chunked_list = [MatchId[i:i+chunk_size] for i in range(0, len(MatchId), chunk_size)]\n",
    "\n"
   ]
  },
  {
   "cell_type": "markdown",
   "metadata": {},
   "source": [
    "# TRADIONAL SPLIT"
   ]
  },
  {
   "cell_type": "code",
   "execution_count": null,
   "metadata": {},
   "outputs": [],
   "source": [
    "from nba_api.stats.endpoints import boxscoretraditionalv2 \n",
    "from nba_api.stats.endpoints import boxscoresummaryv2\n",
    "import winsound\n",
    "\n",
    "tmpHomeTeam=[]\n",
    "count=0\n",
    "BoxScores=[]\n",
    "nameFile=\"\\\\BoxScore\"+years+\"traditional\"+\".txt\"\n",
    "for i in range(len(chunked_list)):\n",
    "    tmpBox=[]\n",
    "    for x in chunked_list[i]:    \n",
    "\n",
    "        df=boxscoretraditionalv2.BoxScoreTraditionalV2(game_id=x).get_data_frames()[1]\n",
    "        idHomeTeam=boxscoresummaryv2.BoxScoreSummaryV2(game_id=x)\n",
    "        \n",
    "        \n",
    "\n",
    "\n",
    "        df[\"HOME\"]=0\n",
    "\n",
    "        label=[2]\n",
    "        if(df.at[0,'PTS'] > df.at[1,'PTS']):\n",
    "            label=[1]\n",
    "\n",
    "        if(df.at[0,\"TEAM_ID\"]==idHomeTeam):\n",
    "            df.at[0,'HOME']=1\n",
    "        else:\n",
    "            df.at[1,'HOME']=1\n",
    "        \n",
    "        \n",
    "        eliminateList=[  x for x in df\n",
    "            if  x!=\"GAME_ID\"  and  x!=\"TEAM_ABBREVIATION\" and x!=\"TEAM_CITY\"   and x!='PLUS_MINUS' and x!=\"TEAM_NAME\" and x!='MIN' and # x!=\"TEAM_ID\" and \n",
    "                x!='FGM'  and  x!='FGA' and x!='FG3A' and x!='FG3M'and x!='FTM' and x!='FTA' and x!='REB'\n",
    "            ]\n",
    "            \n",
    "        df=df.loc[:,eliminateList]\n",
    "       \n",
    "        tmp=list(df.loc[0])+list(df.loc[1])+label \n",
    "        \n",
    "        tmpBox.append(tmp)\n",
    "   \n",
    "    with open(r\"D:\\UniSergio\\BasketScripts\\WaB\\BoxScoresFile\"+nameFile, 'a') as f:\n",
    "        for line in tmpBox:\n",
    "            tmpS=str(line)\n",
    "            tmpS.replace(\"[\",\"\")\n",
    "            tmpS.replace(\"]\",\"\")\n",
    "            f.write(tmpS)\n",
    "            f.write('\\n')\n",
    "    print(\"Finito il \"+str(i)+\"-esimo chunk \")\n",
    "\n",
    "\n",
    "winsound.Beep(440, 2500)"
   ]
  },
  {
   "cell_type": "markdown",
   "metadata": {},
   "source": [
    "# ADVANCE SPLIT"
   ]
  },
  {
   "cell_type": "code",
   "execution_count": 8,
   "metadata": {},
   "outputs": [
    {
     "name": "stdout",
     "output_type": "stream",
     "text": [
      "Finito il 0-esimo chunk \n",
      "Finito il 1-esimo chunk \n",
      "Finito il 2-esimo chunk \n",
      "Finito il 3-esimo chunk \n",
      "Finito il 4-esimo chunk \n",
      "Finito il 5-esimo chunk \n",
      "Finito il 6-esimo chunk \n",
      "Finito il 7-esimo chunk \n",
      "Finito il 8-esimo chunk \n",
      "Finito il 9-esimo chunk \n",
      "Finito il 10-esimo chunk \n",
      "Finito il 11-esimo chunk \n",
      "Finito il 12-esimo chunk \n"
     ]
    }
   ],
   "source": [
    "from nba_api.stats.endpoints import boxscoreadvancedv2 \n",
    "from nba_api.stats.endpoints import boxscoresummaryv2\n",
    "import winsound\n",
    "\n",
    "tmpHomeTeam=[]\n",
    "count=0\n",
    "BoxScores=[]\n",
    "nameFile=\"\\\\BoxScore\"+years+\"advance\"+\".txt\"\n",
    "superCount=0\n",
    "for i in range(len(chunked_list)):\n",
    "    \n",
    "    tmpBox=[]\n",
    "    \n",
    "    for x in chunked_list[i]:    \n",
    " \n",
    "        df=boxscoreadvancedv2.BoxScoreAdvancedV2(game_id=x).get_data_frames()[1]\n",
    "        idHomeTeam=boxscoresummaryv2.BoxScoreSummaryV2(game_id=x)\n",
    "  \n",
    "        \n",
    "\n",
    "\n",
    "        df[\"HOME\"]=0\n",
    "\n",
    "        label=[2]\n",
    "        if(df.at[0,'NET_RATING'] > df.at[1,'NET_RATING']):\n",
    "            label=[1]\n",
    "\n",
    "        if(df.at[0,\"TEAM_ID\"]==idHomeTeam):\n",
    "            df.at[0,'HOME']=1\n",
    "        else:\n",
    "            df.at[1,'HOME']=1\n",
    "        eliminateList=[  x for x in df\n",
    "            if  x!=\"GAME_ID\"  and  x!=\"TEAM_ABBREVIATION\"  and x!='PLUS_MINUS' and x!=\"TEAM_NAME\" and x!='MIN' and # x!=\"TEAM_ID\" and \n",
    "                x!=\"TEAM_CITY\" and x.startswith(\"E_\")==False\n",
    "            ]\n",
    "        df=df.loc[:,eliminateList]\n",
    "        \n",
    "        \n",
    "        tmp=list(df.loc[0])+list(df.loc[1])+label \n",
    "        \n",
    "        \n",
    "        tmpBox.append(tmp)\n",
    "    \n",
    "    with open(r\"D:\\UniSergio\\BasketScripts\\WaB\\BoxScoresFile\"+nameFile, 'a') as f:\n",
    "        for line in tmpBox:\n",
    "            tmpS=str(line)\n",
    "            tmpS.replace(\"[\",\"\")\n",
    "            tmpS.replace(\"]\",\"\")\n",
    "\n",
    "            f.write(tmpS)\n",
    "            f.write('\\n')\n",
    "    print(\"Finito il \"+str(i)+\"-esimo chunk \")\n",
    "\n",
    "\n",
    "winsound.Beep(440, 2500)"
   ]
  },
  {
   "cell_type": "markdown",
   "metadata": {},
   "source": [
    "# Reminder Advance Stats"
   ]
  },
  {
   "cell_type": "code",
   "execution_count": null,
   "metadata": {},
   "outputs": [],
   "source": [
    "\n",
    "#TmPoss=0.5 * (FGA + 0.475 * FTA - ORB + TOV)\n",
    "#Counter of team possession\n",
    "#OppPoss=same of top, but for opposite team\n",
    "\n",
    "#TS_PCT=Pts / (2 * (FGA + 0.475 * FTA))\n",
    "\n",
    "#OFF_RATING= 100 / (TmPoss + OppPoss) * Pts\n",
    "\n",
    "#DEF_RATING= 100 / (TmPoss + OppPoss) * OppPts\n",
    "#NET_RATING=OFF_RATING -DEF_RATING\n",
    "#Adjusts a team's scoring offense and defense for their pace of play\n",
    "\n",
    "# df[df.columns.difference([\"GAME_ID\",\"TEAM_ID\",\"TEAM_ABBREVIATION\",\"TEAM_CITY\",\"MIN\"])]"
   ]
  }
 ],
 "metadata": {
  "kernelspec": {
   "display_name": "Python 3.9.13 ('BasketScripts': venv)",
   "language": "python",
   "name": "python3"
  },
  "language_info": {
   "codemirror_mode": {
    "name": "ipython",
    "version": 3
   },
   "file_extension": ".py",
   "mimetype": "text/x-python",
   "name": "python",
   "nbconvert_exporter": "python",
   "pygments_lexer": "ipython3",
   "version": "3.9.13"
  },
  "orig_nbformat": 2,
  "vscode": {
   "interpreter": {
    "hash": "f61b42334e39087fcf873d4b58ce314af401b80aed031fb5917bf158a5bb3c56"
   }
  }
 },
 "nbformat": 4,
 "nbformat_minor": 2
}
