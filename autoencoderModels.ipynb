{
 "cells": [
  {
   "cell_type": "code",
   "execution_count": 36,
   "metadata": {},
   "outputs": [],
   "source": [
    "import torch\n",
    "import torch.nn as nn\n",
    "\n",
    "import torch.nn.functional as F # All functions that don't have any parameters\n",
    "import numpy as np\n",
    "from  boxScore  import boxScore\n",
    "from sklearn.model_selection import KFold\n",
    "import numpy\n",
    "from torch.utils.data import DataLoader # data management \n",
    "# \n",
    "from NeuralNetwork import NN\n",
    "from DatasetPrivate import MyDataset\n",
    "import numpy as np\n",
    "from Autoencoder import Autoencoder as Aut\n",
    "\n",
    "import winsound\n",
    "import wandb\n",
    "# Preparation of Data\n",
    "years=\"2020-21\"\n",
    "# stats=\"traditional\"\n",
    "stats='advance'\n",
    "# box_score=boxScore(years,stats)\n",
    "# x_train, x_test, y_train, y_test=box_score.separation()\n",
    "# y_train=np.array(y_train)\n",
    "# y_test=np.array(y_test)\n",
    "# \n",
    "\n",
    "\n",
    "\n",
    "# train_LL=DataLoader(MyDataset(x_train,y_train),batch_size=batch_size,shuffle=False)\n",
    "# test_LL=DataLoader(MyDataset(x_test,y_test),batch_size=batch_size,shuffle=False)"
   ]
  },
  {
   "cell_type": "markdown",
   "metadata": {},
   "source": [
    "# AUTOENCODERS ONE LEVEL"
   ]
  },
  {
   "cell_type": "code",
   "execution_count": 37,
   "metadata": {},
   "outputs": [],
   "source": [
    "model=Aut(input_size,10,15,0)\n",
    "model.MyTrain(train_LL=train_LL,device=device)\n",
    "X,Y=model.test_check(test_LL=train_LL,device=device)\n",
    "TESTX,TESTY=model.test_check(test_LL=test_LL,device=device)\n",
    "\n",
    "    "
   ]
  },
  {
   "cell_type": "code",
   "execution_count": 40,
   "metadata": {},
   "outputs": [
    {
     "name": "stdout",
     "output_type": "stream",
     "text": [
      "For 2018-19 with traditional stats the best accuracy is 0.64 with [5, 15] estimators \n",
      "For 2018-19 with advance stats the best accuracy is 0.6 with [5, 15] estimators \n",
      "For 2019-20 with traditional stats the best accuracy is 0.52 with [5, 15] estimators \n",
      "For 2019-20 with advance stats the best accuracy is 0.52 with [10, 20] estimators \n",
      "For 2020-21 with traditional stats the best accuracy is 0.64 with [5, 15] estimators \n",
      "For 2020-21 with advance stats the best accuracy is 0.48 with [10, 20] estimators \n",
      "For 2021-22 with traditional stats the best accuracy is 0.56 with [5, 15] estimators \n",
      "For 2021-22 with advance stats the best accuracy is 0.56 with [5, 15] estimators \n"
     ]
    }
   ],
   "source": [
    "from sklearn.ensemble import RandomForestClassifier\n",
    "\n",
    "years_array=[\"2018-19\",\"2019-20\",\"2020-21\",\"2021-22\"]\n",
    "batch_size=150\n",
    "stats_array=[\"traditional\",\"advance\"]\n",
    "best_config_array=[]\n",
    "device = torch.device(\"cuda\" if torch.cuda.is_available() else \"cpu\")\n",
    "\n",
    "n_estimators_array=[[10,20],[5,15]]\n",
    "for years in years_array:\n",
    "    for stats in stats_array:\n",
    "        best_acc=-1\n",
    "        best_estimators=[]\n",
    "      \n",
    "        box_score=boxScore(years,stats)\n",
    "        x_train, x_test, y_train, y_test=box_score.separation()\n",
    "        y_train=np.array(y_train)\n",
    "        y_test=np.array(y_test)\n",
    "        input_size=len(x_train.columns)\n",
    "        train_LL=DataLoader(MyDataset(x_train,y_train),batch_size=batch_size,shuffle=False)\n",
    "        test_LL=DataLoader(MyDataset(x_test,y_test),batch_size=batch_size,shuffle=False)\n",
    "        \n",
    "        for n_estimators in n_estimators_array:\n",
    "            model=Aut(input_size,n_estimators[0],n_estimators[1],0)\n",
    "            model.MyTrain(train_LL=train_LL,device=device)\n",
    "            X,Y=model.test_check(test_LL=train_LL,device=device)\n",
    "            TESTX,TESTY=model.test_check(test_LL=test_LL,device=device)\n",
    "            \n",
    "            clf=RandomForestClassifier(max_depth=30, random_state=42,n_estimators=100)\n",
    "            clf.fit(X,Y)\n",
    "            prediction=clf.predict(TESTX)\n",
    "            count=0\n",
    "            for x,y in zip(prediction,TESTY):\n",
    "                if(x[0]==y[0]):\n",
    "                    count+=1\n",
    "            acc=count/len(x_test)\n",
    "            if acc> best_acc:\n",
    "                best_acc=acc\n",
    "                best_estimators=n_estimators\n",
    "                \n",
    "        print(\"For {} with {} stats the best accuracy is {} with {} estimators \".format(years,stats,best_acc,best_estimators))\n",
    "      \n",
    "        "
   ]
  },
  {
   "attachments": {},
   "cell_type": "markdown",
   "metadata": {},
   "source": [
    "# AUTOENCODERS SECOND LEVEL"
   ]
  },
  {
   "cell_type": "code",
   "execution_count": 22,
   "metadata": {},
   "outputs": [],
   "source": [
    "model=Aut(input_size,5,15,10,0)\n",
    "model.MyTrain(train_LL=train_LL,device=device)\n",
    "X,Y=model.test_check(test_LL=train_LL,device=device)\n",
    "TESTX,TESTY=model.test_check(test_LL=test_LL,device=device)\n",
    "\n",
    "    "
   ]
  },
  {
   "cell_type": "code",
   "execution_count": 42,
   "metadata": {},
   "outputs": [
    {
     "name": "stdout",
     "output_type": "stream",
     "text": [
      "For 2018-19 with traditional stats the best accuracy is 0.58 with [10, 20, 15] estimators \n",
      "For 2018-19 with advance stats the best accuracy is 0.52 with [5, 15, 10] estimators \n",
      "For 2019-20 with traditional stats the best accuracy is 0.58 with [10, 20, 15] estimators \n",
      "For 2019-20 with advance stats the best accuracy is 0.56 with [5, 15, 10] estimators \n",
      "For 2020-21 with traditional stats the best accuracy is 0.72 with [10, 20, 15] estimators \n",
      "For 2020-21 with advance stats the best accuracy is 0.64 with [5, 15, 10] estimators \n",
      "For 2021-22 with traditional stats the best accuracy is 0.52 with [10, 20, 15] estimators \n",
      "For 2021-22 with advance stats the best accuracy is 0.62 with [5, 15, 10] estimators \n"
     ]
    }
   ],
   "source": [
    "from sklearn.ensemble import RandomForestClassifier\n",
    "\n",
    "years_array=[\"2018-19\",\"2019-20\",\"2020-21\",\"2021-22\"]\n",
    "batch_size=150\n",
    "stats_array=[\"traditional\",\"advance\"]\n",
    "best_config_array=[]\n",
    "device = torch.device(\"cuda\" if torch.cuda.is_available() else \"cpu\")\n",
    "\n",
    "n_estimators_array=[[10,20,15],[5,15,10]]\n",
    "for years in years_array:\n",
    "    for stats in stats_array:\n",
    "        best_acc=-1\n",
    "        best_estimators=[]\n",
    "      \n",
    "        box_score=boxScore(years,stats)\n",
    "        x_train, x_test, y_train, y_test=box_score.separation()\n",
    "        y_train=np.array(y_train)\n",
    "        y_test=np.array(y_test)\n",
    "        input_size=len(x_train.columns)\n",
    "        train_LL=DataLoader(MyDataset(x_train,y_train),batch_size=batch_size,shuffle=False)\n",
    "        test_LL=DataLoader(MyDataset(x_test,y_test),batch_size=batch_size,shuffle=False)\n",
    "        \n",
    "        for n_estimators in n_estimators_array:\n",
    "            model=Aut(input_size,n_estimators[0],n_estimators[1],0)\n",
    "            model.MyTrain(train_LL=train_LL,device=device)\n",
    "            X,Y=model.test_check(test_LL=train_LL,device=device)\n",
    "            TESTX,TESTY=model.test_check(test_LL=test_LL,device=device)\n",
    "            \n",
    "            clf=RandomForestClassifier(max_depth=30, random_state=42,n_estimators=100)\n",
    "            clf.fit(X,Y)\n",
    "            prediction=clf.predict(TESTX)\n",
    "            count=0\n",
    "            for x,y in zip(prediction,TESTY):\n",
    "                if(x[0]==y[0]):\n",
    "                    count+=1\n",
    "            acc=count/len(x_test)\n",
    "            if acc> best_acc:\n",
    "                best_acc=acc\n",
    "                best_estimators=n_estimators\n",
    "                \n",
    "        print(\"For {} with {} stats the best accuracy is {} with {} estimators \".format(years,stats,best_acc,best_estimators))\n",
    "      \n",
    "        "
   ]
  }
 ],
 "metadata": {
  "kernelspec": {
   "display_name": "Python 3.8.15 ('pytuurc')",
   "language": "python",
   "name": "python3"
  },
  "language_info": {
   "codemirror_mode": {
    "name": "ipython",
    "version": 3
   },
   "file_extension": ".py",
   "mimetype": "text/x-python",
   "name": "python",
   "nbconvert_exporter": "python",
   "pygments_lexer": "ipython3",
   "version": "3.8.15"
  },
  "orig_nbformat": 4,
  "vscode": {
   "interpreter": {
    "hash": "dd9d223d7b292a42db683c98874d74c150e8963ab9dd36c634c4894e65f31ff8"
   }
  }
 },
 "nbformat": 4,
 "nbformat_minor": 2
}
