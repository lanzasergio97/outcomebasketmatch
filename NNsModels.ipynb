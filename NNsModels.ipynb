{
 "cells": [
  {
   "cell_type": "code",
   "execution_count": 1,
   "metadata": {},
   "outputs": [],
   "source": [
    "import torch\n",
    "import torch.nn as nn\n",
    "\n",
    "import torch.nn.functional as F # All functions that don't have any parameters\n",
    "import numpy as np\n",
    "from  boxScore  import boxScore\n",
    "from sklearn.model_selection import KFold\n",
    "\n",
    "from torch.utils.data import DataLoader # data management \n",
    "# \n",
    "from NeuralNetwork import NN\n",
    "from DatasetPrivate import MyDataset\n",
    "import numpy as np\n",
    "\n",
    "\n",
    "import winsound\n",
    "import wandb"
   ]
  },
  {
   "cell_type": "markdown",
   "metadata": {},
   "source": [
    "# Preparation of Data"
   ]
  },
  {
   "cell_type": "code",
   "execution_count": 11,
   "metadata": {},
   "outputs": [],
   "source": [
    "years=\"2019-20\"\n",
    "# stats=\"traditional\"\n",
    "stats='advance'\n",
    "box_score=boxScore(years,stats)\n",
    "\n",
    "x_train, x_test, y_train, y_test=box_score.separation()\n",
    "y_train=np.array(y_train)\n",
    "y_test=np.array(y_test)\n",
    "\n",
    "input_size=len(x_train.columns)\n",
    "activation=['relu','sigmoid']\n",
    "number_neurons=[10,30,50,100,150,200]\n",
    "# number_neurons=[10,30]\n",
    "possible_learning_rate=[0.0001,0.001,0.01]\n",
    "# possible_learning_rate=[0.0001]\n",
    "num_epochs=500\n",
    "batch_size=150\n",
    "device = torch.device(\"cuda\" if torch.cuda.is_available() else \"cpu\")\n",
    "train_LL=DataLoader(MyDataset(x_train,y_train),batch_size=batch_size,shuffle=False)\n",
    "test_LL=DataLoader(MyDataset(x_test,y_test),batch_size=batch_size,shuffle=False)\n",
    "kf = KFold(n_splits=10, random_state=1, shuffle=True)"
   ]
  },
  {
   "cell_type": "markdown",
   "metadata": {},
   "source": [
    "# First "
   ]
  },
  {
   "cell_type": "code",
   "execution_count": 12,
   "metadata": {},
   "outputs": [
    {
     "name": "stdout",
     "output_type": "stream",
     "text": [
      "Best model {'learning_rate': 0.01, 'num_neurons': 10, 'acti_fun': 'relu', 'batch_size': 150, 'epochs': 500, 'architecture': 'OneHiddenLayer', 'dataset': '2019-20_advance', 'val_acc': 0.6539999842643738}\n",
      "Best model {'learning_rate': 0.01, 'num_neurons': 30, 'acti_fun': 'relu', 'batch_size': 150, 'epochs': 500, 'architecture': 'OneHiddenLayer', 'dataset': '2019-20_advance', 'val_acc': 0.6620000004768372}\n",
      "Best model {'learning_rate': 0.01, 'num_neurons': 50, 'acti_fun': 'relu', 'batch_size': 150, 'epochs': 500, 'architecture': 'OneHiddenLayer', 'dataset': '2019-20_advance', 'val_acc': 0.6760000586509705}\n",
      "Best model {'learning_rate': 0.01, 'num_neurons': 100, 'acti_fun': 'relu', 'batch_size': 150, 'epochs': 500, 'architecture': 'OneHiddenLayer', 'dataset': '2019-20_advance', 'val_acc': 0.6800000071525574}\n",
      "Best model {'learning_rate': 0.01, 'num_neurons': 150, 'acti_fun': 'sigmoid', 'batch_size': 150, 'epochs': 500, 'architecture': 'OneHiddenLayer', 'dataset': '2019-20_advance', 'val_acc': 0.6700000166893005}\n",
      "Best model {'learning_rate': 0.001, 'num_neurons': 200, 'acti_fun': 'relu', 'batch_size': 150, 'epochs': 500, 'architecture': 'OneHiddenLayer', 'dataset': '2019-20_advance', 'val_acc': 0.702000081539154}\n"
     ]
    }
   ],
   "source": [
    "best_config_array=[]\n",
    "best_history_array=[]\n",
    "for num in number_neurons:\n",
    "    best_config_tmp={'val_acc':0}\n",
    "    best_history_tmp=[]\n",
    "    for el in possible_learning_rate:\n",
    "        for act in activation:\n",
    "                \n",
    "                # Initialize model\n",
    "                model = NN(input_size=input_size,size_hidden_level=num,act=act,learning_rate=el).to(device)\n",
    "\n",
    "                \n",
    "                \n",
    "                config={\n",
    "                    \"learning_rate\":el,\n",
    "                    'num_neurons':num,\n",
    "                    'acti_fun':act,\n",
    "                    \"batch_size\": batch_size,\n",
    "                    \"epochs\": num_epochs,\n",
    "                    \"architecture\": \"OneHiddenLayer\",\n",
    "                    \"dataset\":years+\"_\"+stats\n",
    "                }\n",
    "                \n",
    "                best_config_tmp,best_history_tmp=model.MyTrain(kf=kf,config=config,best_config_tmp=best_config_tmp,\n",
    "                best_history_tmp=best_history_tmp,train_LL=train_LL,test_LL=test_LL,device=device)\n",
    "               \n",
    "                \n",
    "                    \n",
    "    print(\"Best model\",best_config_tmp)\n",
    "    best_config_array.append(best_config_tmp)\n",
    "    best_history_array.append(best_history_tmp)\n",
    "    \n",
    "# Doing the mean between the 10 fold\n",
    "for num,array in  enumerate(best_history_array):\n",
    "    tmp=[ torch.mean(array[0],axis=0),torch.mean(array[1],axis=0),torch.mean(array[2],axis=0),torch.mean(array[3],axis=0)]\n",
    "  \n",
    "    best_history_array[num]=tmp\n",
    "\n",
    "# winsound.Beep(440,2500)"
   ]
  },
  {
   "cell_type": "code",
   "execution_count": null,
   "metadata": {},
   "outputs": [],
   "source": [
    "winsound.Beep(440,2500)"
   ]
  },
  {
   "cell_type": "code",
   "execution_count": 13,
   "metadata": {},
   "outputs": [],
   "source": [
    "def wandbWrite(project_name,best_config_array,best_history_array,name_runs):\n",
    "    for model_history,config in zip(best_history_array,best_config_array):\n",
    "        \n",
    "        \n",
    "\n",
    "        run = wandb.init(project=project_name, config=config)\n",
    "        name=name_runs+str(config[\"num_neurons\"])\n",
    "        run.name=name\n",
    "        # For not repeat two times the val_acc value in the config paper\n",
    "        config.pop(\"val_acc\")\n",
    "        config = wandb.config\n",
    "        for epoch in range (len(model_history[0])):\n",
    "            wandb.log({'epochs': epoch,\n",
    "                'loss': round( model_history[0][epoch].item(),3),\n",
    "                'acc': round(model_history[1][epoch].item(),3), \n",
    "                'val_loss': round(model_history[2][epoch].item(),3),\n",
    "                'val_acc':round(model_history[3][epoch].item(),3)\n",
    "                }\n",
    "                )\n",
    "        \n",
    "        run.finish()"
   ]
  },
  {
   "cell_type": "code",
   "execution_count": 14,
   "metadata": {},
   "outputs": [
    {
     "data": {
      "text/html": [
       "wandb version 0.13.6 is available!  To upgrade, please run:\n",
       " $ pip install wandb --upgrade"
      ],
      "text/plain": [
       "<IPython.core.display.HTML object>"
      ]
     },
     "metadata": {},
     "output_type": "display_data"
    },
    {
     "data": {
      "text/html": [
       "Tracking run with wandb version 0.13.5"
      ],
      "text/plain": [
       "<IPython.core.display.HTML object>"
      ]
     },
     "metadata": {},
     "output_type": "display_data"
    },
    {
     "data": {
      "text/html": [
       "Run data is saved locally in <code>d:\\UniSergio\\BasketScripts\\WaB\\wandb\\run-20221214_123638-2rk84jwa</code>"
      ],
      "text/plain": [
       "<IPython.core.display.HTML object>"
      ]
     },
     "metadata": {},
     "output_type": "display_data"
    },
    {
     "data": {
      "text/html": [
       "Syncing run <strong><a href=\"https://wandb.ai/progettobasket/TAdv1920runs/runs/2rk84jwa\" target=\"_blank\">fresh-grass-1</a></strong> to <a href=\"https://wandb.ai/progettobasket/TAdv1920runs\" target=\"_blank\">Weights & Biases</a> (<a href=\"https://wandb.me/run\" target=\"_blank\">docs</a>)<br/>"
      ],
      "text/plain": [
       "<IPython.core.display.HTML object>"
      ]
     },
     "metadata": {},
     "output_type": "display_data"
    },
    {
     "data": {
      "text/html": [
       "Waiting for W&B process to finish... <strong style=\"color:green\">(success).</strong>"
      ],
      "text/plain": [
       "<IPython.core.display.HTML object>"
      ]
     },
     "metadata": {},
     "output_type": "display_data"
    },
    {
     "data": {
      "text/html": [
       "<style>\n",
       "    table.wandb td:nth-child(1) { padding: 0 10px; text-align: left ; width: auto;} td:nth-child(2) {text-align: left ; width: 100%}\n",
       "    .wandb-row { display: flex; flex-direction: row; flex-wrap: wrap; justify-content: flex-start; width: 100% }\n",
       "    .wandb-col { display: flex; flex-direction: column; flex-basis: 100%; flex: 1; padding: 10px; }\n",
       "    </style>\n",
       "<div class=\"wandb-row\"><div class=\"wandb-col\"><h3>Run history:</h3><br/><table class=\"wandb\"><tr><td>acc</td><td>▁▁▄▅▆▆▆▇▇▇▇▇▇▇▇▇▇▇▇▇▇▇▇▇▇▇██▇███████████</td></tr><tr><td>epochs</td><td>▁▁▁▂▂▂▂▂▂▃▃▃▃▃▄▄▄▄▄▄▅▅▅▅▅▅▆▆▆▆▆▇▇▇▇▇▇███</td></tr><tr><td>loss</td><td>███▇▇▇▇▇▇▇▆▆▆▆▆▅▅▅▅▅▅▄▄▄▄▄▄▃▃▃▃▃▂▂▂▂▂▂▁▁</td></tr><tr><td>val_acc</td><td>▅▃▃▄▁▃▃▄▅▅▆▄▆▄▄▆▃▆▅▅▅▆▃▅▅█▆▆▄▄▃▆▄▅▆▅▆▃▅▅</td></tr><tr><td>val_loss</td><td>▁▁▁▂▂▂▂▂▃▂▂▂▂▃▄▂▄▄▄▄▃▄▄▄▆▅▄▆▅▆▆▅▆▆▅▇▆█▆▇</td></tr></table><br/></div><div class=\"wandb-col\"><h3>Run summary:</h3><br/><table class=\"wandb\"><tr><td>acc</td><td>0.86</td></tr><tr><td>epochs</td><td>499</td></tr><tr><td>loss</td><td>0.142</td></tr><tr><td>val_acc</td><td>0.654</td></tr><tr><td>val_loss</td><td>1.122</td></tr></table><br/></div></div>"
      ],
      "text/plain": [
       "<IPython.core.display.HTML object>"
      ]
     },
     "metadata": {},
     "output_type": "display_data"
    },
    {
     "data": {
      "text/html": [
       "Synced <strong style=\"color:#cdcd00\">fresh-grass-1</strong>: <a href=\"https://wandb.ai/progettobasket/TAdv1920runs/runs/2rk84jwa\" target=\"_blank\">https://wandb.ai/progettobasket/TAdv1920runs/runs/2rk84jwa</a><br/>Synced 5 W&B file(s), 0 media file(s), 0 artifact file(s) and 0 other file(s)"
      ],
      "text/plain": [
       "<IPython.core.display.HTML object>"
      ]
     },
     "metadata": {},
     "output_type": "display_data"
    },
    {
     "data": {
      "text/html": [
       "Find logs at: <code>.\\wandb\\run-20221214_123638-2rk84jwa\\logs</code>"
      ],
      "text/plain": [
       "<IPython.core.display.HTML object>"
      ]
     },
     "metadata": {},
     "output_type": "display_data"
    },
    {
     "data": {
      "text/html": [
       "wandb version 0.13.6 is available!  To upgrade, please run:\n",
       " $ pip install wandb --upgrade"
      ],
      "text/plain": [
       "<IPython.core.display.HTML object>"
      ]
     },
     "metadata": {},
     "output_type": "display_data"
    },
    {
     "data": {
      "text/html": [
       "Tracking run with wandb version 0.13.5"
      ],
      "text/plain": [
       "<IPython.core.display.HTML object>"
      ]
     },
     "metadata": {},
     "output_type": "display_data"
    },
    {
     "data": {
      "text/html": [
       "Run data is saved locally in <code>d:\\UniSergio\\BasketScripts\\WaB\\wandb\\run-20221214_123650-h5gxjshs</code>"
      ],
      "text/plain": [
       "<IPython.core.display.HTML object>"
      ]
     },
     "metadata": {},
     "output_type": "display_data"
    },
    {
     "data": {
      "text/html": [
       "Syncing run <strong><a href=\"https://wandb.ai/progettobasket/TAdv1920runs/runs/h5gxjshs\" target=\"_blank\">hopeful-tree-2</a></strong> to <a href=\"https://wandb.ai/progettobasket/TAdv1920runs\" target=\"_blank\">Weights & Biases</a> (<a href=\"https://wandb.me/run\" target=\"_blank\">docs</a>)<br/>"
      ],
      "text/plain": [
       "<IPython.core.display.HTML object>"
      ]
     },
     "metadata": {},
     "output_type": "display_data"
    },
    {
     "data": {
      "text/html": [
       "Waiting for W&B process to finish... <strong style=\"color:green\">(success).</strong>"
      ],
      "text/plain": [
       "<IPython.core.display.HTML object>"
      ]
     },
     "metadata": {},
     "output_type": "display_data"
    },
    {
     "data": {
      "text/html": [
       "<style>\n",
       "    table.wandb td:nth-child(1) { padding: 0 10px; text-align: left ; width: auto;} td:nth-child(2) {text-align: left ; width: 100%}\n",
       "    .wandb-row { display: flex; flex-direction: row; flex-wrap: wrap; justify-content: flex-start; width: 100% }\n",
       "    .wandb-col { display: flex; flex-direction: column; flex-basis: 100%; flex: 1; padding: 10px; }\n",
       "    </style>\n",
       "<div class=\"wandb-row\"><div class=\"wandb-col\"><h3>Run history:</h3><br/><table class=\"wandb\"><tr><td>acc</td><td>▁▂▃▄▄▅▅▅▅▆▆▆▆▆▇▇▇▇▇▇▇▇▇▇▇▇██████████████</td></tr><tr><td>epochs</td><td>▁▁▁▂▂▂▂▂▂▃▃▃▃▃▄▄▄▄▄▄▅▅▅▅▅▅▆▆▆▆▆▇▇▇▇▇▇███</td></tr><tr><td>loss</td><td>███▇▇▇▇▇▇▇▆▆▆▆▆▆▅▅▅▅▅▅▄▄▄▄▃▃▃▃▃▂▂▂▂▂▂▁▁▁</td></tr><tr><td>val_acc</td><td>▄▂▂▁▃▄▅▄▅▄▇▄▅▄▅▄▇▅█▄▅▅▄▅▅▂▄▅▆▆▅▅▅▆▆▄▄▄▄▅</td></tr><tr><td>val_loss</td><td>▁▂▁▃▂▃▃▃▂▄▃▄▃▄▄▄▄▅▄▅▅▅▅▄▄▆▆▅▆▅▆▇▆▆▆▇█▇█▇</td></tr></table><br/></div><div class=\"wandb-col\"><h3>Run summary:</h3><br/><table class=\"wandb\"><tr><td>acc</td><td>0.86</td></tr><tr><td>epochs</td><td>499</td></tr><tr><td>loss</td><td>0.143</td></tr><tr><td>val_acc</td><td>0.662</td></tr><tr><td>val_loss</td><td>1.084</td></tr></table><br/></div></div>"
      ],
      "text/plain": [
       "<IPython.core.display.HTML object>"
      ]
     },
     "metadata": {},
     "output_type": "display_data"
    },
    {
     "data": {
      "text/html": [
       "Synced <strong style=\"color:#cdcd00\">hopeful-tree-2</strong>: <a href=\"https://wandb.ai/progettobasket/TAdv1920runs/runs/h5gxjshs\" target=\"_blank\">https://wandb.ai/progettobasket/TAdv1920runs/runs/h5gxjshs</a><br/>Synced 5 W&B file(s), 0 media file(s), 0 artifact file(s) and 0 other file(s)"
      ],
      "text/plain": [
       "<IPython.core.display.HTML object>"
      ]
     },
     "metadata": {},
     "output_type": "display_data"
    },
    {
     "data": {
      "text/html": [
       "Find logs at: <code>.\\wandb\\run-20221214_123650-h5gxjshs\\logs</code>"
      ],
      "text/plain": [
       "<IPython.core.display.HTML object>"
      ]
     },
     "metadata": {},
     "output_type": "display_data"
    },
    {
     "data": {
      "text/html": [
       "wandb version 0.13.6 is available!  To upgrade, please run:\n",
       " $ pip install wandb --upgrade"
      ],
      "text/plain": [
       "<IPython.core.display.HTML object>"
      ]
     },
     "metadata": {},
     "output_type": "display_data"
    },
    {
     "data": {
      "text/html": [
       "Tracking run with wandb version 0.13.5"
      ],
      "text/plain": [
       "<IPython.core.display.HTML object>"
      ]
     },
     "metadata": {},
     "output_type": "display_data"
    },
    {
     "data": {
      "text/html": [
       "Run data is saved locally in <code>d:\\UniSergio\\BasketScripts\\WaB\\wandb\\run-20221214_123704-12euvaqp</code>"
      ],
      "text/plain": [
       "<IPython.core.display.HTML object>"
      ]
     },
     "metadata": {},
     "output_type": "display_data"
    },
    {
     "data": {
      "text/html": [
       "Syncing run <strong><a href=\"https://wandb.ai/progettobasket/TAdv1920runs/runs/12euvaqp\" target=\"_blank\">dandy-yogurt-3</a></strong> to <a href=\"https://wandb.ai/progettobasket/TAdv1920runs\" target=\"_blank\">Weights & Biases</a> (<a href=\"https://wandb.me/run\" target=\"_blank\">docs</a>)<br/>"
      ],
      "text/plain": [
       "<IPython.core.display.HTML object>"
      ]
     },
     "metadata": {},
     "output_type": "display_data"
    },
    {
     "data": {
      "text/html": [
       "Waiting for W&B process to finish... <strong style=\"color:green\">(success).</strong>"
      ],
      "text/plain": [
       "<IPython.core.display.HTML object>"
      ]
     },
     "metadata": {},
     "output_type": "display_data"
    },
    {
     "data": {
      "text/html": [
       "<style>\n",
       "    table.wandb td:nth-child(1) { padding: 0 10px; text-align: left ; width: auto;} td:nth-child(2) {text-align: left ; width: 100%}\n",
       "    .wandb-row { display: flex; flex-direction: row; flex-wrap: wrap; justify-content: flex-start; width: 100% }\n",
       "    .wandb-col { display: flex; flex-direction: column; flex-basis: 100%; flex: 1; padding: 10px; }\n",
       "    </style>\n",
       "<div class=\"wandb-row\"><div class=\"wandb-col\"><h3>Run history:</h3><br/><table class=\"wandb\"><tr><td>acc</td><td>▁▂▃▄▄▅▅▅▆▆▆▆▆▇▇▆▇▇▇▇▇▇▇▇▇▇██▇██▇████████</td></tr><tr><td>epochs</td><td>▁▁▁▂▂▂▂▂▂▃▃▃▃▃▄▄▄▄▄▄▅▅▅▅▅▅▆▆▆▆▆▇▇▇▇▇▇███</td></tr><tr><td>loss</td><td>██▇▇▇▇▇▇▆▆▆▆▆▆▅▅▅▅▅▅▄▄▄▄▄▄▃▃▃▃▂▂▂▂▂▂▂▂▁▁</td></tr><tr><td>val_acc</td><td>▁▂▃▂▁▂▂▃▃▂▃▃▂▄▃▄▄▅▄▅▅▄▅▄▄▅▅▅▅▅▅▆▅▆▅▆▇▇▇█</td></tr><tr><td>val_loss</td><td>▁▃▃▂▂▃▃▃▃▃▄▄▃▃▄▄▃▄▅▄▅▅▅▅▅▅▆▇▇▆▆▆▇▇▇▇▆▇█▆</td></tr></table><br/></div><div class=\"wandb-col\"><h3>Run summary:</h3><br/><table class=\"wandb\"><tr><td>acc</td><td>0.859</td></tr><tr><td>epochs</td><td>499</td></tr><tr><td>loss</td><td>0.14</td></tr><tr><td>val_acc</td><td>0.676</td></tr><tr><td>val_loss</td><td>0.854</td></tr></table><br/></div></div>"
      ],
      "text/plain": [
       "<IPython.core.display.HTML object>"
      ]
     },
     "metadata": {},
     "output_type": "display_data"
    },
    {
     "data": {
      "text/html": [
       "Synced <strong style=\"color:#cdcd00\">dandy-yogurt-3</strong>: <a href=\"https://wandb.ai/progettobasket/TAdv1920runs/runs/12euvaqp\" target=\"_blank\">https://wandb.ai/progettobasket/TAdv1920runs/runs/12euvaqp</a><br/>Synced 5 W&B file(s), 0 media file(s), 0 artifact file(s) and 0 other file(s)"
      ],
      "text/plain": [
       "<IPython.core.display.HTML object>"
      ]
     },
     "metadata": {},
     "output_type": "display_data"
    },
    {
     "data": {
      "text/html": [
       "Find logs at: <code>.\\wandb\\run-20221214_123704-12euvaqp\\logs</code>"
      ],
      "text/plain": [
       "<IPython.core.display.HTML object>"
      ]
     },
     "metadata": {},
     "output_type": "display_data"
    },
    {
     "data": {
      "text/html": [
       "wandb version 0.13.6 is available!  To upgrade, please run:\n",
       " $ pip install wandb --upgrade"
      ],
      "text/plain": [
       "<IPython.core.display.HTML object>"
      ]
     },
     "metadata": {},
     "output_type": "display_data"
    },
    {
     "data": {
      "text/html": [
       "Tracking run with wandb version 0.13.5"
      ],
      "text/plain": [
       "<IPython.core.display.HTML object>"
      ]
     },
     "metadata": {},
     "output_type": "display_data"
    },
    {
     "data": {
      "text/html": [
       "Run data is saved locally in <code>d:\\UniSergio\\BasketScripts\\WaB\\wandb\\run-20221214_123718-2topo9d8</code>"
      ],
      "text/plain": [
       "<IPython.core.display.HTML object>"
      ]
     },
     "metadata": {},
     "output_type": "display_data"
    },
    {
     "data": {
      "text/html": [
       "Syncing run <strong><a href=\"https://wandb.ai/progettobasket/TAdv1920runs/runs/2topo9d8\" target=\"_blank\">quiet-yogurt-4</a></strong> to <a href=\"https://wandb.ai/progettobasket/TAdv1920runs\" target=\"_blank\">Weights & Biases</a> (<a href=\"https://wandb.me/run\" target=\"_blank\">docs</a>)<br/>"
      ],
      "text/plain": [
       "<IPython.core.display.HTML object>"
      ]
     },
     "metadata": {},
     "output_type": "display_data"
    },
    {
     "data": {
      "text/html": [
       "Waiting for W&B process to finish... <strong style=\"color:green\">(success).</strong>"
      ],
      "text/plain": [
       "<IPython.core.display.HTML object>"
      ]
     },
     "metadata": {},
     "output_type": "display_data"
    },
    {
     "data": {
      "text/html": [
       "<style>\n",
       "    table.wandb td:nth-child(1) { padding: 0 10px; text-align: left ; width: auto;} td:nth-child(2) {text-align: left ; width: 100%}\n",
       "    .wandb-row { display: flex; flex-direction: row; flex-wrap: wrap; justify-content: flex-start; width: 100% }\n",
       "    .wandb-col { display: flex; flex-direction: column; flex-basis: 100%; flex: 1; padding: 10px; }\n",
       "    </style>\n",
       "<div class=\"wandb-row\"><div class=\"wandb-col\"><h3>Run history:</h3><br/><table class=\"wandb\"><tr><td>acc</td><td>▁▅▅▇▆▇▇▇▇▇▇▇▇▇▇█▇▇▇▇▇██▇▇▇█▇████████████</td></tr><tr><td>epochs</td><td>▁▁▁▂▂▂▂▂▂▃▃▃▃▃▄▄▄▄▄▄▅▅▅▅▅▅▆▆▆▆▆▇▇▇▇▇▇███</td></tr><tr><td>loss</td><td>████▇▇▇▇▆▆▆▆▆▅▅▅▅▅▅▄▄▄▄▄▃▃▃▃▂▂▂▂▂▂▂▂▁▁▁▁</td></tr><tr><td>val_acc</td><td>▃▃▁▄▄▆▅▆▄▆▇▇▆▆▅▇▇▆▇▅▅▄▄▆█▆▇▇▇█▆▆▇▇█▇▇▇▇█</td></tr><tr><td>val_loss</td><td>▂▂▂▂▃▁▃▂▃▄▃▂▄▃▄▃▄▅▃▅▄▅▇▅▃▅▆▅▆▅▆▇▆▇▆▇▇▇▇█</td></tr></table><br/></div><div class=\"wandb-col\"><h3>Run summary:</h3><br/><table class=\"wandb\"><tr><td>acc</td><td>0.861</td></tr><tr><td>epochs</td><td>499</td></tr><tr><td>loss</td><td>0.127</td></tr><tr><td>val_acc</td><td>0.68</td></tr><tr><td>val_loss</td><td>1.052</td></tr></table><br/></div></div>"
      ],
      "text/plain": [
       "<IPython.core.display.HTML object>"
      ]
     },
     "metadata": {},
     "output_type": "display_data"
    },
    {
     "data": {
      "text/html": [
       "Synced <strong style=\"color:#cdcd00\">quiet-yogurt-4</strong>: <a href=\"https://wandb.ai/progettobasket/TAdv1920runs/runs/2topo9d8\" target=\"_blank\">https://wandb.ai/progettobasket/TAdv1920runs/runs/2topo9d8</a><br/>Synced 5 W&B file(s), 0 media file(s), 0 artifact file(s) and 0 other file(s)"
      ],
      "text/plain": [
       "<IPython.core.display.HTML object>"
      ]
     },
     "metadata": {},
     "output_type": "display_data"
    },
    {
     "data": {
      "text/html": [
       "Find logs at: <code>.\\wandb\\run-20221214_123718-2topo9d8\\logs</code>"
      ],
      "text/plain": [
       "<IPython.core.display.HTML object>"
      ]
     },
     "metadata": {},
     "output_type": "display_data"
    },
    {
     "data": {
      "text/html": [
       "wandb version 0.13.6 is available!  To upgrade, please run:\n",
       " $ pip install wandb --upgrade"
      ],
      "text/plain": [
       "<IPython.core.display.HTML object>"
      ]
     },
     "metadata": {},
     "output_type": "display_data"
    },
    {
     "data": {
      "text/html": [
       "Tracking run with wandb version 0.13.5"
      ],
      "text/plain": [
       "<IPython.core.display.HTML object>"
      ]
     },
     "metadata": {},
     "output_type": "display_data"
    },
    {
     "data": {
      "text/html": [
       "Run data is saved locally in <code>d:\\UniSergio\\BasketScripts\\WaB\\wandb\\run-20221214_123730-3pz3873f</code>"
      ],
      "text/plain": [
       "<IPython.core.display.HTML object>"
      ]
     },
     "metadata": {},
     "output_type": "display_data"
    },
    {
     "data": {
      "text/html": [
       "Syncing run <strong><a href=\"https://wandb.ai/progettobasket/TAdv1920runs/runs/3pz3873f\" target=\"_blank\">rare-dream-5</a></strong> to <a href=\"https://wandb.ai/progettobasket/TAdv1920runs\" target=\"_blank\">Weights & Biases</a> (<a href=\"https://wandb.me/run\" target=\"_blank\">docs</a>)<br/>"
      ],
      "text/plain": [
       "<IPython.core.display.HTML object>"
      ]
     },
     "metadata": {},
     "output_type": "display_data"
    },
    {
     "data": {
      "text/html": [
       "Waiting for W&B process to finish... <strong style=\"color:green\">(success).</strong>"
      ],
      "text/plain": [
       "<IPython.core.display.HTML object>"
      ]
     },
     "metadata": {},
     "output_type": "display_data"
    },
    {
     "data": {
      "text/html": [
       "<style>\n",
       "    table.wandb td:nth-child(1) { padding: 0 10px; text-align: left ; width: auto;} td:nth-child(2) {text-align: left ; width: 100%}\n",
       "    .wandb-row { display: flex; flex-direction: row; flex-wrap: wrap; justify-content: flex-start; width: 100% }\n",
       "    .wandb-col { display: flex; flex-direction: column; flex-basis: 100%; flex: 1; padding: 10px; }\n",
       "    </style>\n",
       "<div class=\"wandb-row\"><div class=\"wandb-col\"><h3>Run history:</h3><br/><table class=\"wandb\"><tr><td>acc</td><td>▁▃▄▆▅▃▄█▄▄▄▃▄▆▇▆▆▇▇▆██▇▇▇█▅▇▆▇█▅▇▇█▇████</td></tr><tr><td>epochs</td><td>▁▁▁▂▂▂▂▂▂▃▃▃▃▃▄▄▄▄▄▄▅▅▅▅▅▅▆▆▆▆▆▇▇▇▇▇▇███</td></tr><tr><td>loss</td><td>████▇▇▇▇▇▇▆▆▆▆▆▅▅▅▅▅▄▄▄▄▄▄▄▃▃▃▃▂▂▂▂▂▁▂▁▁</td></tr><tr><td>val_acc</td><td>▂▄▅▆▇▁▂▇▂▄▅▁█▄▅▃▆▄█▄█▄▄▇▄▇▇▇▅▇█▆▆▅▇▆▇▇▅█</td></tr><tr><td>val_loss</td><td>▃▂▁▃▂▂▂▄▃▁▃▆▂▃▃▄▃▄▆▃▃▃▄▄▄▄▃▇▇▆▇▇▆▇█▇▆█▇█</td></tr></table><br/></div><div class=\"wandb-col\"><h3>Run summary:</h3><br/><table class=\"wandb\"><tr><td>acc</td><td>0.837</td></tr><tr><td>epochs</td><td>499</td></tr><tr><td>loss</td><td>0.322</td></tr><tr><td>val_acc</td><td>0.67</td></tr><tr><td>val_loss</td><td>0.654</td></tr></table><br/></div></div>"
      ],
      "text/plain": [
       "<IPython.core.display.HTML object>"
      ]
     },
     "metadata": {},
     "output_type": "display_data"
    },
    {
     "data": {
      "text/html": [
       "Synced <strong style=\"color:#cdcd00\">rare-dream-5</strong>: <a href=\"https://wandb.ai/progettobasket/TAdv1920runs/runs/3pz3873f\" target=\"_blank\">https://wandb.ai/progettobasket/TAdv1920runs/runs/3pz3873f</a><br/>Synced 5 W&B file(s), 0 media file(s), 0 artifact file(s) and 0 other file(s)"
      ],
      "text/plain": [
       "<IPython.core.display.HTML object>"
      ]
     },
     "metadata": {},
     "output_type": "display_data"
    },
    {
     "data": {
      "text/html": [
       "Find logs at: <code>.\\wandb\\run-20221214_123730-3pz3873f\\logs</code>"
      ],
      "text/plain": [
       "<IPython.core.display.HTML object>"
      ]
     },
     "metadata": {},
     "output_type": "display_data"
    },
    {
     "data": {
      "text/html": [
       "wandb version 0.13.6 is available!  To upgrade, please run:\n",
       " $ pip install wandb --upgrade"
      ],
      "text/plain": [
       "<IPython.core.display.HTML object>"
      ]
     },
     "metadata": {},
     "output_type": "display_data"
    },
    {
     "data": {
      "text/html": [
       "Tracking run with wandb version 0.13.5"
      ],
      "text/plain": [
       "<IPython.core.display.HTML object>"
      ]
     },
     "metadata": {},
     "output_type": "display_data"
    },
    {
     "data": {
      "text/html": [
       "Run data is saved locally in <code>d:\\UniSergio\\BasketScripts\\WaB\\wandb\\run-20221214_123742-24wkqvrk</code>"
      ],
      "text/plain": [
       "<IPython.core.display.HTML object>"
      ]
     },
     "metadata": {},
     "output_type": "display_data"
    },
    {
     "data": {
      "text/html": [
       "Syncing run <strong><a href=\"https://wandb.ai/progettobasket/TAdv1920runs/runs/24wkqvrk\" target=\"_blank\">fresh-capybara-6</a></strong> to <a href=\"https://wandb.ai/progettobasket/TAdv1920runs\" target=\"_blank\">Weights & Biases</a> (<a href=\"https://wandb.me/run\" target=\"_blank\">docs</a>)<br/>"
      ],
      "text/plain": [
       "<IPython.core.display.HTML object>"
      ]
     },
     "metadata": {},
     "output_type": "display_data"
    },
    {
     "data": {
      "text/html": [
       "Waiting for W&B process to finish... <strong style=\"color:green\">(success).</strong>"
      ],
      "text/plain": [
       "<IPython.core.display.HTML object>"
      ]
     },
     "metadata": {},
     "output_type": "display_data"
    },
    {
     "data": {
      "text/html": [
       "<style>\n",
       "    table.wandb td:nth-child(1) { padding: 0 10px; text-align: left ; width: auto;} td:nth-child(2) {text-align: left ; width: 100%}\n",
       "    .wandb-row { display: flex; flex-direction: row; flex-wrap: wrap; justify-content: flex-start; width: 100% }\n",
       "    .wandb-col { display: flex; flex-direction: column; flex-basis: 100%; flex: 1; padding: 10px; }\n",
       "    </style>\n",
       "<div class=\"wandb-row\"><div class=\"wandb-col\"><h3>Run history:</h3><br/><table class=\"wandb\"><tr><td>acc</td><td>▁▁▂▅▆▆▆▆▆▇▆▇▇▇▇▇▇▇▇▇▇▇▇▇▇▇▇▇▇██▇████████</td></tr><tr><td>epochs</td><td>▁▁▁▂▂▂▂▂▂▃▃▃▃▃▄▄▄▄▄▄▅▅▅▅▅▅▆▆▆▆▆▇▇▇▇▇▇███</td></tr><tr><td>loss</td><td>███▇▇▇▇▇▆▆▆▆▆▆▅▅▅▅▅▅▄▄▄▄▄▄▃▃▃▃▃▃▂▂▂▂▂▂▁▁</td></tr><tr><td>val_acc</td><td>▁▂▂▂▃▆▇▆▇▆▇▆▆▇▇▇▆▇▇▇▇▇█▇▆▇█▇▇█▇▇▇▇▇▆▆▆▇▇</td></tr><tr><td>val_loss</td><td>▇█▇▇▇▇▆▆▆▆▆▆▆▅▅▅▅▅▅▄▄▄▃▃▃▃▃▃▃▃▃▂▂▂▂▁▁▁▁▁</td></tr></table><br/></div><div class=\"wandb-col\"><h3>Run summary:</h3><br/><table class=\"wandb\"><tr><td>acc</td><td>0.817</td></tr><tr><td>epochs</td><td>499</td></tr><tr><td>loss</td><td>0.427</td></tr><tr><td>val_acc</td><td>0.702</td></tr><tr><td>val_loss</td><td>0.62</td></tr></table><br/></div></div>"
      ],
      "text/plain": [
       "<IPython.core.display.HTML object>"
      ]
     },
     "metadata": {},
     "output_type": "display_data"
    },
    {
     "data": {
      "text/html": [
       "Synced <strong style=\"color:#cdcd00\">fresh-capybara-6</strong>: <a href=\"https://wandb.ai/progettobasket/TAdv1920runs/runs/24wkqvrk\" target=\"_blank\">https://wandb.ai/progettobasket/TAdv1920runs/runs/24wkqvrk</a><br/>Synced 5 W&B file(s), 0 media file(s), 0 artifact file(s) and 0 other file(s)"
      ],
      "text/plain": [
       "<IPython.core.display.HTML object>"
      ]
     },
     "metadata": {},
     "output_type": "display_data"
    },
    {
     "data": {
      "text/html": [
       "Find logs at: <code>.\\wandb\\run-20221214_123742-24wkqvrk\\logs</code>"
      ],
      "text/plain": [
       "<IPython.core.display.HTML object>"
      ]
     },
     "metadata": {},
     "output_type": "display_data"
    }
   ],
   "source": [
    "wandb.login()\n",
    "\n",
    "\n",
    "\n",
    "project_name=\"T\"+stats[0:3].capitalize()+years[2:].replace(\"-\",\"\")+\"runs\"\n",
    "wandbWrite(project_name,best_config_array,best_history_array,\"onehidden_\")\n"
   ]
  },
  {
   "cell_type": "markdown",
   "metadata": {},
   "source": [
    "<!-- Best model {'learning_rate': 0.001, 'num_neurons': 10, 'acti_fun': 'relu', 'loss': 0.0193, 'acc': 0.9987, 'val_loss': 1.4627, 'val_acc': 0.6}\n",
    "Best model {'learning_rate': 0.0001, 'num_neurons': 30, 'acti_fun': 'sigmoid', 'loss': 0.4884, 'acc': 0.9517, 'val_loss': 0.6466, 'val_acc': 0.64}\n",
    "Best model {'learning_rate': 0.0001, 'num_neurons': 50, 'acti_fun': 'sigmoid', 'loss': 0.5163, 'acc': 0.9437, 'val_loss': 0.656, 'val_acc': 0.66}\n",
    "Best model {'learning_rate': 0.0001, 'num_neurons': 100, 'acti_fun': 'relu', 'loss': 0.0628, 'acc': 0.9951, 'val_loss': 0.775, 'val_acc': 0.64}\n",
    "Best model {'learning_rate': 0.001, 'num_neurons': 150, 'acti_fun': 'relu', 'loss': 0.0135, 'acc': 0.9998, 'val_loss': 1.4478, 'val_acc': 0.64}\n",
    "Best model {'learning_rate': 0.0001, 'num_neurons': 200, 'acti_fun': 'relu', 'loss': 0.0487, 'acc': 1.0, 'val_loss': 0.8261, 'val_acc': 0.64} -->"
   ]
  },
  {
   "cell_type": "markdown",
   "metadata": {},
   "source": [
    "# L2 Regolarization\n"
   ]
  },
  {
   "cell_type": "code",
   "execution_count": 15,
   "metadata": {},
   "outputs": [
    {
     "name": "stdout",
     "output_type": "stream",
     "text": [
      "Best model {'learning_rate': 0.01, 'num_neurons': 10, 'acti_fun': 'relu', 'batch_size': 150, 'epochs': 500, 'pl2': 0.0001, 'architecture': 'OneHiddenLayerL2', 'dataset': '2019-20_advance', 'val_acc': 0.6880000233650208}\n",
      "Best model {'learning_rate': 0.01, 'num_neurons': 30, 'acti_fun': 'relu', 'batch_size': 150, 'epochs': 500, 'pl2': 0.01, 'architecture': 'OneHiddenLayerL2', 'dataset': '2019-20_advance', 'val_acc': 0.6899999976158142}\n",
      "Best model {'learning_rate': 0.01, 'num_neurons': 50, 'acti_fun': 'relu', 'batch_size': 150, 'epochs': 500, 'pl2': 0.0001, 'architecture': 'OneHiddenLayerL2', 'dataset': '2019-20_advance', 'val_acc': 0.6880000233650208}\n",
      "Best model {'learning_rate': 0.01, 'num_neurons': 100, 'acti_fun': 'relu', 'batch_size': 150, 'epochs': 500, 'pl2': 0.01, 'architecture': 'OneHiddenLayerL2', 'dataset': '2019-20_advance', 'val_acc': 0.6859999895095825}\n",
      "Best model {'learning_rate': 0.01, 'num_neurons': 150, 'acti_fun': 'relu', 'batch_size': 150, 'epochs': 500, 'pl2': 0.01, 'architecture': 'OneHiddenLayerL2', 'dataset': '2019-20_advance', 'val_acc': 0.6899999976158142}\n",
      "Best model {'learning_rate': 0.01, 'num_neurons': 200, 'acti_fun': 'relu', 'batch_size': 150, 'epochs': 500, 'pl2': 0.01, 'architecture': 'OneHiddenLayerL2', 'dataset': '2019-20_advance', 'val_acc': 0.6859999895095825}\n"
     ]
    }
   ],
   "source": [
    "best_config_array=[]\n",
    "best_history_array=[]\n",
    "possible_pL2=[0.0001,0.001,0.01]\n",
    "for num in number_neurons:\n",
    "    best_config_tmp={'val_acc':0}\n",
    "    best_history_tmp=[]\n",
    "    for el in possible_learning_rate:\n",
    "        for act in activation:\n",
    "            for pl2 in possible_pL2:\n",
    "            # Initialize model\n",
    "                model = NN(input_size=input_size,size_hidden_level=num,act=act,learning_rate=el,pl2=pl2).to(device)\n",
    "\n",
    "                \n",
    "                \n",
    "                config={\n",
    "                    \"learning_rate\":el,\n",
    "                    'num_neurons':num,\n",
    "                    'acti_fun':act,\n",
    "                    \"batch_size\": batch_size,\n",
    "                    \"epochs\": num_epochs,\n",
    "                    \"pl2\":pl2,\n",
    "                    \"architecture\": \"OneHiddenLayerL2\",\n",
    "                    \"dataset\":years+\"_\"+stats\n",
    "                }\n",
    "                \n",
    "                best_config_tmp,best_history_tmp=model.MyTrain(kf=kf,config=config,best_config_tmp=best_config_tmp,\n",
    "                best_history_tmp=best_history_tmp,train_LL=train_LL,test_LL=test_LL,device=device)\n",
    "            \n",
    "                    \n",
    "    print(\"Best model\",best_config_tmp)\n",
    "    best_config_array.append(best_config_tmp)\n",
    "    best_history_array.append(best_history_tmp)\n",
    "    \n",
    "# Doing the mean between the 10 fold\n",
    "for num,array in  enumerate(best_history_array):\n",
    "    tmp=[ torch.mean(array[0],axis=0),torch.mean(array[1],axis=0),torch.mean(array[2],axis=0),torch.mean(array[3],axis=0)]\n",
    "  \n",
    "    best_history_array[num]=tmp\n"
   ]
  },
  {
   "cell_type": "code",
   "execution_count": null,
   "metadata": {},
   "outputs": [],
   "source": [
    "winsound.Beep(440,2500)"
   ]
  },
  {
   "cell_type": "code",
   "execution_count": 16,
   "metadata": {},
   "outputs": [
    {
     "data": {
      "text/html": [
       "wandb version 0.13.6 is available!  To upgrade, please run:\n",
       " $ pip install wandb --upgrade"
      ],
      "text/plain": [
       "<IPython.core.display.HTML object>"
      ]
     },
     "metadata": {},
     "output_type": "display_data"
    },
    {
     "data": {
      "text/html": [
       "Tracking run with wandb version 0.13.5"
      ],
      "text/plain": [
       "<IPython.core.display.HTML object>"
      ]
     },
     "metadata": {},
     "output_type": "display_data"
    },
    {
     "data": {
      "text/html": [
       "Run data is saved locally in <code>d:\\UniSergio\\BasketScripts\\WaB\\wandb\\run-20221214_142001-e0848cqm</code>"
      ],
      "text/plain": [
       "<IPython.core.display.HTML object>"
      ]
     },
     "metadata": {},
     "output_type": "display_data"
    },
    {
     "data": {
      "text/html": [
       "Syncing run <strong><a href=\"https://wandb.ai/progettobasket/TAdv1920runs/runs/e0848cqm\" target=\"_blank\">helpful-meadow-7</a></strong> to <a href=\"https://wandb.ai/progettobasket/TAdv1920runs\" target=\"_blank\">Weights & Biases</a> (<a href=\"https://wandb.me/run\" target=\"_blank\">docs</a>)<br/>"
      ],
      "text/plain": [
       "<IPython.core.display.HTML object>"
      ]
     },
     "metadata": {},
     "output_type": "display_data"
    },
    {
     "data": {
      "text/html": [
       "Waiting for W&B process to finish... <strong style=\"color:green\">(success).</strong>"
      ],
      "text/plain": [
       "<IPython.core.display.HTML object>"
      ]
     },
     "metadata": {},
     "output_type": "display_data"
    },
    {
     "data": {
      "text/html": [
       "<style>\n",
       "    table.wandb td:nth-child(1) { padding: 0 10px; text-align: left ; width: auto;} td:nth-child(2) {text-align: left ; width: 100%}\n",
       "    .wandb-row { display: flex; flex-direction: row; flex-wrap: wrap; justify-content: flex-start; width: 100% }\n",
       "    .wandb-col { display: flex; flex-direction: column; flex-basis: 100%; flex: 1; padding: 10px; }\n",
       "    </style>\n",
       "<div class=\"wandb-row\"><div class=\"wandb-col\"><h3>Run history:</h3><br/><table class=\"wandb\"><tr><td>acc</td><td>▁▁▂▂▂▂▃▃▄▄▄▅▅▅▅▆▆▆▆▇▇▇▇▇▇▇▇▇▇███████████</td></tr><tr><td>epochs</td><td>▁▁▁▂▂▂▂▂▂▃▃▃▃▃▄▄▄▄▄▄▅▅▅▅▅▅▆▆▆▆▆▇▇▇▇▇▇███</td></tr><tr><td>loss</td><td>██▇▇▇▇▇▇▆▆▆▆▆▆▅▅▅▅▅▅▄▅▄▄▄▄▃▃▃▃▃▂▂▂▂▂▂▁▁▁</td></tr><tr><td>val_acc</td><td>▃▁▃▆▄▅▄▆▄▇▆▆▆▆▇▆▇▅▄▆▆▆▅▇▆▇▆▇▇▇▇▇▇▆▆▆▄▇█▆</td></tr><tr><td>val_loss</td><td>▁▂▁▁▃▃▃▃▄▄▂▂▂▃▄▃▄▅▆▅▅▅▅▅▅▄▆▅▄▅▅▇▆▇█▅▇▇▇▇</td></tr></table><br/></div><div class=\"wandb-col\"><h3>Run summary:</h3><br/><table class=\"wandb\"><tr><td>acc</td><td>0.859</td></tr><tr><td>epochs</td><td>499</td></tr><tr><td>loss</td><td>0.152</td></tr><tr><td>val_acc</td><td>0.688</td></tr><tr><td>val_loss</td><td>0.958</td></tr></table><br/></div></div>"
      ],
      "text/plain": [
       "<IPython.core.display.HTML object>"
      ]
     },
     "metadata": {},
     "output_type": "display_data"
    },
    {
     "data": {
      "text/html": [
       "Synced <strong style=\"color:#cdcd00\">helpful-meadow-7</strong>: <a href=\"https://wandb.ai/progettobasket/TAdv1920runs/runs/e0848cqm\" target=\"_blank\">https://wandb.ai/progettobasket/TAdv1920runs/runs/e0848cqm</a><br/>Synced 5 W&B file(s), 0 media file(s), 0 artifact file(s) and 0 other file(s)"
      ],
      "text/plain": [
       "<IPython.core.display.HTML object>"
      ]
     },
     "metadata": {},
     "output_type": "display_data"
    },
    {
     "data": {
      "text/html": [
       "Find logs at: <code>.\\wandb\\run-20221214_142001-e0848cqm\\logs</code>"
      ],
      "text/plain": [
       "<IPython.core.display.HTML object>"
      ]
     },
     "metadata": {},
     "output_type": "display_data"
    },
    {
     "data": {
      "text/html": [
       "wandb version 0.13.6 is available!  To upgrade, please run:\n",
       " $ pip install wandb --upgrade"
      ],
      "text/plain": [
       "<IPython.core.display.HTML object>"
      ]
     },
     "metadata": {},
     "output_type": "display_data"
    },
    {
     "data": {
      "text/html": [
       "Tracking run with wandb version 0.13.5"
      ],
      "text/plain": [
       "<IPython.core.display.HTML object>"
      ]
     },
     "metadata": {},
     "output_type": "display_data"
    },
    {
     "data": {
      "text/html": [
       "Run data is saved locally in <code>d:\\UniSergio\\BasketScripts\\WaB\\wandb\\run-20221214_142013-nys47v8u</code>"
      ],
      "text/plain": [
       "<IPython.core.display.HTML object>"
      ]
     },
     "metadata": {},
     "output_type": "display_data"
    },
    {
     "data": {
      "text/html": [
       "Syncing run <strong><a href=\"https://wandb.ai/progettobasket/TAdv1920runs/runs/nys47v8u\" target=\"_blank\">dutiful-brook-8</a></strong> to <a href=\"https://wandb.ai/progettobasket/TAdv1920runs\" target=\"_blank\">Weights & Biases</a> (<a href=\"https://wandb.me/run\" target=\"_blank\">docs</a>)<br/>"
      ],
      "text/plain": [
       "<IPython.core.display.HTML object>"
      ]
     },
     "metadata": {},
     "output_type": "display_data"
    },
    {
     "data": {
      "text/html": [
       "Waiting for W&B process to finish... <strong style=\"color:green\">(success).</strong>"
      ],
      "text/plain": [
       "<IPython.core.display.HTML object>"
      ]
     },
     "metadata": {},
     "output_type": "display_data"
    },
    {
     "data": {
      "text/html": [
       "<style>\n",
       "    table.wandb td:nth-child(1) { padding: 0 10px; text-align: left ; width: auto;} td:nth-child(2) {text-align: left ; width: 100%}\n",
       "    .wandb-row { display: flex; flex-direction: row; flex-wrap: wrap; justify-content: flex-start; width: 100% }\n",
       "    .wandb-col { display: flex; flex-direction: column; flex-basis: 100%; flex: 1; padding: 10px; }\n",
       "    </style>\n",
       "<div class=\"wandb-row\"><div class=\"wandb-col\"><h3>Run history:</h3><br/><table class=\"wandb\"><tr><td>acc</td><td>▁▁▂▄▄▅▅▅▆▆▆▆▆▇▇▇▇▇▇▇▇▇▇▇████████████████</td></tr><tr><td>epochs</td><td>▁▁▁▂▂▂▂▂▂▃▃▃▃▃▄▄▄▄▄▄▅▅▅▅▅▅▆▆▆▆▆▇▇▇▇▇▇███</td></tr><tr><td>loss</td><td>█▇▇▇▇▇▆▆▆▆▆▆▅▅▅▅▅▅▅▄▄▄▄▄▄▄▃▃▃▃▃▂▂▂▂▂▁▁▁▁</td></tr><tr><td>val_acc</td><td>▃▅▂▄▃▃▃▃▁▁▁▂▂▃▁▃▃▄▄▄▃▃▃▅▅▅▆▅▆▅█▆████▇▆▇▇</td></tr><tr><td>val_loss</td><td>▃▃▃▅▂▄▁▄▃▃▂▂▅█▄▄▄▄▄▆▅▃▂▅▄▇▂▆▄▄▄▄▆▄▄▆▅▄▄▃</td></tr></table><br/></div><div class=\"wandb-col\"><h3>Run summary:</h3><br/><table class=\"wandb\"><tr><td>acc</td><td>0.855</td></tr><tr><td>epochs</td><td>499</td></tr><tr><td>loss</td><td>0.203</td></tr><tr><td>val_acc</td><td>0.69</td></tr><tr><td>val_loss</td><td>0.684</td></tr></table><br/></div></div>"
      ],
      "text/plain": [
       "<IPython.core.display.HTML object>"
      ]
     },
     "metadata": {},
     "output_type": "display_data"
    },
    {
     "data": {
      "text/html": [
       "Synced <strong style=\"color:#cdcd00\">dutiful-brook-8</strong>: <a href=\"https://wandb.ai/progettobasket/TAdv1920runs/runs/nys47v8u\" target=\"_blank\">https://wandb.ai/progettobasket/TAdv1920runs/runs/nys47v8u</a><br/>Synced 5 W&B file(s), 0 media file(s), 0 artifact file(s) and 0 other file(s)"
      ],
      "text/plain": [
       "<IPython.core.display.HTML object>"
      ]
     },
     "metadata": {},
     "output_type": "display_data"
    },
    {
     "data": {
      "text/html": [
       "Find logs at: <code>.\\wandb\\run-20221214_142013-nys47v8u\\logs</code>"
      ],
      "text/plain": [
       "<IPython.core.display.HTML object>"
      ]
     },
     "metadata": {},
     "output_type": "display_data"
    },
    {
     "data": {
      "text/html": [
       "wandb version 0.13.6 is available!  To upgrade, please run:\n",
       " $ pip install wandb --upgrade"
      ],
      "text/plain": [
       "<IPython.core.display.HTML object>"
      ]
     },
     "metadata": {},
     "output_type": "display_data"
    },
    {
     "data": {
      "text/html": [
       "Tracking run with wandb version 0.13.5"
      ],
      "text/plain": [
       "<IPython.core.display.HTML object>"
      ]
     },
     "metadata": {},
     "output_type": "display_data"
    },
    {
     "data": {
      "text/html": [
       "Run data is saved locally in <code>d:\\UniSergio\\BasketScripts\\WaB\\wandb\\run-20221214_142025-3b5xs388</code>"
      ],
      "text/plain": [
       "<IPython.core.display.HTML object>"
      ]
     },
     "metadata": {},
     "output_type": "display_data"
    },
    {
     "data": {
      "text/html": [
       "Syncing run <strong><a href=\"https://wandb.ai/progettobasket/TAdv1920runs/runs/3b5xs388\" target=\"_blank\">stellar-monkey-9</a></strong> to <a href=\"https://wandb.ai/progettobasket/TAdv1920runs\" target=\"_blank\">Weights & Biases</a> (<a href=\"https://wandb.me/run\" target=\"_blank\">docs</a>)<br/>"
      ],
      "text/plain": [
       "<IPython.core.display.HTML object>"
      ]
     },
     "metadata": {},
     "output_type": "display_data"
    },
    {
     "data": {
      "text/html": [
       "Waiting for W&B process to finish... <strong style=\"color:green\">(success).</strong>"
      ],
      "text/plain": [
       "<IPython.core.display.HTML object>"
      ]
     },
     "metadata": {},
     "output_type": "display_data"
    },
    {
     "data": {
      "text/html": [
       "<style>\n",
       "    table.wandb td:nth-child(1) { padding: 0 10px; text-align: left ; width: auto;} td:nth-child(2) {text-align: left ; width: 100%}\n",
       "    .wandb-row { display: flex; flex-direction: row; flex-wrap: wrap; justify-content: flex-start; width: 100% }\n",
       "    .wandb-col { display: flex; flex-direction: column; flex-basis: 100%; flex: 1; padding: 10px; }\n",
       "    </style>\n",
       "<div class=\"wandb-row\"><div class=\"wandb-col\"><h3>Run history:</h3><br/><table class=\"wandb\"><tr><td>acc</td><td>▁▁▃▄▄▅▆▆▆▆▇▇▇▇▇▇▇██▇██▇▇▇█▇█▇█▇█████████</td></tr><tr><td>epochs</td><td>▁▁▁▂▂▂▂▂▂▃▃▃▃▃▄▄▄▄▄▄▅▅▅▅▅▅▆▆▆▆▆▇▇▇▇▇▇███</td></tr><tr><td>loss</td><td>███▇▇▇▇▇▇▆▆▆▆▆▆▆▅▅▅▅▅▄▄▄▄▄▃▃▃▃▂▂▂▂▂▂▁▁▁▁</td></tr><tr><td>val_acc</td><td>▁▂▂▂▃▃▃▃▂▄▅▆▆▆▅▆▅▆▇▆▇▆▇▇▇▆▇▇▇▆▆▇▇▇█▇▆█▇▇</td></tr><tr><td>val_loss</td><td>▁▂▂▁▂▁▃▃▂▂▂▃▃▃▃▅▃▅▄▄▅▆▄▄▅▅▅▅▅▅▆▇▆▆▆▆▇▆█▆</td></tr></table><br/></div><div class=\"wandb-col\"><h3>Run summary:</h3><br/><table class=\"wandb\"><tr><td>acc</td><td>0.861</td></tr><tr><td>epochs</td><td>499</td></tr><tr><td>loss</td><td>0.133</td></tr><tr><td>val_acc</td><td>0.688</td></tr><tr><td>val_loss</td><td>0.969</td></tr></table><br/></div></div>"
      ],
      "text/plain": [
       "<IPython.core.display.HTML object>"
      ]
     },
     "metadata": {},
     "output_type": "display_data"
    },
    {
     "data": {
      "text/html": [
       "Synced <strong style=\"color:#cdcd00\">stellar-monkey-9</strong>: <a href=\"https://wandb.ai/progettobasket/TAdv1920runs/runs/3b5xs388\" target=\"_blank\">https://wandb.ai/progettobasket/TAdv1920runs/runs/3b5xs388</a><br/>Synced 5 W&B file(s), 0 media file(s), 0 artifact file(s) and 0 other file(s)"
      ],
      "text/plain": [
       "<IPython.core.display.HTML object>"
      ]
     },
     "metadata": {},
     "output_type": "display_data"
    },
    {
     "data": {
      "text/html": [
       "Find logs at: <code>.\\wandb\\run-20221214_142025-3b5xs388\\logs</code>"
      ],
      "text/plain": [
       "<IPython.core.display.HTML object>"
      ]
     },
     "metadata": {},
     "output_type": "display_data"
    },
    {
     "data": {
      "text/html": [
       "wandb version 0.13.6 is available!  To upgrade, please run:\n",
       " $ pip install wandb --upgrade"
      ],
      "text/plain": [
       "<IPython.core.display.HTML object>"
      ]
     },
     "metadata": {},
     "output_type": "display_data"
    },
    {
     "data": {
      "text/html": [
       "Tracking run with wandb version 0.13.5"
      ],
      "text/plain": [
       "<IPython.core.display.HTML object>"
      ]
     },
     "metadata": {},
     "output_type": "display_data"
    },
    {
     "data": {
      "text/html": [
       "Run data is saved locally in <code>d:\\UniSergio\\BasketScripts\\WaB\\wandb\\run-20221214_142038-2ynwfrfh</code>"
      ],
      "text/plain": [
       "<IPython.core.display.HTML object>"
      ]
     },
     "metadata": {},
     "output_type": "display_data"
    },
    {
     "data": {
      "text/html": [
       "Syncing run <strong><a href=\"https://wandb.ai/progettobasket/TAdv1920runs/runs/2ynwfrfh\" target=\"_blank\">resilient-hill-10</a></strong> to <a href=\"https://wandb.ai/progettobasket/TAdv1920runs\" target=\"_blank\">Weights & Biases</a> (<a href=\"https://wandb.me/run\" target=\"_blank\">docs</a>)<br/>"
      ],
      "text/plain": [
       "<IPython.core.display.HTML object>"
      ]
     },
     "metadata": {},
     "output_type": "display_data"
    },
    {
     "data": {
      "text/html": [
       "Waiting for W&B process to finish... <strong style=\"color:green\">(success).</strong>"
      ],
      "text/plain": [
       "<IPython.core.display.HTML object>"
      ]
     },
     "metadata": {},
     "output_type": "display_data"
    },
    {
     "data": {
      "text/html": [
       "<style>\n",
       "    table.wandb td:nth-child(1) { padding: 0 10px; text-align: left ; width: auto;} td:nth-child(2) {text-align: left ; width: 100%}\n",
       "    .wandb-row { display: flex; flex-direction: row; flex-wrap: wrap; justify-content: flex-start; width: 100% }\n",
       "    .wandb-col { display: flex; flex-direction: column; flex-basis: 100%; flex: 1; padding: 10px; }\n",
       "    </style>\n",
       "<div class=\"wandb-row\"><div class=\"wandb-col\"><h3>Run history:</h3><br/><table class=\"wandb\"><tr><td>acc</td><td>▁▂▄▄▅▅▆▆▆▆▆▆▆▆▇▆▆▇▇▇▇▇▇▇▇▇▇▇████████████</td></tr><tr><td>epochs</td><td>▁▁▁▂▂▂▂▂▂▃▃▃▃▃▄▄▄▄▄▄▅▅▅▅▅▅▆▆▆▆▆▇▇▇▇▇▇███</td></tr><tr><td>loss</td><td>███▇▇▇▇▇▆▇▆▆▆▆▅▅▅▅▅▅▄▄▄▄▄▃▃▃▃▃▂▂▂▂▂▂▂▁▁▁</td></tr><tr><td>val_acc</td><td>▃▁▂▆▄▅▄▄▆▇▆▇▇▇▇▇▇▇▆▇▇▇█▇▆▆█▇▇▆▇▇▇▇▇▆▆▇▆▇</td></tr><tr><td>val_loss</td><td>▂▁▆▄▄▄▂▃▅▇▇▆▆▆▅▅▂▇▇▅▃▅▆▄█▇▆▃▃▃█▂▄▆▇█▆▅▅█</td></tr></table><br/></div><div class=\"wandb-col\"><h3>Run summary:</h3><br/><table class=\"wandb\"><tr><td>acc</td><td>0.852</td></tr><tr><td>epochs</td><td>499</td></tr><tr><td>loss</td><td>0.196</td></tr><tr><td>val_acc</td><td>0.686</td></tr><tr><td>val_loss</td><td>0.7</td></tr></table><br/></div></div>"
      ],
      "text/plain": [
       "<IPython.core.display.HTML object>"
      ]
     },
     "metadata": {},
     "output_type": "display_data"
    },
    {
     "data": {
      "text/html": [
       "Synced <strong style=\"color:#cdcd00\">resilient-hill-10</strong>: <a href=\"https://wandb.ai/progettobasket/TAdv1920runs/runs/2ynwfrfh\" target=\"_blank\">https://wandb.ai/progettobasket/TAdv1920runs/runs/2ynwfrfh</a><br/>Synced 5 W&B file(s), 0 media file(s), 0 artifact file(s) and 0 other file(s)"
      ],
      "text/plain": [
       "<IPython.core.display.HTML object>"
      ]
     },
     "metadata": {},
     "output_type": "display_data"
    },
    {
     "data": {
      "text/html": [
       "Find logs at: <code>.\\wandb\\run-20221214_142038-2ynwfrfh\\logs</code>"
      ],
      "text/plain": [
       "<IPython.core.display.HTML object>"
      ]
     },
     "metadata": {},
     "output_type": "display_data"
    },
    {
     "data": {
      "text/html": [
       "wandb version 0.13.6 is available!  To upgrade, please run:\n",
       " $ pip install wandb --upgrade"
      ],
      "text/plain": [
       "<IPython.core.display.HTML object>"
      ]
     },
     "metadata": {},
     "output_type": "display_data"
    },
    {
     "data": {
      "text/html": [
       "Tracking run with wandb version 0.13.5"
      ],
      "text/plain": [
       "<IPython.core.display.HTML object>"
      ]
     },
     "metadata": {},
     "output_type": "display_data"
    },
    {
     "data": {
      "text/html": [
       "Run data is saved locally in <code>d:\\UniSergio\\BasketScripts\\WaB\\wandb\\run-20221214_142051-1qvmumsa</code>"
      ],
      "text/plain": [
       "<IPython.core.display.HTML object>"
      ]
     },
     "metadata": {},
     "output_type": "display_data"
    },
    {
     "data": {
      "text/html": [
       "Syncing run <strong><a href=\"https://wandb.ai/progettobasket/TAdv1920runs/runs/1qvmumsa\" target=\"_blank\">divine-wave-11</a></strong> to <a href=\"https://wandb.ai/progettobasket/TAdv1920runs\" target=\"_blank\">Weights & Biases</a> (<a href=\"https://wandb.me/run\" target=\"_blank\">docs</a>)<br/>"
      ],
      "text/plain": [
       "<IPython.core.display.HTML object>"
      ]
     },
     "metadata": {},
     "output_type": "display_data"
    },
    {
     "data": {
      "text/html": [
       "Waiting for W&B process to finish... <strong style=\"color:green\">(success).</strong>"
      ],
      "text/plain": [
       "<IPython.core.display.HTML object>"
      ]
     },
     "metadata": {},
     "output_type": "display_data"
    },
    {
     "data": {
      "text/html": [
       "<style>\n",
       "    table.wandb td:nth-child(1) { padding: 0 10px; text-align: left ; width: auto;} td:nth-child(2) {text-align: left ; width: 100%}\n",
       "    .wandb-row { display: flex; flex-direction: row; flex-wrap: wrap; justify-content: flex-start; width: 100% }\n",
       "    .wandb-col { display: flex; flex-direction: column; flex-basis: 100%; flex: 1; padding: 10px; }\n",
       "    </style>\n",
       "<div class=\"wandb-row\"><div class=\"wandb-col\"><h3>Run history:</h3><br/><table class=\"wandb\"><tr><td>acc</td><td>▁▅▇▇▇▇▇▇▇▇▇▇▇▇▇▇█▇▇▇▇▇██▇▇██████████████</td></tr><tr><td>epochs</td><td>▁▁▁▂▂▂▂▂▂▃▃▃▃▃▄▄▄▄▄▄▅▅▅▅▅▅▆▆▆▆▆▇▇▇▇▇▇███</td></tr><tr><td>loss</td><td>███▇▇▇▇▆▆▆▆▆▅▅▅▅▅▅▄▄▄▄▃▃▃▃▃▃▂▂▂▂▂▂▂▁▁▁▁▁</td></tr><tr><td>val_acc</td><td>▁▅▅▅▃▆▅▆▇▇▆▇▆▆▆▇▇▆▇▇▆▇▆▆▆▅█▇▆██▆▆▇▇▇▆▇██</td></tr><tr><td>val_loss</td><td>▄▂▃▃▂▆▃▆▁▃▃▅▃█▃▂▆▃▅▃▄▄▇▇▃▅▇▄▅▄▇▅▅█▆▆▅▅▇▅</td></tr></table><br/></div><div class=\"wandb-col\"><h3>Run summary:</h3><br/><table class=\"wandb\"><tr><td>acc</td><td>0.855</td></tr><tr><td>epochs</td><td>499</td></tr><tr><td>loss</td><td>0.188</td></tr><tr><td>val_acc</td><td>0.69</td></tr><tr><td>val_loss</td><td>0.691</td></tr></table><br/></div></div>"
      ],
      "text/plain": [
       "<IPython.core.display.HTML object>"
      ]
     },
     "metadata": {},
     "output_type": "display_data"
    },
    {
     "data": {
      "text/html": [
       "Synced <strong style=\"color:#cdcd00\">divine-wave-11</strong>: <a href=\"https://wandb.ai/progettobasket/TAdv1920runs/runs/1qvmumsa\" target=\"_blank\">https://wandb.ai/progettobasket/TAdv1920runs/runs/1qvmumsa</a><br/>Synced 5 W&B file(s), 0 media file(s), 0 artifact file(s) and 0 other file(s)"
      ],
      "text/plain": [
       "<IPython.core.display.HTML object>"
      ]
     },
     "metadata": {},
     "output_type": "display_data"
    },
    {
     "data": {
      "text/html": [
       "Find logs at: <code>.\\wandb\\run-20221214_142051-1qvmumsa\\logs</code>"
      ],
      "text/plain": [
       "<IPython.core.display.HTML object>"
      ]
     },
     "metadata": {},
     "output_type": "display_data"
    },
    {
     "data": {
      "text/html": [
       "wandb version 0.13.6 is available!  To upgrade, please run:\n",
       " $ pip install wandb --upgrade"
      ],
      "text/plain": [
       "<IPython.core.display.HTML object>"
      ]
     },
     "metadata": {},
     "output_type": "display_data"
    },
    {
     "data": {
      "text/html": [
       "Tracking run with wandb version 0.13.5"
      ],
      "text/plain": [
       "<IPython.core.display.HTML object>"
      ]
     },
     "metadata": {},
     "output_type": "display_data"
    },
    {
     "data": {
      "text/html": [
       "Run data is saved locally in <code>d:\\UniSergio\\BasketScripts\\WaB\\wandb\\run-20221214_142104-3bl4e4r1</code>"
      ],
      "text/plain": [
       "<IPython.core.display.HTML object>"
      ]
     },
     "metadata": {},
     "output_type": "display_data"
    },
    {
     "data": {
      "text/html": [
       "Syncing run <strong><a href=\"https://wandb.ai/progettobasket/TAdv1920runs/runs/3bl4e4r1\" target=\"_blank\">ethereal-sea-12</a></strong> to <a href=\"https://wandb.ai/progettobasket/TAdv1920runs\" target=\"_blank\">Weights & Biases</a> (<a href=\"https://wandb.me/run\" target=\"_blank\">docs</a>)<br/>"
      ],
      "text/plain": [
       "<IPython.core.display.HTML object>"
      ]
     },
     "metadata": {},
     "output_type": "display_data"
    },
    {
     "data": {
      "text/html": [
       "Waiting for W&B process to finish... <strong style=\"color:green\">(success).</strong>"
      ],
      "text/plain": [
       "<IPython.core.display.HTML object>"
      ]
     },
     "metadata": {},
     "output_type": "display_data"
    },
    {
     "data": {
      "text/html": [
       "<style>\n",
       "    table.wandb td:nth-child(1) { padding: 0 10px; text-align: left ; width: auto;} td:nth-child(2) {text-align: left ; width: 100%}\n",
       "    .wandb-row { display: flex; flex-direction: row; flex-wrap: wrap; justify-content: flex-start; width: 100% }\n",
       "    .wandb-col { display: flex; flex-direction: column; flex-basis: 100%; flex: 1; padding: 10px; }\n",
       "    </style>\n",
       "<div class=\"wandb-row\"><div class=\"wandb-col\"><h3>Run history:</h3><br/><table class=\"wandb\"><tr><td>acc</td><td>▁▅▆▆▆▇▇▆▇▇▆▇▇▇▇▇▇█▇▇▇▇▇▇▇▇█████▇██▇█████</td></tr><tr><td>epochs</td><td>▁▁▁▂▂▂▂▂▂▃▃▃▃▃▄▄▄▄▄▄▅▅▅▅▅▅▆▆▆▆▆▇▇▇▇▇▇███</td></tr><tr><td>loss</td><td>██▇▇▇▇▇▇▆▆▆▆▅▅▅▅▄▄▄▄▄▄▄▃▃▃▃▂▂▂▂▂▂▂▂▁▁▁▁▁</td></tr><tr><td>val_acc</td><td>▁▄▂▂▅▃▂▂▄▂▄▃▁▂▄▄▄▂▄▃▅▅▅▄▅▆▅▄▃▆▆▅▅▄▃▄█▄▅▅</td></tr><tr><td>val_loss</td><td>▂▆▂▂▃▅▃▂▂▃▄▃▂▃▃▄▄▁▄▃▃▂▃▃▃▄▄▃▅▂▅▄▅▄▄▆▅█▄▆</td></tr></table><br/></div><div class=\"wandb-col\"><h3>Run summary:</h3><br/><table class=\"wandb\"><tr><td>acc</td><td>0.855</td></tr><tr><td>epochs</td><td>499</td></tr><tr><td>loss</td><td>0.186</td></tr><tr><td>val_acc</td><td>0.686</td></tr><tr><td>val_loss</td><td>0.679</td></tr></table><br/></div></div>"
      ],
      "text/plain": [
       "<IPython.core.display.HTML object>"
      ]
     },
     "metadata": {},
     "output_type": "display_data"
    },
    {
     "data": {
      "text/html": [
       "Synced <strong style=\"color:#cdcd00\">ethereal-sea-12</strong>: <a href=\"https://wandb.ai/progettobasket/TAdv1920runs/runs/3bl4e4r1\" target=\"_blank\">https://wandb.ai/progettobasket/TAdv1920runs/runs/3bl4e4r1</a><br/>Synced 5 W&B file(s), 0 media file(s), 0 artifact file(s) and 0 other file(s)"
      ],
      "text/plain": [
       "<IPython.core.display.HTML object>"
      ]
     },
     "metadata": {},
     "output_type": "display_data"
    },
    {
     "data": {
      "text/html": [
       "Find logs at: <code>.\\wandb\\run-20221214_142104-3bl4e4r1\\logs</code>"
      ],
      "text/plain": [
       "<IPython.core.display.HTML object>"
      ]
     },
     "metadata": {},
     "output_type": "display_data"
    }
   ],
   "source": [
    "wandb.login()\n",
    "\n",
    "project_name=\"T\"+stats[0:3].capitalize()+years[2:].replace(\"-\",\"\")+\"runs\"\n",
    "wandbWrite(project_name,best_config_array,best_history_array,\"onehiddenL2_\")\n"
   ]
  },
  {
   "cell_type": "markdown",
   "metadata": {},
   "source": [
    "# Dropout"
   ]
  },
  {
   "cell_type": "code",
   "execution_count": 17,
   "metadata": {},
   "outputs": [
    {
     "name": "stdout",
     "output_type": "stream",
     "text": [
      "Best model {'learning_rate': 0.01, 'num_neurons': 10, 'acti_fun': 'relu', 'batch_size': 150, 'epochs': 500, 'drop_rate': 0.65, 'architecture': 'OneHiddenLayerDropout', 'dataset': '2019-20_advance', 'val_acc': 0.6819999814033508}\n",
      "Best model {'learning_rate': 0.01, 'num_neurons': 30, 'acti_fun': 'relu', 'batch_size': 150, 'epochs': 500, 'drop_rate': 0.6, 'architecture': 'OneHiddenLayerDropout', 'dataset': '2019-20_advance', 'val_acc': 0.6859999895095825}\n",
      "Best model {'learning_rate': 0.01, 'num_neurons': 50, 'acti_fun': 'relu', 'batch_size': 150, 'epochs': 500, 'drop_rate': 0.5, 'architecture': 'OneHiddenLayerDropout', 'dataset': '2019-20_advance', 'val_acc': 0.6800000071525574}\n",
      "Best model {'learning_rate': 0.01, 'num_neurons': 100, 'acti_fun': 'relu', 'batch_size': 150, 'epochs': 500, 'drop_rate': 0.6, 'architecture': 'OneHiddenLayerDropout', 'dataset': '2019-20_advance', 'val_acc': 0.6859999895095825}\n",
      "Best model {'learning_rate': 0.01, 'num_neurons': 150, 'acti_fun': 'relu', 'batch_size': 150, 'epochs': 500, 'drop_rate': 0.6, 'architecture': 'OneHiddenLayerDropout', 'dataset': '2019-20_advance', 'val_acc': 0.6980000138282776}\n",
      "Best model {'learning_rate': 0.01, 'num_neurons': 200, 'acti_fun': 'relu', 'batch_size': 150, 'epochs': 500, 'drop_rate': 0.5, 'architecture': 'OneHiddenLayerDropout', 'dataset': '2019-20_advance', 'val_acc': 0.6859999895095825}\n"
     ]
    }
   ],
   "source": [
    "best_config_array=[]\n",
    "best_history_array=[]\n",
    "possible_p=[0.5,0.6,0.65]\n",
    "for num in number_neurons:\n",
    "    best_config_tmp={'val_acc':0}\n",
    "    best_history_tmp=[]\n",
    "    for el in possible_learning_rate:\n",
    "        for act in activation:\n",
    "            for p in possible_p:\n",
    "            # Initialize model\n",
    "                model = NN(input_size=input_size,size_hidden_level=num,act=act,learning_rate=el,dropout=p).to(device)\n",
    "\n",
    "                \n",
    "                \n",
    "                config={\n",
    "                    \"learning_rate\":el,\n",
    "                    'num_neurons':num,\n",
    "                    'acti_fun':act,\n",
    "                    \"batch_size\": batch_size,\n",
    "                    \"epochs\": num_epochs,\n",
    "                    \"drop_rate\":p,\n",
    "                    \"architecture\": \"OneHiddenLayerDropout\",\n",
    "                    \"dataset\":years+\"_\"+stats\n",
    "                }\n",
    "                \n",
    "                best_config_tmp,best_history_tmp=model.MyTrain(kf=kf,config=config,best_config_tmp=best_config_tmp,\n",
    "                best_history_tmp=best_history_tmp,train_LL=train_LL,test_LL=test_LL,device=device)\n",
    "            \n",
    "                \n",
    "                    \n",
    "    print(\"Best model\",best_config_tmp)\n",
    "    best_config_array.append(best_config_tmp)\n",
    "    best_history_array.append(best_history_tmp)\n",
    "    \n",
    "# Doing the mean between the 10 fold\n",
    "for num,array in  enumerate(best_history_array):\n",
    "    tmp=[ torch.mean(array[0],axis=0),torch.mean(array[1],axis=0),torch.mean(array[2],axis=0),torch.mean(array[3],axis=0)]\n",
    "  \n",
    "    best_history_array[num]=tmp\n",
    "\n"
   ]
  },
  {
   "cell_type": "code",
   "execution_count": 18,
   "metadata": {},
   "outputs": [],
   "source": [
    "winsound.Beep(440,2500)"
   ]
  },
  {
   "cell_type": "code",
   "execution_count": 19,
   "metadata": {},
   "outputs": [
    {
     "data": {
      "text/html": [
       "wandb version 0.13.6 is available!  To upgrade, please run:\n",
       " $ pip install wandb --upgrade"
      ],
      "text/plain": [
       "<IPython.core.display.HTML object>"
      ]
     },
     "metadata": {},
     "output_type": "display_data"
    },
    {
     "data": {
      "text/html": [
       "Tracking run with wandb version 0.13.5"
      ],
      "text/plain": [
       "<IPython.core.display.HTML object>"
      ]
     },
     "metadata": {},
     "output_type": "display_data"
    },
    {
     "data": {
      "text/html": [
       "Run data is saved locally in <code>d:\\UniSergio\\BasketScripts\\WaB\\wandb\\run-20221214_155700-1uq4e6d4</code>"
      ],
      "text/plain": [
       "<IPython.core.display.HTML object>"
      ]
     },
     "metadata": {},
     "output_type": "display_data"
    },
    {
     "data": {
      "text/html": [
       "Syncing run <strong><a href=\"https://wandb.ai/progettobasket/TAdv1920runs/runs/1uq4e6d4\" target=\"_blank\">breezy-sea-13</a></strong> to <a href=\"https://wandb.ai/progettobasket/TAdv1920runs\" target=\"_blank\">Weights & Biases</a> (<a href=\"https://wandb.me/run\" target=\"_blank\">docs</a>)<br/>"
      ],
      "text/plain": [
       "<IPython.core.display.HTML object>"
      ]
     },
     "metadata": {},
     "output_type": "display_data"
    },
    {
     "data": {
      "text/html": [
       "Waiting for W&B process to finish... <strong style=\"color:green\">(success).</strong>"
      ],
      "text/plain": [
       "<IPython.core.display.HTML object>"
      ]
     },
     "metadata": {},
     "output_type": "display_data"
    },
    {
     "data": {
      "text/html": [
       "<style>\n",
       "    table.wandb td:nth-child(1) { padding: 0 10px; text-align: left ; width: auto;} td:nth-child(2) {text-align: left ; width: 100%}\n",
       "    .wandb-row { display: flex; flex-direction: row; flex-wrap: wrap; justify-content: flex-start; width: 100% }\n",
       "    .wandb-col { display: flex; flex-direction: column; flex-basis: 100%; flex: 1; padding: 10px; }\n",
       "    </style>\n",
       "<div class=\"wandb-row\"><div class=\"wandb-col\"><h3>Run history:</h3><br/><table class=\"wandb\"><tr><td>acc</td><td>▃▁▂▂▂▃▃▃▃▃▅▅▄▅▅▅▅▅▄▆▆▅▄▅▅▆▆▆▅▇▆▆▇▇▆▆█▆▇▇</td></tr><tr><td>epochs</td><td>▁▁▁▂▂▂▂▂▂▃▃▃▃▃▄▄▄▄▄▄▅▅▅▅▅▅▆▆▆▆▆▇▇▇▇▇▇███</td></tr><tr><td>loss</td><td>▇███▇▇▇▇▇▆▅▆▆▅▆▅▅▅▅▅▄▅▄▅▃▃▃▄▄▂▃▄▃▂▃▃▁▃▁▂</td></tr><tr><td>val_acc</td><td>▃▁▃▂▃▂▁▂▂▄▃▄▃▂▅▅▅▇█▇██▇▇▇▇▆▅▆▇▇▇▆▇▆▅▆▆▇▆</td></tr><tr><td>val_loss</td><td>▁▁▂▃▃▃▃▂▃▃▂▅▃▂▃▃▄▅▄▆▃▅▅▃▅▅▄▅▅▅▅▅▆▆▅▆▅▆▆█</td></tr></table><br/></div><div class=\"wandb-col\"><h3>Run summary:</h3><br/><table class=\"wandb\"><tr><td>acc</td><td>0.766</td></tr><tr><td>epochs</td><td>499</td></tr><tr><td>loss</td><td>0.335</td></tr><tr><td>val_acc</td><td>0.682</td></tr><tr><td>val_loss</td><td>0.808</td></tr></table><br/></div></div>"
      ],
      "text/plain": [
       "<IPython.core.display.HTML object>"
      ]
     },
     "metadata": {},
     "output_type": "display_data"
    },
    {
     "data": {
      "text/html": [
       "Synced <strong style=\"color:#cdcd00\">breezy-sea-13</strong>: <a href=\"https://wandb.ai/progettobasket/TAdv1920runs/runs/1uq4e6d4\" target=\"_blank\">https://wandb.ai/progettobasket/TAdv1920runs/runs/1uq4e6d4</a><br/>Synced 5 W&B file(s), 0 media file(s), 0 artifact file(s) and 0 other file(s)"
      ],
      "text/plain": [
       "<IPython.core.display.HTML object>"
      ]
     },
     "metadata": {},
     "output_type": "display_data"
    },
    {
     "data": {
      "text/html": [
       "Find logs at: <code>.\\wandb\\run-20221214_155700-1uq4e6d4\\logs</code>"
      ],
      "text/plain": [
       "<IPython.core.display.HTML object>"
      ]
     },
     "metadata": {},
     "output_type": "display_data"
    },
    {
     "data": {
      "text/html": [
       "wandb version 0.13.6 is available!  To upgrade, please run:\n",
       " $ pip install wandb --upgrade"
      ],
      "text/plain": [
       "<IPython.core.display.HTML object>"
      ]
     },
     "metadata": {},
     "output_type": "display_data"
    },
    {
     "data": {
      "text/html": [
       "Tracking run with wandb version 0.13.5"
      ],
      "text/plain": [
       "<IPython.core.display.HTML object>"
      ]
     },
     "metadata": {},
     "output_type": "display_data"
    },
    {
     "data": {
      "text/html": [
       "Run data is saved locally in <code>d:\\UniSergio\\BasketScripts\\WaB\\wandb\\run-20221214_155715-2q8y8he1</code>"
      ],
      "text/plain": [
       "<IPython.core.display.HTML object>"
      ]
     },
     "metadata": {},
     "output_type": "display_data"
    },
    {
     "data": {
      "text/html": [
       "Syncing run <strong><a href=\"https://wandb.ai/progettobasket/TAdv1920runs/runs/2q8y8he1\" target=\"_blank\">exalted-sun-14</a></strong> to <a href=\"https://wandb.ai/progettobasket/TAdv1920runs\" target=\"_blank\">Weights & Biases</a> (<a href=\"https://wandb.me/run\" target=\"_blank\">docs</a>)<br/>"
      ],
      "text/plain": [
       "<IPython.core.display.HTML object>"
      ]
     },
     "metadata": {},
     "output_type": "display_data"
    },
    {
     "data": {
      "text/html": [
       "Waiting for W&B process to finish... <strong style=\"color:green\">(success).</strong>"
      ],
      "text/plain": [
       "<IPython.core.display.HTML object>"
      ]
     },
     "metadata": {},
     "output_type": "display_data"
    },
    {
     "data": {
      "text/html": [
       "<style>\n",
       "    table.wandb td:nth-child(1) { padding: 0 10px; text-align: left ; width: auto;} td:nth-child(2) {text-align: left ; width: 100%}\n",
       "    .wandb-row { display: flex; flex-direction: row; flex-wrap: wrap; justify-content: flex-start; width: 100% }\n",
       "    .wandb-col { display: flex; flex-direction: column; flex-basis: 100%; flex: 1; padding: 10px; }\n",
       "    </style>\n",
       "<div class=\"wandb-row\"><div class=\"wandb-col\"><h3>Run history:</h3><br/><table class=\"wandb\"><tr><td>acc</td><td>▁▁▂▁▁▂▂▃▃▂▃▃▄▄▃▃▄▅▄▅▅▆▅▆▅▅▆▆▆▆▆▆▇▇▇▇▇▇▇█</td></tr><tr><td>epochs</td><td>▁▁▁▂▂▂▂▂▂▃▃▃▃▃▄▄▄▄▄▄▅▅▅▅▅▅▆▆▆▆▆▇▇▇▇▇▇███</td></tr><tr><td>loss</td><td>█▇███▇▇▆▆▆▇▆▆▆▆▆▅▅▅▄▅▄▄▄▄▄▃▄▃▃▂▃▂▂▂▁▂▂▂▁</td></tr><tr><td>val_acc</td><td>▃▂▄▅▅▁▂▅▆▄▆▃▃▄▄▆▄▆▅▆▅▆▃▆▆▆▃▄▆▇▄▅▆▆█▆▄▇▇▆</td></tr><tr><td>val_loss</td><td>▁▃▂▂▁▂▄▃▂▁▂▄▃▄▃▂▄▃▄▄▄▃▇▄▅▆▆▆▆▄▆▅▇▆▆▆█▇▇█</td></tr></table><br/></div><div class=\"wandb-col\"><h3>Run summary:</h3><br/><table class=\"wandb\"><tr><td>acc</td><td>0.828</td></tr><tr><td>epochs</td><td>499</td></tr><tr><td>loss</td><td>0.217</td></tr><tr><td>val_acc</td><td>0.686</td></tr><tr><td>val_loss</td><td>0.825</td></tr></table><br/></div></div>"
      ],
      "text/plain": [
       "<IPython.core.display.HTML object>"
      ]
     },
     "metadata": {},
     "output_type": "display_data"
    },
    {
     "data": {
      "text/html": [
       "Synced <strong style=\"color:#cdcd00\">exalted-sun-14</strong>: <a href=\"https://wandb.ai/progettobasket/TAdv1920runs/runs/2q8y8he1\" target=\"_blank\">https://wandb.ai/progettobasket/TAdv1920runs/runs/2q8y8he1</a><br/>Synced 5 W&B file(s), 0 media file(s), 0 artifact file(s) and 0 other file(s)"
      ],
      "text/plain": [
       "<IPython.core.display.HTML object>"
      ]
     },
     "metadata": {},
     "output_type": "display_data"
    },
    {
     "data": {
      "text/html": [
       "Find logs at: <code>.\\wandb\\run-20221214_155715-2q8y8he1\\logs</code>"
      ],
      "text/plain": [
       "<IPython.core.display.HTML object>"
      ]
     },
     "metadata": {},
     "output_type": "display_data"
    },
    {
     "data": {
      "text/html": [
       "wandb version 0.13.6 is available!  To upgrade, please run:\n",
       " $ pip install wandb --upgrade"
      ],
      "text/plain": [
       "<IPython.core.display.HTML object>"
      ]
     },
     "metadata": {},
     "output_type": "display_data"
    },
    {
     "data": {
      "text/html": [
       "Tracking run with wandb version 0.13.5"
      ],
      "text/plain": [
       "<IPython.core.display.HTML object>"
      ]
     },
     "metadata": {},
     "output_type": "display_data"
    },
    {
     "data": {
      "text/html": [
       "Run data is saved locally in <code>d:\\UniSergio\\BasketScripts\\WaB\\wandb\\run-20221214_155728-2k4zp001</code>"
      ],
      "text/plain": [
       "<IPython.core.display.HTML object>"
      ]
     },
     "metadata": {},
     "output_type": "display_data"
    },
    {
     "data": {
      "text/html": [
       "Syncing run <strong><a href=\"https://wandb.ai/progettobasket/TAdv1920runs/runs/2k4zp001\" target=\"_blank\">effortless-sun-15</a></strong> to <a href=\"https://wandb.ai/progettobasket/TAdv1920runs\" target=\"_blank\">Weights & Biases</a> (<a href=\"https://wandb.me/run\" target=\"_blank\">docs</a>)<br/>"
      ],
      "text/plain": [
       "<IPython.core.display.HTML object>"
      ]
     },
     "metadata": {},
     "output_type": "display_data"
    },
    {
     "data": {
      "text/html": [
       "Waiting for W&B process to finish... <strong style=\"color:green\">(success).</strong>"
      ],
      "text/plain": [
       "<IPython.core.display.HTML object>"
      ]
     },
     "metadata": {},
     "output_type": "display_data"
    },
    {
     "data": {
      "text/html": [
       "<style>\n",
       "    table.wandb td:nth-child(1) { padding: 0 10px; text-align: left ; width: auto;} td:nth-child(2) {text-align: left ; width: 100%}\n",
       "    .wandb-row { display: flex; flex-direction: row; flex-wrap: wrap; justify-content: flex-start; width: 100% }\n",
       "    .wandb-col { display: flex; flex-direction: column; flex-basis: 100%; flex: 1; padding: 10px; }\n",
       "    </style>\n",
       "<div class=\"wandb-row\"><div class=\"wandb-col\"><h3>Run history:</h3><br/><table class=\"wandb\"><tr><td>acc</td><td>▁▂▁▂▃▃▄▄▄▃▄▄▅▅▅▅▅▅▆▅▅▆▆▇▇▆▇▇▇▆▇█▇▇█▇████</td></tr><tr><td>epochs</td><td>▁▁▁▂▂▂▂▂▂▃▃▃▃▃▄▄▄▄▄▄▅▅▅▅▅▅▆▆▆▆▆▇▇▇▇▇▇███</td></tr><tr><td>loss</td><td>█▇██▇▇▆▇▇▆▆▆▆▆▆▅▅▅▅▅▅▄▄▄▄▄▃▃▃▃▃▂▂▂▂▂▁▁▁▁</td></tr><tr><td>val_acc</td><td>▄▁▂▄▅▁▄▄▅▇▅▄▅▆▅▇▆▇▇▄▇▇▆▆▅▅█▆▇▇█▇▇▆▆▅▆▃█▆</td></tr><tr><td>val_loss</td><td>▁▂▃▁▁▃▁▂▂▃▂▃▃▄▃▃▃▄▄▅▄▅▆▅▆▆▆▇▆▆▅▅▆█▇▆▇█▇█</td></tr></table><br/></div><div class=\"wandb-col\"><h3>Run summary:</h3><br/><table class=\"wandb\"><tr><td>acc</td><td>0.849</td></tr><tr><td>epochs</td><td>499</td></tr><tr><td>loss</td><td>0.168</td></tr><tr><td>val_acc</td><td>0.68</td></tr><tr><td>val_loss</td><td>0.946</td></tr></table><br/></div></div>"
      ],
      "text/plain": [
       "<IPython.core.display.HTML object>"
      ]
     },
     "metadata": {},
     "output_type": "display_data"
    },
    {
     "data": {
      "text/html": [
       "Synced <strong style=\"color:#cdcd00\">effortless-sun-15</strong>: <a href=\"https://wandb.ai/progettobasket/TAdv1920runs/runs/2k4zp001\" target=\"_blank\">https://wandb.ai/progettobasket/TAdv1920runs/runs/2k4zp001</a><br/>Synced 5 W&B file(s), 0 media file(s), 0 artifact file(s) and 0 other file(s)"
      ],
      "text/plain": [
       "<IPython.core.display.HTML object>"
      ]
     },
     "metadata": {},
     "output_type": "display_data"
    },
    {
     "data": {
      "text/html": [
       "Find logs at: <code>.\\wandb\\run-20221214_155728-2k4zp001\\logs</code>"
      ],
      "text/plain": [
       "<IPython.core.display.HTML object>"
      ]
     },
     "metadata": {},
     "output_type": "display_data"
    },
    {
     "data": {
      "text/html": [
       "wandb version 0.13.6 is available!  To upgrade, please run:\n",
       " $ pip install wandb --upgrade"
      ],
      "text/plain": [
       "<IPython.core.display.HTML object>"
      ]
     },
     "metadata": {},
     "output_type": "display_data"
    },
    {
     "data": {
      "text/html": [
       "Tracking run with wandb version 0.13.5"
      ],
      "text/plain": [
       "<IPython.core.display.HTML object>"
      ]
     },
     "metadata": {},
     "output_type": "display_data"
    },
    {
     "data": {
      "text/html": [
       "Run data is saved locally in <code>d:\\UniSergio\\BasketScripts\\WaB\\wandb\\run-20221214_155740-179l69zv</code>"
      ],
      "text/plain": [
       "<IPython.core.display.HTML object>"
      ]
     },
     "metadata": {},
     "output_type": "display_data"
    },
    {
     "data": {
      "text/html": [
       "Syncing run <strong><a href=\"https://wandb.ai/progettobasket/TAdv1920runs/runs/179l69zv\" target=\"_blank\">frosty-deluge-16</a></strong> to <a href=\"https://wandb.ai/progettobasket/TAdv1920runs\" target=\"_blank\">Weights & Biases</a> (<a href=\"https://wandb.me/run\" target=\"_blank\">docs</a>)<br/>"
      ],
      "text/plain": [
       "<IPython.core.display.HTML object>"
      ]
     },
     "metadata": {},
     "output_type": "display_data"
    },
    {
     "data": {
      "text/html": [
       "Waiting for W&B process to finish... <strong style=\"color:green\">(success).</strong>"
      ],
      "text/plain": [
       "<IPython.core.display.HTML object>"
      ]
     },
     "metadata": {},
     "output_type": "display_data"
    },
    {
     "data": {
      "text/html": [
       "<style>\n",
       "    table.wandb td:nth-child(1) { padding: 0 10px; text-align: left ; width: auto;} td:nth-child(2) {text-align: left ; width: 100%}\n",
       "    .wandb-row { display: flex; flex-direction: row; flex-wrap: wrap; justify-content: flex-start; width: 100% }\n",
       "    .wandb-col { display: flex; flex-direction: column; flex-basis: 100%; flex: 1; padding: 10px; }\n",
       "    </style>\n",
       "<div class=\"wandb-row\"><div class=\"wandb-col\"><h3>Run history:</h3><br/><table class=\"wandb\"><tr><td>acc</td><td>▁▁▁▂▄▂▄▃▅▄▄▅▅▅▆▆▆▅▆▅▆▆▆▆▇▇▆▇▇▇▇▇▇▇█▇████</td></tr><tr><td>epochs</td><td>▁▁▁▂▂▂▂▂▂▃▃▃▃▃▄▄▄▄▄▄▅▅▅▅▅▅▆▆▆▆▆▇▇▇▇▇▇███</td></tr><tr><td>loss</td><td>█▇▇▇▆▇▆▇▆▆▆▆▅▆▅▅▅▅▅▅▄▄▄▃▃▃▄▃▃▃▂▂▃▂▂▂▂▁▁▂</td></tr><tr><td>val_acc</td><td>▂▁▂▃▁▃▃▄▄▂▄▃▄▁▅▄▄▄▅▅▆▆▆█▆▇▇▇█▆█▇▆▇█▆▅█▅▅</td></tr><tr><td>val_loss</td><td>▁▂▁▂▁▁▂▁▃▂▃▂▃▂▃▄▃▄▃▃▃▄▃▅▄▄▅▄▅▆▆▅▅▄▆▅▇▇▇█</td></tr></table><br/></div><div class=\"wandb-col\"><h3>Run summary:</h3><br/><table class=\"wandb\"><tr><td>acc</td><td>0.848</td></tr><tr><td>epochs</td><td>499</td></tr><tr><td>loss</td><td>0.169</td></tr><tr><td>val_acc</td><td>0.686</td></tr><tr><td>val_loss</td><td>0.845</td></tr></table><br/></div></div>"
      ],
      "text/plain": [
       "<IPython.core.display.HTML object>"
      ]
     },
     "metadata": {},
     "output_type": "display_data"
    },
    {
     "data": {
      "text/html": [
       "Synced <strong style=\"color:#cdcd00\">frosty-deluge-16</strong>: <a href=\"https://wandb.ai/progettobasket/TAdv1920runs/runs/179l69zv\" target=\"_blank\">https://wandb.ai/progettobasket/TAdv1920runs/runs/179l69zv</a><br/>Synced 5 W&B file(s), 0 media file(s), 0 artifact file(s) and 0 other file(s)"
      ],
      "text/plain": [
       "<IPython.core.display.HTML object>"
      ]
     },
     "metadata": {},
     "output_type": "display_data"
    },
    {
     "data": {
      "text/html": [
       "Find logs at: <code>.\\wandb\\run-20221214_155740-179l69zv\\logs</code>"
      ],
      "text/plain": [
       "<IPython.core.display.HTML object>"
      ]
     },
     "metadata": {},
     "output_type": "display_data"
    },
    {
     "data": {
      "text/html": [
       "wandb version 0.13.6 is available!  To upgrade, please run:\n",
       " $ pip install wandb --upgrade"
      ],
      "text/plain": [
       "<IPython.core.display.HTML object>"
      ]
     },
     "metadata": {},
     "output_type": "display_data"
    },
    {
     "data": {
      "text/html": [
       "Tracking run with wandb version 0.13.5"
      ],
      "text/plain": [
       "<IPython.core.display.HTML object>"
      ]
     },
     "metadata": {},
     "output_type": "display_data"
    },
    {
     "data": {
      "text/html": [
       "Run data is saved locally in <code>d:\\UniSergio\\BasketScripts\\WaB\\wandb\\run-20221214_155753-1az35v43</code>"
      ],
      "text/plain": [
       "<IPython.core.display.HTML object>"
      ]
     },
     "metadata": {},
     "output_type": "display_data"
    },
    {
     "data": {
      "text/html": [
       "Syncing run <strong><a href=\"https://wandb.ai/progettobasket/TAdv1920runs/runs/1az35v43\" target=\"_blank\">solar-moon-17</a></strong> to <a href=\"https://wandb.ai/progettobasket/TAdv1920runs\" target=\"_blank\">Weights & Biases</a> (<a href=\"https://wandb.me/run\" target=\"_blank\">docs</a>)<br/>"
      ],
      "text/plain": [
       "<IPython.core.display.HTML object>"
      ]
     },
     "metadata": {},
     "output_type": "display_data"
    },
    {
     "data": {
      "text/html": [
       "Waiting for W&B process to finish... <strong style=\"color:green\">(success).</strong>"
      ],
      "text/plain": [
       "<IPython.core.display.HTML object>"
      ]
     },
     "metadata": {},
     "output_type": "display_data"
    },
    {
     "data": {
      "text/html": [
       "<style>\n",
       "    table.wandb td:nth-child(1) { padding: 0 10px; text-align: left ; width: auto;} td:nth-child(2) {text-align: left ; width: 100%}\n",
       "    .wandb-row { display: flex; flex-direction: row; flex-wrap: wrap; justify-content: flex-start; width: 100% }\n",
       "    .wandb-col { display: flex; flex-direction: column; flex-basis: 100%; flex: 1; padding: 10px; }\n",
       "    </style>\n",
       "<div class=\"wandb-row\"><div class=\"wandb-col\"><h3>Run history:</h3><br/><table class=\"wandb\"><tr><td>acc</td><td>▁▁▂▃▂▃▃▄▄▅▄▅▅▆▅▆▆▆▆▆▆▇▇▇▇▇█▇█▇██▇█▇███▇█</td></tr><tr><td>epochs</td><td>▁▁▁▂▂▂▂▂▂▃▃▃▃▃▄▄▄▄▄▄▅▅▅▅▅▅▆▆▆▆▆▇▇▇▇▇▇███</td></tr><tr><td>loss</td><td>██▇█▇▇▇▇▆▆▆▆▅▅▅▅▅▄▄▄▄▄▄▃▃▃▃▃▂▃▃▂▂▂▂▂▁▁▁▁</td></tr><tr><td>val_acc</td><td>▁▂▄▅▃▅▄▃▃▄▄▃▆▆▆▆▆▅▄▅▅▅▆█▇▆█▇▅▇▆█▅▆▇▇▆▅▇▇</td></tr><tr><td>val_loss</td><td>▂▁▂▁▁▃▂▂▂▄▃▄▄▃▄▃▄▃▅▆▆▅▄▃▅▆▆▆█▆▇▆▇▇▇▆▇██▇</td></tr></table><br/></div><div class=\"wandb-col\"><h3>Run summary:</h3><br/><table class=\"wandb\"><tr><td>acc</td><td>0.849</td></tr><tr><td>epochs</td><td>499</td></tr><tr><td>loss</td><td>0.16</td></tr><tr><td>val_acc</td><td>0.698</td></tr><tr><td>val_loss</td><td>0.849</td></tr></table><br/></div></div>"
      ],
      "text/plain": [
       "<IPython.core.display.HTML object>"
      ]
     },
     "metadata": {},
     "output_type": "display_data"
    },
    {
     "data": {
      "text/html": [
       "Synced <strong style=\"color:#cdcd00\">solar-moon-17</strong>: <a href=\"https://wandb.ai/progettobasket/TAdv1920runs/runs/1az35v43\" target=\"_blank\">https://wandb.ai/progettobasket/TAdv1920runs/runs/1az35v43</a><br/>Synced 5 W&B file(s), 0 media file(s), 0 artifact file(s) and 0 other file(s)"
      ],
      "text/plain": [
       "<IPython.core.display.HTML object>"
      ]
     },
     "metadata": {},
     "output_type": "display_data"
    },
    {
     "data": {
      "text/html": [
       "Find logs at: <code>.\\wandb\\run-20221214_155753-1az35v43\\logs</code>"
      ],
      "text/plain": [
       "<IPython.core.display.HTML object>"
      ]
     },
     "metadata": {},
     "output_type": "display_data"
    },
    {
     "data": {
      "text/html": [
       "wandb version 0.13.6 is available!  To upgrade, please run:\n",
       " $ pip install wandb --upgrade"
      ],
      "text/plain": [
       "<IPython.core.display.HTML object>"
      ]
     },
     "metadata": {},
     "output_type": "display_data"
    },
    {
     "data": {
      "text/html": [
       "Tracking run with wandb version 0.13.5"
      ],
      "text/plain": [
       "<IPython.core.display.HTML object>"
      ]
     },
     "metadata": {},
     "output_type": "display_data"
    },
    {
     "data": {
      "text/html": [
       "Run data is saved locally in <code>d:\\UniSergio\\BasketScripts\\WaB\\wandb\\run-20221214_155806-ssxxdzo0</code>"
      ],
      "text/plain": [
       "<IPython.core.display.HTML object>"
      ]
     },
     "metadata": {},
     "output_type": "display_data"
    },
    {
     "data": {
      "text/html": [
       "Syncing run <strong><a href=\"https://wandb.ai/progettobasket/TAdv1920runs/runs/ssxxdzo0\" target=\"_blank\">blooming-pine-18</a></strong> to <a href=\"https://wandb.ai/progettobasket/TAdv1920runs\" target=\"_blank\">Weights & Biases</a> (<a href=\"https://wandb.me/run\" target=\"_blank\">docs</a>)<br/>"
      ],
      "text/plain": [
       "<IPython.core.display.HTML object>"
      ]
     },
     "metadata": {},
     "output_type": "display_data"
    },
    {
     "data": {
      "text/html": [
       "Waiting for W&B process to finish... <strong style=\"color:green\">(success).</strong>"
      ],
      "text/plain": [
       "<IPython.core.display.HTML object>"
      ]
     },
     "metadata": {},
     "output_type": "display_data"
    },
    {
     "data": {
      "text/html": [
       "<style>\n",
       "    table.wandb td:nth-child(1) { padding: 0 10px; text-align: left ; width: auto;} td:nth-child(2) {text-align: left ; width: 100%}\n",
       "    .wandb-row { display: flex; flex-direction: row; flex-wrap: wrap; justify-content: flex-start; width: 100% }\n",
       "    .wandb-col { display: flex; flex-direction: column; flex-basis: 100%; flex: 1; padding: 10px; }\n",
       "    </style>\n",
       "<div class=\"wandb-row\"><div class=\"wandb-col\"><h3>Run history:</h3><br/><table class=\"wandb\"><tr><td>acc</td><td>▁▂▂▃▃▅▅▅▅▅▆▆▅▆▆▆▆▇▆▇▇▇▇▇▇▇▇▇▇███▇▇▇█████</td></tr><tr><td>epochs</td><td>▁▁▁▂▂▂▂▂▂▃▃▃▃▃▄▄▄▄▄▄▅▅▅▅▅▅▆▆▆▆▆▇▇▇▇▇▇███</td></tr><tr><td>loss</td><td>███▇▇▇▇▆▆▆▆▆▅▅▅▅▅▄▄▄▄▄▃▄▃▃▃▃▃▃▃▂▂▂▂▂▂▁▁▁</td></tr><tr><td>val_acc</td><td>▁▃▃▆▅▅▄▆▆▆▆▆▆▆▆▆▇▅▇█▆▇██▆▇▆▇▇▇▆▇▅▆█▇▇▆▆█</td></tr><tr><td>val_loss</td><td>▂▁▂▁▂▂▁▃▃▂▃▄▃▃▄▂▄▃▄▄▄▅▅▄▇▄▅▆▅▅▇▇▅▅▅▇▇█▆▇</td></tr></table><br/></div><div class=\"wandb-col\"><h3>Run summary:</h3><br/><table class=\"wandb\"><tr><td>acc</td><td>0.856</td></tr><tr><td>epochs</td><td>499</td></tr><tr><td>loss</td><td>0.146</td></tr><tr><td>val_acc</td><td>0.686</td></tr><tr><td>val_loss</td><td>0.862</td></tr></table><br/></div></div>"
      ],
      "text/plain": [
       "<IPython.core.display.HTML object>"
      ]
     },
     "metadata": {},
     "output_type": "display_data"
    },
    {
     "data": {
      "text/html": [
       "Synced <strong style=\"color:#cdcd00\">blooming-pine-18</strong>: <a href=\"https://wandb.ai/progettobasket/TAdv1920runs/runs/ssxxdzo0\" target=\"_blank\">https://wandb.ai/progettobasket/TAdv1920runs/runs/ssxxdzo0</a><br/>Synced 5 W&B file(s), 0 media file(s), 0 artifact file(s) and 0 other file(s)"
      ],
      "text/plain": [
       "<IPython.core.display.HTML object>"
      ]
     },
     "metadata": {},
     "output_type": "display_data"
    },
    {
     "data": {
      "text/html": [
       "Find logs at: <code>.\\wandb\\run-20221214_155806-ssxxdzo0\\logs</code>"
      ],
      "text/plain": [
       "<IPython.core.display.HTML object>"
      ]
     },
     "metadata": {},
     "output_type": "display_data"
    }
   ],
   "source": [
    "wandb.login()\n",
    "\n",
    "project_name=\"T\"+stats[0:3].capitalize()+years[2:].replace(\"-\",\"\")+\"runs\"\n",
    "\n",
    "wandbWrite(project_name,best_config_array,best_history_array,\"onehiddenDrop_\")"
   ]
  }
 ],
 "metadata": {
  "kernelspec": {
   "display_name": "Python 3.8.15 ('pytuurc')",
   "language": "python",
   "name": "python3"
  },
  "language_info": {
   "codemirror_mode": {
    "name": "ipython",
    "version": 3
   },
   "file_extension": ".py",
   "mimetype": "text/x-python",
   "name": "python",
   "nbconvert_exporter": "python",
   "pygments_lexer": "ipython3",
   "version": "3.8.15 (default, Nov 24 2022, 14:38:14) [MSC v.1916 64 bit (AMD64)]"
  },
  "orig_nbformat": 4,
  "vscode": {
   "interpreter": {
    "hash": "dd9d223d7b292a42db683c98874d74c150e8963ab9dd36c634c4894e65f31ff8"
   }
  }
 },
 "nbformat": 4,
 "nbformat_minor": 2
}
