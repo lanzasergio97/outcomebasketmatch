{
 "cells": [
  {
   "cell_type": "code",
   "execution_count": 1,
   "metadata": {},
   "outputs": [
    {
     "name": "stderr",
     "output_type": "stream",
     "text": [
      "2022-10-05 13:40:36.690069: W tensorflow/stream_executor/platform/default/dso_loader.cc:64] Could not load dynamic library 'libcudart.so.11.0'; dlerror: libcudart.so.11.0: cannot open shared object file: No such file or directory\n",
      "2022-10-05 13:40:36.690088: I tensorflow/stream_executor/cuda/cudart_stub.cc:29] Ignore above cudart dlerror if you do not have a GPU set up on your machine.\n"
     ]
    }
   ],
   "source": [
    "import tensorflow as tf\n",
    "from tensorflow import keras\n",
    "\n",
    "import externalTensor as exT\n",
    "import numpy as np\n",
    "from sklearn.model_selection import KFold\n",
    "from boxScore import boxScore\n",
    "import lime\n",
    "from lime import lime_tabular\n",
    "import pandas as pd"
   ]
  },
  {
   "cell_type": "markdown",
   "metadata": {},
   "source": [
    "# Preparation of Data"
   ]
  },
  {
   "cell_type": "code",
   "execution_count": 2,
   "metadata": {},
   "outputs": [],
   "source": [
    "years=\"2021-22\"\n",
    "# stats=\"traditional\"\n",
    "stats='advance'\n",
    "box_score=boxScore(years,stats)\n",
    "\n",
    "x_train, x_test, y_train, y_test=box_score.separation()\n",
    "y_train=np.array(y_train)\n"
   ]
  },
  {
   "cell_type": "markdown",
   "metadata": {},
   "source": [
    "#  Load Model"
   ]
  },
  {
   "cell_type": "code",
   "execution_count": null,
   "metadata": {},
   "outputs": [],
   "source": [
    "# bestModelArray[2].save(\"saved_model_\"+stats+\"/\"+\"bestModel\")\n",
    "model = tf.keras.models.load_model('saved_model_'+stats+'/bestModel') \n",
    "\n"
   ]
  },
  {
   "cell_type": "markdown",
   "metadata": {},
   "source": [
    "# Control matchid"
   ]
  },
  {
   "cell_type": "code",
   "execution_count": 7,
   "metadata": {},
   "outputs": [],
   "source": [
    "\n",
    "\n",
    "MatchId=[]\n",
    "nameFile=\"/MatchId\"+years+\".txt\"\n",
    "\n",
    "with open(r\"/home/sergio/UniSergio/BasketScript/WaB/outcomebasketmatch/BoxScoresFile\"+nameFile,'r') as f:\n",
    "        fr=f.readlines()  \n",
    "        for line in fr:\n",
    "            line=line.replace('\\n', '')\n",
    "           \n",
    "            # We take the first 650 match \n",
    "            if(int(line[-3:]) <=650 and int(line[-4])==0):\n",
    "                MatchId.append(line)\n",
    "\n",
    "\n",
    "\n"
   ]
  },
  {
   "cell_type": "code",
   "execution_count": 8,
   "metadata": {},
   "outputs": [
    {
     "name": "stdout",
     "output_type": "stream",
     "text": [
      "2/2 [==============================] - 0s 1ms/step - loss: 0.9518 - accuracy: 0.6000\n"
     ]
    },
    {
     "data": {
      "text/plain": [
       "20"
      ]
     },
     "execution_count": 8,
     "metadata": {},
     "output_type": "execute_result"
    }
   ],
   "source": [
    "model = tf.keras.models.load_model('saved_model_'+stats+'/bestModel') \n",
    "X=np.asarray(x_test)\n",
    "Y=np.asarray(y_test)\n",
    "model.evaluate(X,Y)\n",
    "pred=model.predict(X)\n",
    "\n",
    "indices = [i for i,v in enumerate(pred) if (np.rint(pred[i])!=y_test[i]).all()]\n",
    "subset_of_wrongly_predicted = [x_test.iloc[i].name for i in indices ]\n"
   ]
  },
  {
   "cell_type": "code",
   "execution_count": 11,
   "metadata": {},
   "outputs": [
    {
     "data": {
      "text/html": [
       "<div>\n",
       "<style scoped>\n",
       "    .dataframe tbody tr th:only-of-type {\n",
       "        vertical-align: middle;\n",
       "    }\n",
       "\n",
       "    .dataframe tbody tr th {\n",
       "        vertical-align: top;\n",
       "    }\n",
       "\n",
       "    .dataframe thead th {\n",
       "        text-align: right;\n",
       "    }\n",
       "</style>\n",
       "<table border=\"1\" class=\"dataframe\">\n",
       "  <thead>\n",
       "    <tr style=\"text-align: right;\">\n",
       "      <th></th>\n",
       "      <th>GAME_ID</th>\n",
       "      <th>TEAM_ID</th>\n",
       "      <th>TEAM_NAME</th>\n",
       "      <th>TEAM_ABBREVIATION</th>\n",
       "      <th>TEAM_CITY</th>\n",
       "      <th>MIN</th>\n",
       "      <th>FGM</th>\n",
       "      <th>FGA</th>\n",
       "      <th>FG_PCT</th>\n",
       "      <th>FG3M</th>\n",
       "      <th>...</th>\n",
       "      <th>OREB</th>\n",
       "      <th>DREB</th>\n",
       "      <th>REB</th>\n",
       "      <th>AST</th>\n",
       "      <th>STL</th>\n",
       "      <th>BLK</th>\n",
       "      <th>TO</th>\n",
       "      <th>PF</th>\n",
       "      <th>PTS</th>\n",
       "      <th>PLUS_MINUS</th>\n",
       "    </tr>\n",
       "  </thead>\n",
       "  <tbody>\n",
       "    <tr>\n",
       "      <th>0</th>\n",
       "      <td>0022100407</td>\n",
       "      <td>1610612745</td>\n",
       "      <td>Rockets</td>\n",
       "      <td>HOU</td>\n",
       "      <td>Houston</td>\n",
       "      <td>240:00</td>\n",
       "      <td>46</td>\n",
       "      <td>96</td>\n",
       "      <td>0.479</td>\n",
       "      <td>19</td>\n",
       "      <td>...</td>\n",
       "      <td>12</td>\n",
       "      <td>33</td>\n",
       "      <td>45</td>\n",
       "      <td>27</td>\n",
       "      <td>8</td>\n",
       "      <td>5</td>\n",
       "      <td>11</td>\n",
       "      <td>24</td>\n",
       "      <td>132</td>\n",
       "      <td>6.0</td>\n",
       "    </tr>\n",
       "    <tr>\n",
       "      <th>1</th>\n",
       "      <td>0022100407</td>\n",
       "      <td>1610612737</td>\n",
       "      <td>Hawks</td>\n",
       "      <td>ATL</td>\n",
       "      <td>Atlanta</td>\n",
       "      <td>240:00</td>\n",
       "      <td>42</td>\n",
       "      <td>85</td>\n",
       "      <td>0.494</td>\n",
       "      <td>15</td>\n",
       "      <td>...</td>\n",
       "      <td>8</td>\n",
       "      <td>32</td>\n",
       "      <td>40</td>\n",
       "      <td>20</td>\n",
       "      <td>9</td>\n",
       "      <td>6</td>\n",
       "      <td>12</td>\n",
       "      <td>26</td>\n",
       "      <td>126</td>\n",
       "      <td>-6.0</td>\n",
       "    </tr>\n",
       "  </tbody>\n",
       "</table>\n",
       "<p>2 rows × 25 columns</p>\n",
       "</div>"
      ],
      "text/plain": [
       "      GAME_ID     TEAM_ID TEAM_NAME TEAM_ABBREVIATION TEAM_CITY     MIN  FGM  \\\n",
       "0  0022100407  1610612745   Rockets               HOU   Houston  240:00   46   \n",
       "1  0022100407  1610612737     Hawks               ATL   Atlanta  240:00   42   \n",
       "\n",
       "   FGA  FG_PCT  FG3M  ...  OREB  DREB  REB  AST  STL  BLK  TO  PF  PTS  \\\n",
       "0   96   0.479    19  ...    12    33   45   27    8    5  11  24  132   \n",
       "1   85   0.494    15  ...     8    32   40   20    9    6  12  26  126   \n",
       "\n",
       "   PLUS_MINUS  \n",
       "0         6.0  \n",
       "1        -6.0  \n",
       "\n",
       "[2 rows x 25 columns]"
      ]
     },
     "execution_count": 11,
     "metadata": {},
     "output_type": "execute_result"
    }
   ],
   "source": [
    "from nba_api.stats.endpoints import boxscoretraditionalv2 \n",
    "x=MatchId[subset_of_wrongly_predicted[2]]\n",
    "df=boxscoretraditionalv2.BoxScoreTraditionalV2(game_id=x).get_data_frames()[1]\n",
    "df"
   ]
  },
  {
   "cell_type": "markdown",
   "metadata": {},
   "source": [
    "# LIME "
   ]
  },
  {
   "cell_type": "code",
   "execution_count": null,
   "metadata": {},
   "outputs": [],
   "source": [
    "\n",
    "\n",
    "from locale import atof\n",
    "\n",
    "model = tf.keras.models.load_model('saved_model_'+stats+'/bestModel') \n",
    "explainer = lime_tabular.LimeTabularExplainer(\n",
    "                        training_data=np.array(x_train),\n",
    "                        feature_names=x_train.columns,\n",
    "                        class_names=['win first team', 'win second team'],\n",
    "                        mode='classification'\n",
    "                    )\n",
    "answer=[]\n",
    "\n",
    "list_index=[0,1,2,6]\n",
    "# list_index=[6]\n",
    "big_one=[]\n",
    "for i in list_index:\n",
    "    r=np.asarray(x_test)\n",
    "    exp = explainer.explain_instance(\n",
    "                data_row=x_test.iloc[i], \n",
    "                predict_fn=model.predict\n",
    "            )\n",
    "    prediction=model.predict(r[i][None,...])\n",
    "    \n",
    "    boolean_vector=np.rint(prediction)==y_test[i]\n",
    "    value_boolean_dictionary=boolean_vector.all()\n",
    "\n",
    "\n",
    "\n",
    "    res=exp.as_list()\n",
    "    tmp=np.array(res)\n",
    "    value_predestination=tmp[:,1].astype(float)\n",
    "    total_sum_abs=np.sum( np.abs(value_predestination))\n",
    "    tec=(value_predestination)/total_sum_abs\n",
    "    \n",
    "    \n",
    "\n",
    "    string_predestination=tmp[:,0]\n",
    "    \n",
    "    answer=[ [x,z] for x,z in zip(string_predestination,tec)]\n",
    "    \n",
    "\n",
    "    dict=[]\n",
    "    for count,ele in enumerate(string_predestination[0:4]):\n",
    "        ecc=ele.split()\n",
    "        range_div=[]\n",
    "        for el in ecc:\n",
    "            if el[0].isalpha():\n",
    "                word=el\n",
    "            else:\n",
    "                if el!='<' and el!='<=' and el!='>=' and el!='>':\n",
    "                    range_div.append(atof(el))\n",
    "                else:\n",
    "                    operator=el\n",
    "        tmp=x_test.iloc[i][word]\n",
    "        \n",
    "        if(len(range_div)>1):\n",
    "\n",
    "            dict.append([(range_div[0],range_div[1]),tmp,word,tec[count],value_boolean_dictionary,i])\n",
    "        else:\n",
    "            dict.append([ (range_div[0],operator),tmp,word,tec[count],value_boolean_dictionary,i])\n",
    "\n",
    "    big_one.append(dict)\n"
   ]
  },
  {
   "cell_type": "code",
   "execution_count": null,
   "metadata": {},
   "outputs": [],
   "source": [
    "big_one=np.array(big_one)\n",
    "big_one=big_one.reshape(16,6)\n",
    "\n",
    "\n",
    "\n",
    "result=pd.DataFrame(big_one)\n",
    "result.columns=[\"Range\",\"Effective value\",\"Stats\", \"Percentage of decision\", \"Correct prediction\",\"id\"]\n",
    "result\n",
    "# result[result[\"Stats\"].str.contains(\"OFF_RATING\")]"
   ]
  },
  {
   "cell_type": "code",
   "execution_count": null,
   "metadata": {},
   "outputs": [],
   "source": [
    "conclusion=[]\n",
    "absvalue=[]\n",
    "counts={}\n",
    "oblio=0\n",
    "for list in answer:\n",
    "    for el in list[0:4]:\n",
    "        \n",
    "        stat=[word for word in el[0].split() if word[0].isalpha()] \n",
    "        conclusion.append([stat[0],abs(el[1])])\n",
    "        if stat[0]  not in counts: \n",
    "            counts[stat[0]]=abs(el[1])\n",
    "        else:\n",
    "            \n",
    "            counts[stat[0]]=counts.get(stat[0])+abs(el[1])\n",
    "\n",
    "    oblio=1\n",
    "\n",
    "\n",
    "sortdict = dict(sorted(counts.items(), key=lambda x:x[1],reverse=True))\n"
   ]
  },
  {
   "cell_type": "code",
   "execution_count": null,
   "metadata": {},
   "outputs": [],
   "source": [
    "# sortdict"
   ]
  }
 ],
 "metadata": {
  "kernelspec": {
   "display_name": "BasketScript",
   "language": "python",
   "name": "basketscript"
  },
  "language_info": {
   "codemirror_mode": {
    "name": "ipython",
    "version": 3
   },
   "file_extension": ".py",
   "mimetype": "text/x-python",
   "name": "python",
   "nbconvert_exporter": "python",
   "pygments_lexer": "ipython3",
   "version": "3.8.10"
  },
  "orig_nbformat": 4,
  "vscode": {
   "interpreter": {
    "hash": "f61b42334e39087fcf873d4b58ce314af401b80aed031fb5917bf158a5bb3c56"
   }
  }
 },
 "nbformat": 4,
 "nbformat_minor": 2
}
