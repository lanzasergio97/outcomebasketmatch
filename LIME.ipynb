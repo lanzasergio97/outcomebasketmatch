{
 "cells": [
  {
   "cell_type": "code",
   "execution_count": 1,
   "metadata": {},
   "outputs": [],
   "source": [
    "import tensorflow as tf\n",
    "from tensorflow import keras\n",
    "import externalTensor as exT\n",
    "import winsound\n",
    "import numpy as np\n",
    "from sklearn.model_selection import KFold\n",
    "from boxScore import boxScore\n",
    "from codetiming import Timer\n",
    "import lime\n",
    "from lime import lime_tabular"
   ]
  },
  {
   "cell_type": "markdown",
   "metadata": {},
   "source": [
    "# Preparation of Data"
   ]
  },
  {
   "cell_type": "code",
   "execution_count": 2,
   "metadata": {},
   "outputs": [],
   "source": [
    "years=\"2021-22\"\n",
    "# stats=\"traditional\"\n",
    "stats='advance'\n",
    "box_score=boxScore(years,stats)\n",
    "x_train, x_test, y_train, y_test=box_score.separation()\n",
    "\n"
   ]
  },
  {
   "cell_type": "markdown",
   "metadata": {},
   "source": [
    "# Possible Hyperparameters"
   ]
  },
  {
   "cell_type": "code",
   "execution_count": 3,
   "metadata": {},
   "outputs": [],
   "source": [
    "\n",
    "activation=['relu','sigmoid']\n",
    "# activation=['relu']\n",
    "number_neurons=[10,30,50,100,150,200]\n",
    "# number_neurons=[10]\n",
    "possible_learning_rate=[0.0001,0.001,0.01]\n",
    "# possible_learning_rate=[0.001]"
   ]
  },
  {
   "cell_type": "markdown",
   "metadata": {},
   "source": [
    "# Greedy Approch"
   ]
  },
  {
   "cell_type": "code",
   "execution_count": 4,
   "metadata": {},
   "outputs": [
    {
     "name": "stdout",
     "output_type": "stream",
     "text": [
      "Best model {'learning_rate': 0.01, 'num_neurons': 10, 'acti_fun': 'relu', 'loss': 0.0707, 'acc': 0.9917, 'val_loss': 1.889, 'val_acc': 0.614}\n",
      "Best model {'learning_rate': 0.0001, 'num_neurons': 30, 'acti_fun': 'relu', 'loss': 0.065, 'acc': 0.9917, 'val_loss': 0.9441, 'val_acc': 0.62}\n",
      "Best model {'learning_rate': 0.0001, 'num_neurons': 50, 'acti_fun': 'relu', 'loss': 0.1107, 'acc': 0.975, 'val_loss': 0.7596, 'val_acc': 0.656}\n",
      "Best model {'learning_rate': 0.001, 'num_neurons': 100, 'acti_fun': 'relu', 'loss': 0.0261, 'acc': 0.995, 'val_loss': 1.2794, 'val_acc': 0.616}\n",
      "Best model {'learning_rate': 0.001, 'num_neurons': 150, 'acti_fun': 'sigmoid', 'loss': 0.1497, 'acc': 1.0, 'val_loss': 0.7254, 'val_acc': 0.64}\n",
      "Best model {'learning_rate': 0.001, 'num_neurons': 200, 'acti_fun': 'sigmoid', 'loss': 0.1667, 'acc': 0.9917, 'val_loss': 0.7401, 'val_acc': 0.618}\n"
     ]
    }
   ],
   "source": [
    "kf = KFold(n_splits=10, random_state=1, shuffle=True)\n",
    "bestModelArray=[]\n",
    "for nN in number_neurons:\n",
    "    bestRes={'val_acc':0}\n",
    "    for el in possible_learning_rate:\n",
    "        for act in activation:\n",
    "                # Initialize model\n",
    "                model = exT.makeModel(nN,act,len(x_train.columns))\n",
    "                \n",
    "                # Instantiate an optimizer to train the model.\n",
    "                optimizer = keras.optimizers.SGD(learning_rate=el)\n",
    "                # Instantiate a loss function.\n",
    "                loss_fn = tf.keras.losses.BinaryCrossentropy()\n",
    "                res={\n",
    "                    \"learning_rate\":el,\n",
    "                    'num_neurons':nN,\n",
    "                    'acti_fun':act\n",
    "                }\n",
    "                \n",
    "                model.compile(optimizer=optimizer,loss=loss_fn,metrics=['accuracy'])\n",
    "\n",
    "                res=exT.trainBasic(res,x_train,y_train,\n",
    "                    x_test, y_test, \n",
    "                    model,\n",
    "                    kf,\n",
    "                    500\n",
    "                   \n",
    "                )\n",
    "                \n",
    "                #Saved the best model based on the accuracy\n",
    "                if(res['val_acc']>bestRes['val_acc']):\n",
    "                    bestModel=model\n",
    "                    bestRes=res\n",
    "                        \n",
    "                    \n",
    "                \n",
    "    print(\"Best model\",bestRes)\n",
    "    # bestModelArray.append(bestModel)\n",
    "    # f = open(\"saved_model_\"+stats+\"/summary.txt\", \"a\")\n",
    "    # tmpName=str(bestRes['num_neurons'])+\"_\"+str(bestRes['acti_fun'])+\"_\"+str(bestRes['learning_rate'])+\"_LOSS_\"+str(bestRes['loss'])+\"_ACC_\"+str(bestRes['acc'])+\"_LOSSVAL_\"+str(bestRes['val_loss'])+\"_ACCVAL_\"+str(bestRes['val_acc'])  \n",
    "    # f.write(tmpName+\"\\n\")\n",
    "    # f.close()\n"
   ]
  },
  {
   "cell_type": "markdown",
   "metadata": {},
   "source": [
    "Best model {'learning_rate': 0.001, 'num_neurons': 10, 'acti_fun': 'sigmoid', 'loss': 0.5643, 'acc': 0.7683, 'val_loss': 0.6574, 'val_acc': 0.63}\n",
    "Best model {'learning_rate': 0.01, 'num_neurons': 30, 'acti_fun': 'sigmoid', 'loss': 0.3488, 'acc': 0.8533, 'val_loss': 0.734, 'val_acc': 0.628}\n",
    "Best model {'learning_rate': 0.001, 'num_neurons': 50, 'acti_fun': 'relu', 'loss': 0.3494, 'acc': 0.8483, 'val_loss': 0.7065, 'val_acc': 0.628}\n",
    "Best model {'learning_rate': 0.001, 'num_neurons': 100, 'acti_fun': 'relu', 'loss': 0.3444, 'acc': 0.8483, 'val_loss': 0.702, 'val_acc': 0.638}\n",
    "Best model {'learning_rate': 0.001, 'num_neurons': 150, 'acti_fun': 'sigmoid', 'loss': 0.458, 'acc': 0.815, 'val_loss': 0.6561, 'val_acc': 0.666}\n",
    "Best model {'learning_rate': 0.01, 'num_neurons': 200, 'acti_fun': 'sigmoid', 'loss': 0.3282, 'acc': 0.855, 'val_loss': 0.7237, 'val_acc': 0.624"
   ]
  },
  {
   "cell_type": "markdown",
   "metadata": {},
   "source": [
    "# Save Model"
   ]
  },
  {
   "cell_type": "code",
   "execution_count": 18,
   "metadata": {},
   "outputs": [
    {
     "name": "stdout",
     "output_type": "stream",
     "text": [
      "INFO:tensorflow:Assets written to: saved_model_advance/bestModel\\assets\n"
     ]
    }
   ],
   "source": [
    "# bestModelArray[2].save(\"saved_model_\"+stats+\"/\"+\"bestModel\")\n",
    "# model = tf.keras.models.load_model('saved_model_'+stats+'/bestModel')\n"
   ]
  },
  {
   "cell_type": "markdown",
   "metadata": {},
   "source": [
    "# LIME "
   ]
  },
  {
   "cell_type": "code",
   "execution_count": null,
   "metadata": {},
   "outputs": [],
   "source": [
    "\n",
    "explainer = lime_tabular.LimeTabularExplainer(\n",
    "                        training_data=np.array(x_train),\n",
    "                        feature_names=x_train.columns,\n",
    "                        class_names=['win first team', 'win second team'],\n",
    "                        mode='classification'\n",
    "                    )\n",
    "answer=[]\n",
    "r=np.asarray(x_test)\n",
    "for i in range(len(x_test)):\n",
    "\n",
    "    tmp=model.predict(r[i][None,...])\n",
    "    # [1,0] (win first team ) and [0,1] (win second team)\n",
    "    boolean_vector=np.rint(tmp)==y_test[i]\n",
    "\n",
    "    if(boolean_vector.all()):\n",
    "            \n",
    "        exp = explainer.explain_instance(\n",
    "            data_row=x_test.iloc[i], \n",
    "            predict_fn=model.predict\n",
    "        )\n",
    "      \n",
    "        answer.append(exp.as_list())\n",
    "# exp.show_in_notebook(show_table=True)\n",
    "\n"
   ]
  },
  {
   "cell_type": "code",
   "execution_count": 35,
   "metadata": {},
   "outputs": [],
   "source": [
    "\n",
    "\n",
    "\n",
    "conclusion=[]\n",
    "absvalue=[]\n",
    "counts={}\n",
    "oblio=0\n",
    "for list in answer:\n",
    "    for el in list[0:4]:\n",
    "        \n",
    "        stat=[word for word in el[0].split() if word[0].isalpha()] \n",
    "        conclusion.append([stat[0],abs(el[1])])\n",
    "        if stat[0]  not in counts: \n",
    "            counts[stat[0]]=abs(el[1])\n",
    "        else:\n",
    "            \n",
    "            counts[stat[0]]=counts.get(stat[0])+abs(el[1])\n",
    "\n",
    "    oblio=1\n",
    "\n",
    "\n",
    "sortdict = dict(sorted(counts.items(), key=lambda x:x[1],reverse=True))\n"
   ]
  },
  {
   "cell_type": "code",
   "execution_count": null,
   "metadata": {},
   "outputs": [],
   "source": [
    "sortdict"
   ]
  }
 ],
 "metadata": {
  "kernelspec": {
   "display_name": "Python 3.9.13 ('BasketScripts': venv)",
   "language": "python",
   "name": "python3"
  },
  "language_info": {
   "codemirror_mode": {
    "name": "ipython",
    "version": 3
   },
   "file_extension": ".py",
   "mimetype": "text/x-python",
   "name": "python",
   "nbconvert_exporter": "python",
   "pygments_lexer": "ipython3",
   "version": "3.9.13"
  },
  "orig_nbformat": 4,
  "vscode": {
   "interpreter": {
    "hash": "f61b42334e39087fcf873d4b58ce314af401b80aed031fb5917bf158a5bb3c56"
   }
  }
 },
 "nbformat": 4,
 "nbformat_minor": 2
}
